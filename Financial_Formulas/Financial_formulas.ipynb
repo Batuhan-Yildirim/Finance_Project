{
 "cells": [
  {
   "cell_type": "code",
   "execution_count": 7,
   "metadata": {},
   "outputs": [],
   "source": [
    "# Core Libraries \n",
    "import pandas as pd\n",
    "import numpy as np\n",
    "\n",
    "# Datetime\n",
    "from datetime import datetime\n"
   ]
  },
  {
   "cell_type": "code",
   "execution_count": null,
   "metadata": {},
   "outputs": [],
   "source": [
    "# For Data\n",
    "import sys\n",
    "sys.path.insert(1,\"D:\\dosyalar\\Github\\Finance_Project\\Data_Sets\")\n",
    "import DataSets"
   ]
  },
  {
   "attachments": {},
   "cell_type": "markdown",
   "metadata": {},
   "source": [
    "## Data"
   ]
  },
  {
   "cell_type": "code",
   "execution_count": null,
   "metadata": {},
   "outputs": [],
   "source": [
    "TSLA_Data= DataSets.YahooFinance(\"TSLA\",\"StockPrices\")\n",
    "TSLA_Data \n"
   ]
  },
  {
   "cell_type": "code",
   "execution_count": null,
   "metadata": {},
   "outputs": [],
   "source": [
    "AAPL = DataSets.YahooFinance(\"AAPL\",\"StockPrices\")\n",
    "AAPL"
   ]
  },
  {
   "cell_type": "code",
   "execution_count": null,
   "metadata": {},
   "outputs": [],
   "source": [
    "SPY = DataSets.YahooFinance(\"AAPL\",\"StockPrices\")\n",
    "SPY"
   ]
  },
  {
   "attachments": {},
   "cell_type": "markdown",
   "metadata": {},
   "source": [
    "## Formulas"
   ]
  },
  {
   "cell_type": "code",
   "execution_count": null,
   "metadata": {},
   "outputs": [],
   "source": [
    "SP500_data = SPY\n",
    "Apple_data = AAPL\n",
    "Tesla_data = TSLA_Data\n",
    "\n",
    "SP500_2022 = SP500_data[(SP500_data.index >= \"2021-12-31\") & (SP500_data.index <= \"2022-12-31\")]\n",
    "SP500_2022 = SP500_2022[\"Close\"]\n",
    "\n",
    "AAPL_2022 = Apple_data[(Apple_data.index >= \"2021-12-31\") & (Apple_data.index <= \"2022-12-31\")]\n",
    "AAPL_2022 = AAPL_2022[\"Close\"]\n",
    "\n",
    "Tesla_2022 = Tesla_data[(Tesla_data.index >= \"2021-12-31\") & (Tesla_data.index <= \"2022-12-31\")]\n",
    "Tesla_2022 = Tesla_2022[\"Close\"]\n",
    "\n",
    "# Calculate the daily returns for the stock and the market index\n",
    "AAPL_returns  = AAPL_2022.pct_change()              # the return on an individual stock\n",
    "Tesla_returns = Tesla_2022.pct_change()\n",
    "SP500_returns = SP500_2022.pct_change()             # the return on an overall market\n",
    "\n",
    "# Calculate the covariance between the stock returns and the market index returns\n",
    "covariance   = AAPL_returns.cov(SP500_returns)\n",
    "covariance_2 = Tesla_returns.cov(SP500_returns)\n",
    "\n",
    "# Calculate the variance of the market index returns\n",
    "variance   = SP500_returns.var()\n",
    "\n",
    "# Calculate the beta coefficient\n",
    "beta   = covariance / variance\n",
    "beta_2 = covariance_2 / variance\n",
    "\n",
    "print(f'Beta coefficient for Apple Inc.: {beta:.2f}')\n",
    "print()\n",
    "print(f'Beta coefficient for Tesla Company: {beta_2:.2f}')"
   ]
  },
  {
   "cell_type": "code",
   "execution_count": null,
   "metadata": {},
   "outputs": [],
   "source": [
    "date_df = pd.DataFrame(pd.date_range(start='2017-12-31', end='2022-12-31', freq= \"Y\"))\n",
    "date_list = date_df[0].dt.strftime(\"%Y-%m-%d\")\n",
    "date_list = date_list.to_list()\n",
    "\n",
    "New_SP500 = {}\n",
    "New_APPL  = {}\n",
    "New_TSLA  = {}\n",
    "New_APPL_returns = {}\n",
    "New_TSLA_returns = {}\n",
    "New_SP500_returns = {}\n",
    "cov = {}\n",
    "cov_2 = {}\n",
    "var = {}\n",
    "var = {}\n",
    "Apple_Beta = []\n",
    "Tesla_Beta = []\n",
    "Beta = []\n",
    "for i in np.arange(0,len(date_list)):\n",
    "    z = i + 1\n",
    "    \n",
    "    if z < 6:\n",
    "        x_SP    = SP500_data[(SP500_data.index >= f\"{date_list[i]}\") & (SP500_data.index <= f\"{date_list[z]}\")]\n",
    "        y_AAPL  = Apple_data[(Apple_data.index >= f\"{date_list[i]}\") & (Apple_data.index <= f\"{date_list[z]}\")]\n",
    "        k_TSLA  = Tesla_data[(Tesla_data.index >= f\"{date_list[i]}\") & (Tesla_data.index <= f\"{date_list[z]}\")]\n",
    "        New_SP500[i] = pd.DataFrame(x_SP)\n",
    "        New_APPL[i]  = pd.DataFrame(y_AAPL)\n",
    "        New_TSLA[i]  = pd.DataFrame(k_TSLA)\n",
    "    else:\n",
    "        pass\n",
    "\n",
    "for n in np.arange(0, 5):\n",
    "\n",
    "    New_APPL[n]  = pd.DataFrame(New_APPL[n][\"Close\"])\n",
    "    New_APPL_returns[n]  = pd.DataFrame(New_APPL[n][\"Close\"]).pct_change()\n",
    "\n",
    "    New_TSLA[n]  = pd.DataFrame(New_TSLA[n][\"Close\"])\n",
    "    New_TSLA_returns[n]  = pd.DataFrame(New_TSLA[n][\"Close\"]).pct_change()\n",
    "    \n",
    "    New_SP500[n] = pd.DataFrame(New_SP500[n][\"Close\"])\n",
    "    New_SP500_returns[n] = pd.DataFrame(New_SP500[n][\"Close\"]).pct_change()\n",
    "\n",
    "\n",
    "    New_APPL_returns[n][np.isnan(New_APPL_returns[n]) | np.isinf(New_APPL_returns[n])] = 0\n",
    "    New_TSLA_returns[n][np.isnan(New_TSLA_returns[n]) | np.isinf(New_TSLA_returns[n])] = 0\n",
    "    New_SP500_returns[n][np.isnan(New_SP500_returns[n]) | np.isinf(New_SP500_returns[n])] = 0\n",
    "    \n",
    "    cov[n] = np.cov(New_APPL_returns[n][\"Close\"].values, New_SP500_returns[n][\"Close\"].values)[0][1]\n",
    "    cov_2[n] = np.cov(New_TSLA_returns[n][\"Close\"].values,New_SP500_returns[n][\"Close\"].values)[0][1]\n",
    "    var[n] = np.var(New_SP500_returns[n][\"Close\"].values)\n",
    "\n",
    "    x = cov[n] / var[n]\n",
    "    y = cov_2[n] / var[n]\n",
    "\n",
    "    Apple_Beta.append(x)\n",
    "    Tesla_Beta.append(y)\n",
    "\n",
    "Beta = pd.DataFrame(index = date_list[1:])\n",
    "Beta[\"APPL Beta Coff.\"] = Apple_Beta\n",
    "Beta[\"TSLA Beta Coff.\"] = Tesla_Beta\n",
    "Beta"
   ]
  },
  {
   "cell_type": "code",
   "execution_count": null,
   "metadata": {},
   "outputs": [],
   "source": [
    "AAPL_FS = DataSets.Alphavantage(\"AAPL\",\"FinancialStatements\")\n"
   ]
  },
  {
   "cell_type": "code",
   "execution_count": null,
   "metadata": {},
   "outputs": [],
   "source": [
    "AAPL_FS[1]"
   ]
  },
  {
   "cell_type": "code",
   "execution_count": null,
   "metadata": {},
   "outputs": [],
   "source": [
    "TotalDebt = AAPL_FS[1][AAPL_FS[1][\"fiscalDateEnding\"] == \"Current Debt\"].values[0][1:] + AAPL_FS[1][AAPL_FS[1][\"fiscalDateEnding\"] == \"Long Term Debt Noncurrent\"].values[0][1:]\n",
    "\n",
    "Current_liabilities   = AAPL_FS[1][AAPL_FS[1][\"fiscalDateEnding\"] == \"Total Current Liabilities\"].values[0][1:]\n",
    "Current_asset         = AAPL_FS[1][AAPL_FS[1][\"fiscalDateEnding\"] == \"Total Current Assets\"].values[0][1:]\n",
    "Total_Debt            = TotalDebt\n",
    "Total_equity          = AAPL_FS[1][AAPL_FS[1][\"fiscalDateEnding\"] == \"Total Shareholder Equity\"].values[0][1:]\n",
    "Long_term_debt        = AAPL_FS[1][AAPL_FS[1][\"fiscalDateEnding\"] == \"Long Term Debt Noncurrent\"].values[0][1:]\n",
    "Net_income            = AAPL_FS[2][AAPL_FS[2][\"fiscalDateEnding\"] == \"Net Income\"].values[0][1:]\n",
    "Dividends             = AAPL_FS[2][AAPL_FS[2][\"fiscalDateEnding\"] == \"Dividend Payout\"].values[0][1:]\n",
    "Outstanding_share     = AAPL_FS[1][AAPL_FS[1][\"fiscalDateEnding\"] == \"Common Stock Shares Outstanding\"].values[0][1:]\n",
    "Revenue               = AAPL_FS[0][AAPL_FS[0][\"fiscalDateEnding\"] == \"Total Revenue\"].values[0][1:]\n",
    "Total_asset           = AAPL_FS[1][AAPL_FS[1][\"fiscalDateEnding\"] == \"Total Assets\"].values[0][1:]\n",
    "\n",
    "NetWorkingCapital = []\n",
    "CurrentRatio = []\n",
    "DERatio  = []\n",
    "FinancialLeverage = []\n",
    "EPSRatio  = []\n",
    "ROE = []\n",
    "ProfitMargin  = []\n",
    "AssetTurnOverRatio = []\n",
    "\n",
    "for i in np.arange(0,len(Current_asset)):\n",
    "    Net_Working_Capital     = Current_asset[i] - Current_liabilities[i]\n",
    "    Current_Ratio           = float(Current_asset[i]) / float(Current_liabilities[i])\n",
    "    DE_Ratio                = float(Total_Debt[i])    / float(Total_equity[i])\n",
    "    Fianancial_Leverage     = float(Total_asset[i])    / float(Total_equity[i])\n",
    "    EPS_Ratio               = ((Net_income[i] - Dividends[i]) / Outstanding_share[i])\n",
    "    R_O_E                   = float(Net_income[i]) / float(Total_equity[i])\n",
    "    Profit_Margin           = float(Net_income[i]) / float(Revenue[i])\n",
    "    Asset_Turn_over_ratio   = float(Revenue[i]) / (float(Total_asset[i])/2)\n",
    "    \n",
    "    NetWorkingCapital.append(Net_Working_Capital)\n",
    "    CurrentRatio.append(Current_Ratio)\n",
    "    DERatio.append(DE_Ratio)\n",
    "    FinancialLeverage.append(Fianancial_Leverage)\n",
    "    EPSRatio.append(EPS_Ratio)\n",
    "    ROE.append(R_O_E)\n",
    "    ProfitMargin.append(Profit_Margin)\n",
    "    AssetTurnOverRatio.append(Asset_Turn_over_ratio)\n",
    "\n",
    "\n",
    "AAPL_Ratios = pd.DataFrame(NetWorkingCapital, columns = [\"Net Working Capital\"])\n",
    "AAPL_Ratios = pd.DataFrame(AAPL_Ratios[\"Net Working Capital\"])\n",
    "AAPL_Ratios[\"Current Ratio\"] = CurrentRatio\n",
    "AAPL_Ratios[\"Current Ratio\"] = AAPL_Ratios[\"Current Ratio\"].map(\"{:,.2f}%\".format)\n",
    "AAPL_Ratios[\"D/E Ratio\"] = DERatio\n",
    "AAPL_Ratios[\"D/E Ratio\"] = AAPL_Ratios[\"D/E Ratio\"].map(\"{:,.2f}%\".format)\n",
    "AAPL_Ratios[\"EPS Ratio\"] = EPSRatio\n",
    "AAPL_Ratios[\"EPS Ratio\"] = AAPL_Ratios[\"EPS Ratio\"].map(\"{:,.2f}%\".format)\n",
    "AAPL_Ratios[\"Profit Margin\"] = ProfitMargin\n",
    "AAPL_Ratios[\"Profit Margin\"] = AAPL_Ratios[\"Profit Margin\"].map(\"{:,.2f}%\".format)\n",
    "AAPL_Ratios[\"Asset Turnover Ratio\"] = AssetTurnOverRatio\n",
    "AAPL_Ratios[\"Asset Turnover Ratio\"] = AAPL_Ratios[\"Asset Turnover Ratio\"].map(\"{:,.2f}%\".format)\n",
    "AAPL_Ratios[\"Financial Leverage Ratio\"] = FinancialLeverage\n",
    "AAPL_Ratios[\"Financial Leverage Ratio\"] = AAPL_Ratios[\"Financial Leverage Ratio\"].map(\"{:,.2f}%\".format)\n",
    "AAPL_Ratios[\"DuPont ROE\"] = ROE\n",
    "AAPL_Ratios[\"DuPont ROE\"] = AAPL_Ratios[\"DuPont ROE\"].map(\"{:,.2f}%\".format)\n",
    "AAPL_Ratios.index = AAPL_FS[0].columns.values[1:]\n",
    "\n",
    "AAPL_Ratios.index.name = \"Apple Inc.\"\n",
    "\n",
    "AppleBeta = Apple_Beta[::-1]\n",
    "AAPL_Ratios[\"Beta Coff.\"] = AppleBeta\n",
    "AAPL_Ratios"
   ]
  },
  {
   "attachments": {},
   "cell_type": "markdown",
   "metadata": {},
   "source": [
    "### WACC (Weighted Average Cost of Capital)"
   ]
  },
  {
   "attachments": {},
   "cell_type": "markdown",
   "metadata": {},
   "source": [
    "https://www.youtube.com/watch?v=yIJjUzyNGqg&ab_channel=Dividendology"
   ]
  },
  {
   "cell_type": "code",
   "execution_count": null,
   "metadata": {},
   "outputs": [],
   "source": [
    "AAPL_Last_Stock_Price = DataSets.YahooFinance(\"AAPL\",\"StockPrices\",\"min\")\n",
    "AAPL_Last_Stock_Price"
   ]
  },
  {
   "cell_type": "code",
   "execution_count": null,
   "metadata": {},
   "outputs": [],
   "source": [
    "Market_value_of_equity = Outstanding_share[0] * AAPL_Last_Stock_Price[\"Close\"].values[0]\n",
    "Market_value_of_equity"
   ]
  },
  {
   "attachments": {},
   "cell_type": "markdown",
   "metadata": {},
   "source": [
    "#### Cost of Debt"
   ]
  },
  {
   "attachments": {},
   "cell_type": "markdown",
   "metadata": {},
   "source": [
    "https://analystanswers.com/total-debt-definition-formula-step-by-step-examples/"
   ]
  },
  {
   "cell_type": "code",
   "execution_count": null,
   "metadata": {},
   "outputs": [],
   "source": [
    "Cost_of_debt = pd.DataFrame()\n",
    "Cost_of_debt[\"Interest_expense\"] = [AAPL_FS[0][AAPL_FS[0][\"fiscalDateEnding\"] == \"Interest Expense\"].values[0][1]]\n",
    "Cost_of_debt[\"Total Debt\"] = [TotalDebt[0]]\n",
    "Cost_of_debt[\"Cost_debt\"] = [(Cost_of_debt.iloc[0][\"Interest_expense\"] / Cost_of_debt.iloc[0][\"Total Debt\"])]\n",
    "Cost_of_debt[\"Income_tax_expense\"] = [AAPL_FS[0][AAPL_FS[0][\"fiscalDateEnding\"] == \"Income Tax Expense\"].values[0][1]]\n",
    "Cost_of_debt[\"Before_Income_tax\"] = [AAPL_FS[0][AAPL_FS[0][\"fiscalDateEnding\"] == \"Income Before Tax\"].values[0][1]] \n",
    "Cost_of_debt[\"Effective_tax_rate\"]= Cost_of_debt[\"Income_tax_expense\"] / Cost_of_debt[\"Before_Income_tax\"]\n",
    "Cost_of_debt[\"Cost_of_debt_after_tax\"] = Cost_of_debt[\"Cost_debt\"] * (1 - Cost_of_debt[\"Effective_tax_rate\"])\n",
    "Cost_of_debt "
   ]
  },
  {
   "attachments": {},
   "cell_type": "markdown",
   "metadata": {},
   "source": [
    "#### Cost of Equity"
   ]
  },
  {
   "cell_type": "code",
   "execution_count": null,
   "metadata": {},
   "outputs": [],
   "source": [
    "SP_500 = SPY[SPY.index >= \"2021-01-01\"]\n",
    "SP_500 = SP_500[\"Close\"]\n",
    "Apple  = Apple_data[Apple_data.index >= \"2021-01-01\"]\n",
    "Apple  = Apple[\"Close\"]\n",
    "\n",
    "SP_500_r = SP_500.pct_change()\n",
    "Apple_r  = Apple.pct_change()\n",
    "\n",
    "cov = Apple_r.cov(SP_500_r) \n",
    "var = SP_500_r.var()\n",
    "\n",
    "bet_a = cov / var\n",
    "bet_a\n",
    "\n",
    "Cost_of_Equity = pd.DataFrame()\n",
    "Cost_of_Equity[\"Beta\"] = [bet_a]\n",
    "Cost_of_Equity[\"Market_return\"] = [0.09]\n",
    "Cost_of_Equity[\"Risk_Free_Rate\"] = [(DataSets.YahooFinance(\"^TNX\",\"StockPrices\",\"10y\").iloc[-1][\"Close\"])/100]\n",
    "Cost_of_Equity[\"Cost_of_Equity\"] = abs(Cost_of_Equity[\"Risk_Free_Rate\"] + Cost_of_Equity[\"Beta\"]*(Cost_of_Equity[\"Market_return\"] - Cost_of_Equity[\"Risk_Free_Rate\"]))\n",
    "Cost_of_Equity\n"
   ]
  },
  {
   "attachments": {},
   "cell_type": "markdown",
   "metadata": {},
   "source": [
    "#### Weight of Debt and Equity"
   ]
  },
  {
   "cell_type": "code",
   "execution_count": null,
   "metadata": {},
   "outputs": [],
   "source": [
    "WACC = pd.DataFrame()\n",
    "WACC[\"Total\"] = [TotalDebt[0] + Market_value_of_equity]\n",
    "WACC[\"W_Total Debt\"] = Cost_of_debt[\"Total Debt\"] / WACC[\"Total\"]\n",
    "WACC[\"W_MarketCap\"]  = Market_value_of_equity / WACC[\"Total\"]\n",
    "WACC"
   ]
  },
  {
   "cell_type": "code",
   "execution_count": null,
   "metadata": {},
   "outputs": [],
   "source": [
    "wacc = Cost_of_debt[\"Cost_debt\"]*WACC[\"W_Total Debt\"]*(1-Cost_of_debt[\"Effective_tax_rate\"]) + Cost_of_Equity[\"Cost_of_Equity\"]*WACC[\"W_MarketCap\"]\n",
    "wacc = f\"Weighted average cost of capital: {wacc}\"\n",
    "print(wacc)"
   ]
  },
  {
   "attachments": {},
   "cell_type": "markdown",
   "metadata": {},
   "source": [
    "### Altman Z-Score"
   ]
  },
  {
   "attachments": {},
   "cell_type": "markdown",
   "metadata": {},
   "source": [
    "Altman Z-Score = 1.2A + 1.4B + 3.3C + 0.6D + 1.0E\n",
    "\n",
    "Where:\n",
    "\n",
    "A = working capital / total assets\n",
    "B = retained earnings / total assets\n",
    "C = earnings before interest and tax / total assets\n",
    "D = market value of equity / total liabilities\n",
    "E = sales /total assets"
   ]
  },
  {
   "attachments": {},
   "cell_type": "markdown",
   "metadata": {},
   "source": [
    "An Altman Z-score close to 0 suggests a company might be headed for bankruptcy, while a score closer to 3 suggests a company is in solid financial positioning."
   ]
  },
  {
   "cell_type": "code",
   "execution_count": null,
   "metadata": {},
   "outputs": [],
   "source": [
    "Gs_stok_price = DataSets.YahooFinance(\"GS\",\"StockPrices\",\"min\")\n",
    "Gs_stok_price"
   ]
  },
  {
   "cell_type": "code",
   "execution_count": null,
   "metadata": {},
   "outputs": [],
   "source": [
    "Goldman_Sachs = DataSets.Alphavantage(\"GS\",\"FinancialStatements\")"
   ]
  },
  {
   "cell_type": "code",
   "execution_count": null,
   "metadata": {},
   "outputs": [],
   "source": [
    "Goldman_Sachs[1]"
   ]
  },
  {
   "cell_type": "code",
   "execution_count": null,
   "metadata": {},
   "outputs": [],
   "source": [
    "Last_Stock_Price = DataSets.YahooFinance(\"GS\",\"StockPrices\")\n",
    "\n",
    "Last_weekday = []\n",
    "for i in np.arange(0,5):\n",
    "    current_date = datetime.now().date()\n",
    "    one_year_ago = current_date - pd.DateOffset(years=i)\n",
    "    business_days = pd.bdate_range(end=one_year_ago, periods=7)\n",
    "    last_friday = [business_days[business_days.weekday == 4].max()]\n",
    "\n",
    "    Last_weekday.append(last_friday)\n",
    "\n",
    "Last_weekday = pd.DataFrame(Last_weekday)\n",
    "Last_weekday[0] = pd.DatetimeIndex(Last_weekday[0].dt.strftime(\"%Y-%m-%d\"))\n",
    "        \n",
    "values = []\n",
    "for i in np.arange(0,len(Last_weekday)):\n",
    "    Data_prices = Last_Stock_Price[\"Close\"][Last_Stock_Price.index == Last_weekday.iloc[i][0]]\n",
    "    values.append(Data_prices)\n",
    "values = pd.DataFrame(values)\n",
    "        \n",
    "df_without_nan = values.dropna(axis = 0, how= \"all\")\n",
    "LastStockPrice = df_without_nan.values.flatten()\n",
    "LastStockPrice = pd.DataFrame(LastStockPrice)\n",
    "LastStockPrice = LastStockPrice.dropna()\n",
    "LastStockPrice.index = Last_weekday[0]\n",
    "\n",
    "LastStockPrice"
   ]
  },
  {
   "cell_type": "code",
   "execution_count": null,
   "metadata": {},
   "outputs": [],
   "source": [
    "GS_working_capital = Goldman_Sachs[1][Goldman_Sachs[1][\"fiscalDateEnding\"] == \"Total Current Assets\"].values[0][1] - Goldman_Sachs[1][Goldman_Sachs[1][\"fiscalDateEnding\"] == \"Total Current Liabilities\"].values[0][1]\n",
    "\n",
    "A = GS_working_capital / Goldman_Sachs[1][Goldman_Sachs[1][\"fiscalDateEnding\"] == \"Total Assets\"].values[0][1]\n",
    " \n",
    "B = Goldman_Sachs[1][Goldman_Sachs[1][\"fiscalDateEnding\"] == \"Retained Earnings\"].values[0][1] / Goldman_Sachs[1][Goldman_Sachs[1][\"fiscalDateEnding\"] == \"Total Assets\"].values[0][1]\n",
    "\n",
    "C = Goldman_Sachs[0][Goldman_Sachs[0][\"fiscalDateEnding\"] == \"Ebit\"].values[0][1] / Goldman_Sachs[1][Goldman_Sachs[1][\"fiscalDateEnding\"] == \"Total Assets\"].values[0][1]\n",
    "\n",
    "Market_value_of_equity_GS = Goldman_Sachs[1][Goldman_Sachs[1][\"fiscalDateEnding\"] == \"Common Stock Shares Outstanding\"].values[0][1] * LastStockPrice[0].values[0]\n",
    "\n",
    "D = Market_value_of_equity_GS / Goldman_Sachs[1][Goldman_Sachs[1][\"fiscalDateEnding\"] == \"Total Liabilities\"].values[0][1]\n",
    "\n",
    "Revenue = Goldman_Sachs[0][Goldman_Sachs[0][\"fiscalDateEnding\"] == \"Net Interest Income\"].values[0][1] + Goldman_Sachs[0][Goldman_Sachs[0][\"fiscalDateEnding\"] == \"Non Interest Income\"].values[0][1]\n",
    "\n",
    "E = Revenue / Goldman_Sachs[1][Goldman_Sachs[1][\"fiscalDateEnding\"] == \"Total Assets\"].values[0][1]\n",
    "\n",
    "AltmanZScore = pd.DataFrame()\n",
    "AltmanZScore[\"A\"] = [A]\n",
    "AltmanZScore[\"B\"] = [B]\n",
    "AltmanZScore[\"C\"] = [C]\n",
    "AltmanZScore[\"D\"] = [D]\n",
    "AltmanZScore[\"E\"] = [E]\n",
    "AltmanZScore[\"Score\"] = [(1.2*A) + (1.4*B) + (3.3*C) + (0.6*D) + (1.0*E)]\n",
    "\n",
    "AltmanZScore.index.name = \"Goldman Sachs\"\n",
    "AltmanZScore"
   ]
  },
  {
   "attachments": {},
   "cell_type": "markdown",
   "metadata": {},
   "source": [
    "#### Springate score"
   ]
  },
  {
   "attachments": {},
   "cell_type": "markdown",
   "metadata": {},
   "source": [
    "Springate score = 1.03A + 3.07B + .66C + .4D\n",
    "\n",
    "A = Working capital / Total assets\n",
    "B = EBIT / Total assets\n",
    "C = Profit before tax / Current liabilities\n",
    "D = Revenue / Total assets"
   ]
  },
  {
   "cell_type": "code",
   "execution_count": null,
   "metadata": {},
   "outputs": [],
   "source": [
    "X = Goldman_Sachs[0][Goldman_Sachs[0][\"fiscalDateEnding\"] == \"Income Before Tax\"].values[0][1] / Goldman_Sachs[1][Goldman_Sachs[1][\"fiscalDateEnding\"] == \"Total Liabilities\"].values[0][1]\n",
    "Y = Revenue / Goldman_Sachs[1][Goldman_Sachs[1][\"fiscalDateEnding\"] == \"Total Assets\"].values[0][1]\n",
    "\n",
    "Springate = pd.DataFrame()\n",
    "Springate[\"A\"] = [A]\n",
    "Springate[\"B\"] = [C]\n",
    "Springate[\"C\"] = [X]\n",
    "Springate[\"D\"] = [Y]\n",
    "Springate[\"Score\"] = [(1.03*A) + (3.07*C) + (0.66*X) + (0.4*Y)]\n",
    "\n",
    "Springate"
   ]
  },
  {
   "attachments": {},
   "cell_type": "markdown",
   "metadata": {},
   "source": [
    "#### Zmijewski Score"
   ]
  },
  {
   "attachments": {},
   "cell_type": "markdown",
   "metadata": {},
   "source": [
    "Zmijewski Score = -4.336 - [4.513 * (Net Income / Total Assets)] + [5.679 * (Total Liabilities / Total Assets)] + [0.004 * (Current Assets / Current Liabilities)]"
   ]
  },
  {
   "cell_type": "code",
   "execution_count": null,
   "metadata": {},
   "outputs": [],
   "source": [
    "A_1 = Goldman_Sachs[0][Goldman_Sachs[0][\"fiscalDateEnding\"] == \"Net Income\"].values[0][1] / Goldman_Sachs[1][Goldman_Sachs[1][\"fiscalDateEnding\"] == \"Total Assets\"].values[0][1]\n",
    "B_1 = Goldman_Sachs[1][Goldman_Sachs[1][\"fiscalDateEnding\"] == \"Total Liabilities\"].values[0][1] / Goldman_Sachs[1][Goldman_Sachs[1][\"fiscalDateEnding\"] == \"Total Assets\"].values[0][1]\n",
    "C_1 = Goldman_Sachs[1][Goldman_Sachs[1][\"fiscalDateEnding\"] == \"Total Current Assets\"].values[0][1] / Goldman_Sachs[1][Goldman_Sachs[1][\"fiscalDateEnding\"] == \"Total Current Liabilities\"].values[0][1]\n",
    "\n",
    "constant = -4.336\n",
    "constant_2 = -4.513\n",
    "\n",
    "ZM_score = pd.DataFrame()\n",
    "ZM_score[\"4336\"] = [constant]\n",
    "ZM_score[\"4513\"] = [C]\n",
    "ZM_score[\"5679\"] = [X]\n",
    "ZM_score[\"0004\"] = [Y]\n",
    "ZM_score[\"Score\"] = [(constant) + (constant_2*A_1) + (5.679*B_1) + (0.004 * C_1)]\n",
    "\n",
    "ZM_score"
   ]
  },
  {
   "attachments": {},
   "cell_type": "markdown",
   "metadata": {},
   "source": [
    "## Option Models"
   ]
  },
  {
   "attachments": {},
   "cell_type": "markdown",
   "metadata": {},
   "source": [
    "### Black-Scholes Model"
   ]
  },
  {
   "attachments": {},
   "cell_type": "markdown",
   "metadata": {},
   "source": [
    "S : current asset price\n",
    "\n",
    "K: strike price of the option\n",
    "\n",
    "r: risk free rate \n",
    "\n",
    "T : time until option expiration \n",
    "\n",
    "σ: annualized volatility of the asset's returns "
   ]
  },
  {
   "cell_type": "code",
   "execution_count": 8,
   "metadata": {},
   "outputs": [],
   "source": [
    "from scipy.stats import norm\n",
    "\n",
    "def blackScholes(r, S, K, T, sigma, type=\"c\"):\n",
    "    \"Calculate BS price of call/put\"\n",
    "    d1 = (np.log(S/K) + (r + sigma**2/2)*T)/(sigma*np.sqrt(T))\n",
    "    d2 = d1 - sigma*np.sqrt(T)\n",
    "    try:\n",
    "        if type == \"c\":\n",
    "            price = S*norm.cdf(d1, 0, 1) - K*np.exp(-r*T)*norm.cdf(d2, 0, 1)\n",
    "        elif type == \"p\":\n",
    "            price = K*np.exp(-r*T)*norm.cdf(-d2, 0, 1) - S*norm.cdf(-d1, 0, 1)\n",
    "        return price\n",
    "    except:\n",
    "        print(\"Please confirm option type, either 'c' for Call or 'p' for Put!\")"
   ]
  },
  {
   "cell_type": "code",
   "execution_count": 14,
   "metadata": {},
   "outputs": [
    {
     "data": {
      "text/plain": [
       "120.0"
      ]
     },
     "execution_count": 14,
     "metadata": {},
     "output_type": "execute_result"
    }
   ],
   "source": [
    "blackScholes(0.1,120,100,1,100, type=\"c\")"
   ]
  },
  {
   "cell_type": "code",
   "execution_count": 15,
   "metadata": {},
   "outputs": [
    {
     "name": "stdout",
     "output_type": "stream",
     "text": [
      "{'call': 16.73413358238666, 'put': 7.217875385982609}\n"
     ]
    }
   ],
   "source": [
    "class BsOption:\n",
    "    def __init__(self, S, K, T, r, sigma, q=0):\n",
    "        self.S = S\n",
    "        self.K = K\n",
    "        self.T = T\n",
    "        self.r = r \n",
    "        self.sigma = sigma\n",
    "        self.q = q\n",
    "        \n",
    "    \n",
    "    @staticmethod\n",
    "    def N(x):\n",
    "        return norm.cdf(x)\n",
    "    \n",
    "    @property\n",
    "    def params(self):\n",
    "        return {'S': self.S, \n",
    "                'K': self.K, \n",
    "                'T': self.T, \n",
    "                'r':self.r,\n",
    "                'q':self.q,\n",
    "                'sigma':self.sigma}\n",
    "    \n",
    "    def d1(self):\n",
    "        return (np.log(self.S/self.K) + (self.r -self.q + self.sigma**2/2)*self.T) \\\n",
    "                                / (self.sigma*np.sqrt(self.T))\n",
    "    \n",
    "    def d2(self):\n",
    "        return self.d1() - self.sigma*np.sqrt(self.T)\n",
    "    \n",
    "    def _call_value(self):\n",
    "        return self.S*np.exp(-self.q*self.T)*self.N(self.d1()) - \\\n",
    "                    self.K*np.exp(-self.r*self.T) * self.N(self.d2())\n",
    "                    \n",
    "    def _put_value(self):\n",
    "        return self.K*np.exp(-self.r*self.T) * self.N(-self.d2()) -\\\n",
    "                self.S*np.exp(-self.q*self.T)*self.N(-self.d1())\n",
    "    \n",
    "    def price(self, type_ = 'C'):\n",
    "        if type_ == 'C':\n",
    "            return self._call_value()\n",
    "        if type_ == 'P':\n",
    "            return self._put_value() \n",
    "        if type_ == 'B':\n",
    "            return  {'call': self._call_value(), 'put': self._put_value()}\n",
    "        else:\n",
    "            raise ValueError('Unrecognized type')\n",
    "                       \n",
    "        \n",
    "        \n",
    "if __name__ == '__main__':\n",
    "    K = 100\n",
    "    r = 0.1\n",
    "    T = 1\n",
    "    sigma = 0.3\n",
    "    S = 100\n",
    "    print(BsOption(S, K, T, r, sigma).price('B'))"
   ]
  }
 ],
 "metadata": {
  "kernelspec": {
   "display_name": "Python 3",
   "language": "python",
   "name": "python3"
  },
  "language_info": {
   "codemirror_mode": {
    "name": "ipython",
    "version": 3
   },
   "file_extension": ".py",
   "mimetype": "text/x-python",
   "name": "python",
   "nbconvert_exporter": "python",
   "pygments_lexer": "ipython3",
   "version": "3.9.5"
  },
  "orig_nbformat": 4
 },
 "nbformat": 4,
 "nbformat_minor": 2
}
