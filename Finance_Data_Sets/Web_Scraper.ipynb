{
 "cells": [
  {
   "cell_type": "code",
   "execution_count": 5,
   "metadata": {},
   "outputs": [],
   "source": [
    "# Core Libraries \n",
    "import pandas as pd\n",
    "import datetime\n",
    "import requests\n",
    "from requests.exceptions import ConnectionError\n",
    "from bs4 import BeautifulSoup\n"
   ]
  },
  {
   "attachments": {},
   "cell_type": "markdown",
   "metadata": {},
   "source": [
    "# Money CNN"
   ]
  },
  {
   "cell_type": "code",
   "execution_count": 6,
   "metadata": {},
   "outputs": [],
   "source": [
    "def RealTimePrice(self):\n",
    "    try:\n",
    "        web_url = \"https://money.cnn.com/quote/quote.html?utm_source=quote_search&symb=\" + self\n",
    "        web_request = requests.get(web_url)\n",
    "\n",
    "        content = BeautifulSoup(web_request.text, \"lxml\")\n",
    "\n",
    "        Data = content.find(\"td\", {\"class\":\"wsod_change\"})\n",
    "        Data = Data.find_all(\"span\")\n",
    "        \n",
    "        Price_Change = Data[2].get_text()\n",
    "        Price_Change_Per = Data[-1].get_text()\n",
    "        \n",
    "\n",
    "        RealTimePrice = [Price_Change,Price_Change_Per]\n",
    "    \n",
    "    except IndexError:\n",
    "         RealTimePrice = []\n",
    "    \n",
    "    return RealTimePrice\n",
    "    "
   ]
  },
  {
   "cell_type": "code",
   "execution_count": 7,
   "metadata": {},
   "outputs": [
    {
     "data": {
      "text/plain": [
       "['+1.47', '+3.29%']"
      ]
     },
     "execution_count": 7,
     "metadata": {},
     "output_type": "execute_result"
    }
   ],
   "source": [
    "RealTimePrice(\"C\")"
   ]
  }
 ],
 "metadata": {
  "kernelspec": {
   "display_name": "Python 3",
   "language": "python",
   "name": "python3"
  },
  "language_info": {
   "codemirror_mode": {
    "name": "ipython",
    "version": 3
   },
   "file_extension": ".py",
   "mimetype": "text/x-python",
   "name": "python",
   "nbconvert_exporter": "python",
   "pygments_lexer": "ipython3",
   "version": "3.9.5"
  },
  "orig_nbformat": 4
 },
 "nbformat": 4,
 "nbformat_minor": 2
}
