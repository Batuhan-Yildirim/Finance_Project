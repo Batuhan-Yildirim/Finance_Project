{
 "cells": [
  {
   "cell_type": "code",
   "execution_count": 1,
   "metadata": {},
   "outputs": [],
   "source": [
    "# Core Libraries \n",
    "import pandas as pd\n",
    "import datetime\n",
    "import requests\n",
    "from requests.exceptions import ConnectionError\n",
    "from bs4 import BeautifulSoup\n"
   ]
  },
  {
   "cell_type": "code",
   "execution_count": 11,
   "metadata": {},
   "outputs": [
    {
     "data": {
      "text/plain": [
       "[                                                     0  \\\n",
       " 0    List of Companies (Corrected) A | B | C | D | ...   \n",
       " 1                                                  NaN   \n",
       " 2                                                  NaN   \n",
       " 3                                                  NaN   \n",
       " 4                                                  NaN   \n",
       " ..                                                 ...   \n",
       " 943                                                NaN   \n",
       " 944                                                NaN   \n",
       " 945                                                NaN   \n",
       " 946                                                NaN   \n",
       " 947                                                NaN   \n",
       " \n",
       "                                                      1  \n",
       " 0    List of Companies (Corrected) A | B | C | D | ...  \n",
       " 1                                            3Com Corp  \n",
       " 2                                           3M Company  \n",
       " 3                                    A.G. Edwards Inc.  \n",
       " 4                                  Abbott Laboratories  \n",
       " ..                                                 ...  \n",
       " 943                                 Yellow Corporation  \n",
       " 944                            York International Corp  \n",
       " 945                                    Yum Brands Inc.  \n",
       " 946                                   Zale Corporation  \n",
       " 947                               Zions Bancorporation  \n",
       " \n",
       " [948 rows x 2 columns],\n",
       "                       0                     1\n",
       " 0  Home | Previous Page  Modified: 07/02/2002]"
      ]
     },
     "execution_count": 11,
     "metadata": {},
     "output_type": "execute_result"
    }
   ],
   "source": [
    "data = pd.read_html(\"https://www.sec.gov/rules/other/4-460list.htm#a\")\n",
    "data"
   ]
  },
  {
   "cell_type": "code",
   "execution_count": 15,
   "metadata": {},
   "outputs": [
    {
     "data": {
      "text/plain": [
       "0      List of Companies (Corrected) A | B | C | D | ...\n",
       "1                                              3Com Corp\n",
       "2                                             3M Company\n",
       "3                                      A.G. Edwards Inc.\n",
       "4                                    Abbott Laboratories\n",
       "                             ...                        \n",
       "943                                   Yellow Corporation\n",
       "944                              York International Corp\n",
       "945                                      Yum Brands Inc.\n",
       "946                                     Zale Corporation\n",
       "947                                 Zions Bancorporation\n",
       "Name: 1, Length: 948, dtype: object"
      ]
     },
     "execution_count": 15,
     "metadata": {},
     "output_type": "execute_result"
    }
   ],
   "source": [
    "data[0][1]"
   ]
  },
  {
   "attachments": {},
   "cell_type": "markdown",
   "metadata": {},
   "source": [
    "# Money CNN"
   ]
  },
  {
   "cell_type": "code",
   "execution_count": null,
   "metadata": {},
   "outputs": [],
   "source": [
    "def RealTimePrice(self):\n",
    "    try:\n",
    "        web_url = \"https://money.cnn.com/quote/quote.html?utm_source=quote_search&symb=\" + self\n",
    "        web_request = requests.get(web_url)\n",
    "\n",
    "        content = BeautifulSoup(web_request.text, \"lxml\")\n",
    "\n",
    "        Data = content.find(\"td\", {\"class\":\"wsod_change\"})\n",
    "        Data = Data.find_all(\"span\")\n",
    "        \n",
    "        Price_Change = Data[2].get_text()\n",
    "        Price_Change_Per = Data[-1].get_text()\n",
    "        \n",
    "\n",
    "        RealTimePrice = [Price_Change,Price_Change_Per]\n",
    "    \n",
    "    except IndexError:\n",
    "         RealTimePrice = []\n",
    "    \n",
    "    return RealTimePrice\n",
    "    "
   ]
  },
  {
   "cell_type": "code",
   "execution_count": null,
   "metadata": {},
   "outputs": [],
   "source": [
    "RealTimePrice(\"C\")"
   ]
  },
  {
   "attachments": {},
   "cell_type": "markdown",
   "metadata": {},
   "source": [
    "# Investing.com"
   ]
  },
  {
   "cell_type": "code",
   "execution_count": null,
   "metadata": {},
   "outputs": [],
   "source": [
    "def RealTimePrice(self):\n",
    "    try:\n",
    "        web_url = \"https://www.investing.com/equities/\" + self\n",
    "        web_request = requests.get(web_url)\n",
    "\n",
    "        content = BeautifulSoup(web_request.text, \"lxml\")\n",
    "\n",
    "        Data = content.find(\"td\", {\"class\":\"wsod_change\"})\n",
    "        Data = Data.find_all(\"span\")\n",
    "        \n",
    "        Price_Change = Data[2].get_text()\n",
    "        Price_Change_Per = Data[-1].get_text()\n",
    "        \n",
    "\n",
    "        RealTimePrice = [Price_Change,Price_Change_Per]\n",
    "    \n",
    "    except IndexError:\n",
    "         RealTimePrice = []\n",
    "    \n",
    "    return RealTimePrice"
   ]
  },
  {
   "cell_type": "code",
   "execution_count": null,
   "metadata": {},
   "outputs": [],
   "source": [
    "# For Data\n",
    "import sys\n",
    "sys.path.insert(1,\"D:\\dosyalar\\Github\\Finance_Project\\Data_Sets\")\n",
    "import DataSets"
   ]
  },
  {
   "cell_type": "code",
   "execution_count": null,
   "metadata": {},
   "outputs": [],
   "source": [
    "company_name = DataSets.YahooFinance(\"AAPL\",\"CompanyInfo\")\n",
    "company_name"
   ]
  },
  {
   "cell_type": "code",
   "execution_count": null,
   "metadata": {},
   "outputs": [],
   "source": [
    "company_name[company_name.index == \"longName\"]"
   ]
  },
  {
   "cell_type": "code",
   "execution_count": null,
   "metadata": {},
   "outputs": [],
   "source": [
    "name = company_name[company_name.index == \"shortName\"].values[0][0]\n",
    "name"
   ]
  },
  {
   "cell_type": "code",
   "execution_count": null,
   "metadata": {},
   "outputs": [],
   "source": [
    "web_url = \"https://www.investing.com/equities/goldman-sachs-group\"\n",
    "web_request = requests.get(web_url)\n",
    "\n",
    "content = BeautifulSoup(web_request.text, \"lxml\")\n",
    "\n",
    "y = content.find(\"div\",{\"class\":\"text-xl flex items-end flex-wrap\"})\n",
    "y"
   ]
  },
  {
   "cell_type": "code",
   "execution_count": null,
   "metadata": {},
   "outputs": [],
   "source": [
    "y.get_text()"
   ]
  }
 ],
 "metadata": {
  "kernelspec": {
   "display_name": "Python 3",
   "language": "python",
   "name": "python3"
  },
  "language_info": {
   "codemirror_mode": {
    "name": "ipython",
    "version": 3
   },
   "file_extension": ".py",
   "mimetype": "text/x-python",
   "name": "python",
   "nbconvert_exporter": "python",
   "pygments_lexer": "ipython3",
   "version": "3.9.5"
  },
  "orig_nbformat": 4
 },
 "nbformat": 4,
 "nbformat_minor": 2
}
