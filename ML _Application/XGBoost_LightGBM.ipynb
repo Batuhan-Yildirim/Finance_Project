{
 "cells": [
  {
   "cell_type": "markdown",
   "metadata": {},
   "source": [
    "# Libraries"
   ]
  },
  {
   "cell_type": "code",
   "execution_count": 3,
   "metadata": {},
   "outputs": [],
   "source": [
    "# Core Libraries\n",
    "import pandas as pd\n",
    "import numpy as np\n",
    "\n",
    "# Graphs\n",
    "import plotly\n",
    "import plotly.graph_objects as go\n",
    "import plotly.express as px\n",
    "\n",
    "# Machine Learning Models\n",
    "import sklearn\n",
    "import xgboost as xgb\n",
    "import lightgbm as lgb\n",
    "\n",
    "# Elimaniton Model\n",
    "from sklearn.metrics import mean_squared_error as MSE\n",
    "from sklearn.metrics import r2_score\n",
    "\n",
    "\n",
    "# Warning Signs\n",
    "import warnings\n",
    "warnings.filterwarnings('ignore')"
   ]
  },
  {
   "cell_type": "markdown",
   "metadata": {},
   "source": [
    "* Libraries Version "
   ]
  },
  {
   "cell_type": "code",
   "execution_count": 4,
   "metadata": {},
   "outputs": [
    {
     "name": "stdout",
     "output_type": "stream",
     "text": [
      "Pandas Version: 2.0.2 \n",
      " ----\n",
      "Numpy Version: 1.22.3\n",
      " ----\n",
      "Plotly Version: 5.16.1\n",
      " ----\n",
      "Sklearn Version: 1.2.0\n",
      " ----\n",
      "Xgboost Version: 1.7.3\n",
      " ----\n",
      "LightGBM Version: 3.2.1\n"
     ]
    }
   ],
   "source": [
    "print(f\"Pandas Version: {pd.__version__} \\n ----\")\n",
    "print(f\"Numpy Version: {np.__version__}\\n ----\")\n",
    "print(f\"Plotly Version: {plotly.__version__ }\\n ----\")\n",
    "print(f\"Sklearn Version: {sklearn.__version__}\\n ----\")\n",
    "print(f\"Xgboost Version: {xgb.__version__}\\n ----\")\n",
    "print(f\"LightGBM Version: {lgb.__version__}\")"
   ]
  },
  {
   "cell_type": "markdown",
   "metadata": {},
   "source": [
    "# Data Sets From Data Folder"
   ]
  },
  {
   "cell_type": "markdown",
   "metadata": {},
   "source": [
    "**ETF_Prices**"
   ]
  },
  {
   "cell_type": "code",
   "execution_count": 5,
   "metadata": {},
   "outputs": [
    {
     "data": {
      "text/html": [
       "<div>\n",
       "<style scoped>\n",
       "    .dataframe tbody tr th:only-of-type {\n",
       "        vertical-align: middle;\n",
       "    }\n",
       "\n",
       "    .dataframe tbody tr th {\n",
       "        vertical-align: top;\n",
       "    }\n",
       "\n",
       "    .dataframe thead th {\n",
       "        text-align: right;\n",
       "    }\n",
       "</style>\n",
       "<table border=\"1\" class=\"dataframe\">\n",
       "  <thead>\n",
       "    <tr style=\"text-align: right;\">\n",
       "      <th></th>\n",
       "      <th>fund_symbol</th>\n",
       "      <th>price_date</th>\n",
       "      <th>open</th>\n",
       "      <th>high</th>\n",
       "      <th>low</th>\n",
       "      <th>close</th>\n",
       "      <th>adj_close</th>\n",
       "      <th>volume</th>\n",
       "    </tr>\n",
       "  </thead>\n",
       "  <tbody>\n",
       "    <tr>\n",
       "      <th>0</th>\n",
       "      <td>AAA</td>\n",
       "      <td>2020-09-09</td>\n",
       "      <td>25.10</td>\n",
       "      <td>25.12</td>\n",
       "      <td>25.07</td>\n",
       "      <td>25.07</td>\n",
       "      <td>24.85</td>\n",
       "      <td>17300</td>\n",
       "    </tr>\n",
       "    <tr>\n",
       "      <th>1</th>\n",
       "      <td>AAA</td>\n",
       "      <td>2020-09-10</td>\n",
       "      <td>25.06</td>\n",
       "      <td>25.07</td>\n",
       "      <td>25.05</td>\n",
       "      <td>25.07</td>\n",
       "      <td>24.85</td>\n",
       "      <td>23500</td>\n",
       "    </tr>\n",
       "    <tr>\n",
       "      <th>2</th>\n",
       "      <td>AAA</td>\n",
       "      <td>2020-09-11</td>\n",
       "      <td>25.04</td>\n",
       "      <td>25.05</td>\n",
       "      <td>25.02</td>\n",
       "      <td>25.03</td>\n",
       "      <td>24.81</td>\n",
       "      <td>33400</td>\n",
       "    </tr>\n",
       "    <tr>\n",
       "      <th>3</th>\n",
       "      <td>AAA</td>\n",
       "      <td>2020-09-14</td>\n",
       "      <td>25.01</td>\n",
       "      <td>25.06</td>\n",
       "      <td>25.01</td>\n",
       "      <td>25.02</td>\n",
       "      <td>24.80</td>\n",
       "      <td>13100</td>\n",
       "    </tr>\n",
       "    <tr>\n",
       "      <th>4</th>\n",
       "      <td>AAA</td>\n",
       "      <td>2020-09-15</td>\n",
       "      <td>25.02</td>\n",
       "      <td>25.03</td>\n",
       "      <td>25.01</td>\n",
       "      <td>25.01</td>\n",
       "      <td>24.79</td>\n",
       "      <td>12100</td>\n",
       "    </tr>\n",
       "  </tbody>\n",
       "</table>\n",
       "</div>"
      ],
      "text/plain": [
       "  fund_symbol  price_date   open   high    low  close  adj_close  volume\n",
       "0         AAA  2020-09-09  25.10  25.12  25.07  25.07      24.85   17300\n",
       "1         AAA  2020-09-10  25.06  25.07  25.05  25.07      24.85   23500\n",
       "2         AAA  2020-09-11  25.04  25.05  25.02  25.03      24.81   33400\n",
       "3         AAA  2020-09-14  25.01  25.06  25.01  25.02      24.80   13100\n",
       "4         AAA  2020-09-15  25.02  25.03  25.01  25.01      24.79   12100"
      ]
     },
     "execution_count": 5,
     "metadata": {},
     "output_type": "execute_result"
    }
   ],
   "source": [
    "ETF_price = pd.read_csv(\"Data/ETF_prices.csv\")\n",
    "ETF_price.head()"
   ]
  },
  {
   "cell_type": "markdown",
   "metadata": {},
   "source": [
    "**ETFs**"
   ]
  },
  {
   "cell_type": "code",
   "execution_count": 6,
   "metadata": {},
   "outputs": [
    {
     "data": {
      "text/html": [
       "<div>\n",
       "<style scoped>\n",
       "    .dataframe tbody tr th:only-of-type {\n",
       "        vertical-align: middle;\n",
       "    }\n",
       "\n",
       "    .dataframe tbody tr th {\n",
       "        vertical-align: top;\n",
       "    }\n",
       "\n",
       "    .dataframe thead th {\n",
       "        text-align: right;\n",
       "    }\n",
       "</style>\n",
       "<table border=\"1\" class=\"dataframe\">\n",
       "  <thead>\n",
       "    <tr style=\"text-align: right;\">\n",
       "      <th></th>\n",
       "      <th>fund_symbol</th>\n",
       "      <th>quote_type</th>\n",
       "      <th>region</th>\n",
       "      <th>fund_short_name</th>\n",
       "      <th>fund_long_name</th>\n",
       "      <th>currency</th>\n",
       "      <th>fund_category</th>\n",
       "      <th>fund_family</th>\n",
       "      <th>exchange_code</th>\n",
       "      <th>exchange_name</th>\n",
       "      <th>...</th>\n",
       "      <th>fund_stdev_5years</th>\n",
       "      <th>fund_sharpe_ratio_5years</th>\n",
       "      <th>fund_treynor_ratio_5years</th>\n",
       "      <th>fund_alpha_10years</th>\n",
       "      <th>fund_beta_10years</th>\n",
       "      <th>fund_mean_annual_return_10years</th>\n",
       "      <th>fund_r_squared_10years</th>\n",
       "      <th>fund_stdev_10years</th>\n",
       "      <th>fund_sharpe_ratio_10years</th>\n",
       "      <th>fund_treynor_ratio_10years</th>\n",
       "    </tr>\n",
       "  </thead>\n",
       "  <tbody>\n",
       "    <tr>\n",
       "      <th>0</th>\n",
       "      <td>AAAU</td>\n",
       "      <td>ETF</td>\n",
       "      <td>US</td>\n",
       "      <td>DWS RREEF Real Assets Fund - Cl</td>\n",
       "      <td>DWS RREEF Real Assets Fund - Class A</td>\n",
       "      <td>USD</td>\n",
       "      <td>NaN</td>\n",
       "      <td>DWS</td>\n",
       "      <td>PCX</td>\n",
       "      <td>NYSEArca</td>\n",
       "      <td>...</td>\n",
       "      <td>NaN</td>\n",
       "      <td>NaN</td>\n",
       "      <td>NaN</td>\n",
       "      <td>NaN</td>\n",
       "      <td>NaN</td>\n",
       "      <td>NaN</td>\n",
       "      <td>NaN</td>\n",
       "      <td>NaN</td>\n",
       "      <td>NaN</td>\n",
       "      <td>NaN</td>\n",
       "    </tr>\n",
       "    <tr>\n",
       "      <th>1</th>\n",
       "      <td>AADR</td>\n",
       "      <td>ETF</td>\n",
       "      <td>US</td>\n",
       "      <td>AllianzGI Health Sciences Fund</td>\n",
       "      <td>Virtus AllianzGI Health Sciences Fund Class P</td>\n",
       "      <td>USD</td>\n",
       "      <td>Foreign Large Growth</td>\n",
       "      <td>Virtus</td>\n",
       "      <td>NGM</td>\n",
       "      <td>NasdaqGM</td>\n",
       "      <td>...</td>\n",
       "      <td>19.30</td>\n",
       "      <td>0.62</td>\n",
       "      <td>9.66</td>\n",
       "      <td>3.32</td>\n",
       "      <td>0.96</td>\n",
       "      <td>0.79</td>\n",
       "      <td>73.64</td>\n",
       "      <td>16.78</td>\n",
       "      <td>0.53</td>\n",
       "      <td>8.15</td>\n",
       "    </tr>\n",
       "    <tr>\n",
       "      <th>2</th>\n",
       "      <td>AAXJ</td>\n",
       "      <td>ETF</td>\n",
       "      <td>US</td>\n",
       "      <td>NaN</td>\n",
       "      <td>American Century One Choice Blend+ 2015 Portfo...</td>\n",
       "      <td>USD</td>\n",
       "      <td>Pacific/Asia ex-Japan Stk</td>\n",
       "      <td>American Century Investments</td>\n",
       "      <td>NGM</td>\n",
       "      <td>NasdaqGM</td>\n",
       "      <td>...</td>\n",
       "      <td>15.91</td>\n",
       "      <td>0.66</td>\n",
       "      <td>10.37</td>\n",
       "      <td>0.30</td>\n",
       "      <td>0.99</td>\n",
       "      <td>0.55</td>\n",
       "      <td>78.24</td>\n",
       "      <td>16.83</td>\n",
       "      <td>0.36</td>\n",
       "      <td>4.81</td>\n",
       "    </tr>\n",
       "    <tr>\n",
       "      <th>3</th>\n",
       "      <td>ABEQ</td>\n",
       "      <td>ETF</td>\n",
       "      <td>US</td>\n",
       "      <td>Thrivent Large Cap Growth Fund</td>\n",
       "      <td>Thrivent Large Cap Growth Fund Class A</td>\n",
       "      <td>USD</td>\n",
       "      <td>Large Value</td>\n",
       "      <td>Thrivent Funds</td>\n",
       "      <td>PCX</td>\n",
       "      <td>NYSEArca</td>\n",
       "      <td>...</td>\n",
       "      <td>NaN</td>\n",
       "      <td>NaN</td>\n",
       "      <td>NaN</td>\n",
       "      <td>NaN</td>\n",
       "      <td>NaN</td>\n",
       "      <td>NaN</td>\n",
       "      <td>NaN</td>\n",
       "      <td>NaN</td>\n",
       "      <td>NaN</td>\n",
       "      <td>NaN</td>\n",
       "    </tr>\n",
       "    <tr>\n",
       "      <th>4</th>\n",
       "      <td>ACES</td>\n",
       "      <td>ETF</td>\n",
       "      <td>US</td>\n",
       "      <td>NaN</td>\n",
       "      <td>American Century One Choice Blend+ 2015 Portfo...</td>\n",
       "      <td>USD</td>\n",
       "      <td>Miscellaneous Sector</td>\n",
       "      <td>American Century Investments</td>\n",
       "      <td>PCX</td>\n",
       "      <td>NYSEArca</td>\n",
       "      <td>...</td>\n",
       "      <td>NaN</td>\n",
       "      <td>NaN</td>\n",
       "      <td>NaN</td>\n",
       "      <td>NaN</td>\n",
       "      <td>NaN</td>\n",
       "      <td>NaN</td>\n",
       "      <td>NaN</td>\n",
       "      <td>NaN</td>\n",
       "      <td>NaN</td>\n",
       "      <td>NaN</td>\n",
       "    </tr>\n",
       "  </tbody>\n",
       "</table>\n",
       "<p>5 rows × 142 columns</p>\n",
       "</div>"
      ],
      "text/plain": [
       "  fund_symbol quote_type region                  fund_short_name  \\\n",
       "0        AAAU        ETF     US  DWS RREEF Real Assets Fund - Cl   \n",
       "1        AADR        ETF     US  AllianzGI Health Sciences Fund    \n",
       "2        AAXJ        ETF     US                              NaN   \n",
       "3        ABEQ        ETF     US  Thrivent Large Cap Growth Fund    \n",
       "4        ACES        ETF     US                              NaN   \n",
       "\n",
       "                                      fund_long_name currency  \\\n",
       "0               DWS RREEF Real Assets Fund - Class A      USD   \n",
       "1      Virtus AllianzGI Health Sciences Fund Class P      USD   \n",
       "2  American Century One Choice Blend+ 2015 Portfo...      USD   \n",
       "3             Thrivent Large Cap Growth Fund Class A      USD   \n",
       "4  American Century One Choice Blend+ 2015 Portfo...      USD   \n",
       "\n",
       "               fund_category                   fund_family exchange_code  \\\n",
       "0                        NaN                           DWS           PCX   \n",
       "1       Foreign Large Growth                        Virtus           NGM   \n",
       "2  Pacific/Asia ex-Japan Stk  American Century Investments           NGM   \n",
       "3                Large Value                Thrivent Funds           PCX   \n",
       "4       Miscellaneous Sector  American Century Investments           PCX   \n",
       "\n",
       "  exchange_name  ... fund_stdev_5years  fund_sharpe_ratio_5years  \\\n",
       "0      NYSEArca  ...               NaN                       NaN   \n",
       "1      NasdaqGM  ...             19.30                      0.62   \n",
       "2      NasdaqGM  ...             15.91                      0.66   \n",
       "3      NYSEArca  ...               NaN                       NaN   \n",
       "4      NYSEArca  ...               NaN                       NaN   \n",
       "\n",
       "   fund_treynor_ratio_5years  fund_alpha_10years  fund_beta_10years  \\\n",
       "0                        NaN                 NaN                NaN   \n",
       "1                       9.66                3.32               0.96   \n",
       "2                      10.37                0.30               0.99   \n",
       "3                        NaN                 NaN                NaN   \n",
       "4                        NaN                 NaN                NaN   \n",
       "\n",
       "   fund_mean_annual_return_10years  fund_r_squared_10years  \\\n",
       "0                              NaN                     NaN   \n",
       "1                             0.79                   73.64   \n",
       "2                             0.55                   78.24   \n",
       "3                              NaN                     NaN   \n",
       "4                              NaN                     NaN   \n",
       "\n",
       "   fund_stdev_10years  fund_sharpe_ratio_10years  fund_treynor_ratio_10years  \n",
       "0                 NaN                        NaN                         NaN  \n",
       "1               16.78                       0.53                        8.15  \n",
       "2               16.83                       0.36                        4.81  \n",
       "3                 NaN                        NaN                         NaN  \n",
       "4                 NaN                        NaN                         NaN  \n",
       "\n",
       "[5 rows x 142 columns]"
      ]
     },
     "execution_count": 6,
     "metadata": {},
     "output_type": "execute_result"
    }
   ],
   "source": [
    "ETFs = pd.read_csv(\"Data/ETFs.csv\")\n",
    "ETFs.head()"
   ]
  },
  {
   "cell_type": "markdown",
   "metadata": {},
   "source": [
    "# Exploratory Data Analysis"
   ]
  },
  {
   "cell_type": "code",
   "execution_count": 7,
   "metadata": {},
   "outputs": [],
   "source": [
    "def summary(self):\n",
    "    start_mememory = self.memory_usage().sum() / 1024**2\n",
    "    print('Memory usage of dataframe is {:.2f} MB \\n ---'.format(start_mememory))\n",
    "    \n",
    "    row = self.shape[0]\n",
    "    print(f\"Total of Rows within one column: {row} \\n ---\")\n",
    "    \n",
    "    column = self.shape[1]\n",
    "    print(f\"Total of Columns: {column} \\n ---\")\n",
    "\n",
    "    \n",
    "    self_null = self.isnull().sum().sum()     #Sum of Columns inculidng Nan\n",
    "    print(f\"Nan Values Including total of Column: {self_null} \\n ---\")\n",
    "\n",
    "    Rows_duplicate = len(self)-len(self.drop_duplicates()) #count number of duplicate in Dataframe\n",
    "\n",
    "    print(f\"All Rows Duplicate Count: {Rows_duplicate} \\n ---\")\n",
    "\n",
    "    columnnames = pd.DataFrame(self.dtypes).reset_index()\n",
    "    numerical_column_list_float = columnnames[columnnames[0] == \"float64\"][\"index\"].to_list()\n",
    "    numerical_column_list_int = columnnames[columnnames[0] == \"int64\"][\"index\"].to_list()\n",
    "    numerical_column_list = numerical_column_list_float\n",
    "    numerical_column_list.extend(numerical_column_list_int)\n",
    "    \n",
    "    sumofnumerical_columns_list = len(numerical_column_list_float) + len(numerical_column_list_int)\n",
    "    string_column_list = columnnames[columnnames[0] == \"object\"][\"index\"].to_list()\n",
    "    sumofstring_column_list = len(string_column_list)\n",
    "\n",
    "    print(f\"Numerical Column Names {numerical_column_list} \\n ---\")\n",
    "    print(f\"Sum Of numerical columns are {sumofnumerical_columns_list} \\n ---\")\n",
    "    print(f\"String Column Names {string_column_list} \\n ---\")\n",
    "    print(f\"Sum of string columns are {sumofstring_column_list} \\n ---\")\n",
    "\n",
    "    zero = (self == 0.00).astype(int).sum(axis = 0).sum()\n",
    "\n",
    "    print(f\"All zero numbers total is {zero}\")\n"
   ]
  },
  {
   "cell_type": "markdown",
   "metadata": {},
   "source": [
    "**For ETF Price**"
   ]
  },
  {
   "cell_type": "code",
   "execution_count": 8,
   "metadata": {},
   "outputs": [
    {
     "name": "stdout",
     "output_type": "stream",
     "text": [
      "Memory usage of dataframe is 235.96 MB \n",
      " ---\n",
      "Total of Rows within one column: 3866030 \n",
      " ---\n",
      "Total of Columns: 8 \n",
      " ---\n",
      "Nan Values Including total of Column: 0 \n",
      " ---\n",
      "All Rows Duplicate Count: 0 \n",
      " ---\n",
      "Numerical Column Names ['open', 'high', 'low', 'close', 'adj_close', 'volume'] \n",
      " ---\n",
      "Sum Of numerical columns are 7 \n",
      " ---\n",
      "String Column Names ['fund_symbol', 'price_date'] \n",
      " ---\n",
      "Sum of string columns are 2 \n",
      " ---\n",
      "All zero numbers total is 164282\n"
     ]
    }
   ],
   "source": [
    "summary(ETF_price)"
   ]
  },
  {
   "cell_type": "markdown",
   "metadata": {},
   "source": [
    "**For ETFs**"
   ]
  },
  {
   "cell_type": "code",
   "execution_count": 9,
   "metadata": {},
   "outputs": [
    {
     "name": "stdout",
     "output_type": "stream",
     "text": [
      "Memory usage of dataframe is 2.50 MB \n",
      " ---\n",
      "Total of Rows within one column: 2310 \n",
      " ---\n",
      "Total of Columns: 142 \n",
      " ---\n",
      "Nan Values Including total of Column: 140093 \n",
      " ---\n",
      "All Rows Duplicate Count: 0 \n",
      " ---\n",
      "Numerical Column Names ['avg_vol_10day', 'total_net_assets', 'day50_moving_average', 'day200_moving_average', 'week52_high_low_change', 'week52_high_low_change_perc', 'week52_high', 'week52_high_change', 'week52_high_change_perc', 'week52_low', 'week52_low_change', 'week52_low_change_perc', 'fund_yield', 'annual_holdings_turnover', 'fund_annual_report_net_expense_ratio', 'category_annual_report_net_expense_ratio', 'asset_stocks', 'asset_bonds', 'fund_sector_basic_materials', 'fund_sector_communication_services', 'fund_sector_consumer_cyclical', 'fund_sector_consumer_defensive', 'fund_sector_energy', 'fund_sector_financial_services', 'fund_sector_healthcare', 'fund_sector_industrials', 'fund_sector_real_estate', 'fund_sector_technology', 'fund_sector_utilities', 'fund_price_book_ratio', 'fund_price_cashflow_ratio', 'fund_price_earning_ratio', 'fund_price_sales_ratio', 'fund_bond_maturity', 'fund_bond_duration', 'fund_bonds_us_government', 'fund_bonds_aaa', 'fund_bonds_aa', 'fund_bonds_a', 'fund_bonds_bbb', 'fund_bonds_bb', 'fund_bonds_b', 'fund_bonds_below_b', 'fund_bonds_others', 'top10_holdings_total_assets', 'fund_return_ytd', 'category_return_ytd', 'fund_return_1month', 'category_return_1month', 'fund_return_3months', 'category_return_3months', 'fund_return_1year', 'category_return_1year', 'fund_return_3years', 'category_return_3years', 'fund_return_5years', 'category_return_5years', 'fund_return_10years', 'category_return_10years', 'years_up', 'years_down', 'fund_return_2020', 'category_return_2020', 'fund_return_2019', 'category_return_2019', 'fund_return_2018', 'category_return_2018', 'fund_return_2017', 'category_return_2017', 'fund_return_2016', 'category_return_2016', 'fund_return_2015', 'category_return_2015', 'fund_return_2014', 'category_return_2014', 'fund_return_2013', 'category_return_2013', 'fund_return_2012', 'category_return_2012', 'fund_return_2011', 'category_return_2011', 'fund_return_2010', 'category_return_2010', 'fund_return_2009', 'category_return_2009', 'fund_return_2008', 'category_return_2008', 'fund_return_2007', 'category_return_2007', 'fund_return_2006', 'category_return_2006', 'fund_return_2005', 'category_return_2005', 'fund_return_2004', 'category_return_2004', 'fund_return_2003', 'category_return_2003', 'fund_return_2002', 'category_return_2002', 'fund_return_2001', 'category_return_2001', 'fund_return_2000', 'category_return_2000', 'fund_alpha_3years', 'fund_beta_3years', 'fund_mean_annual_return_3years', 'fund_r_squared_3years', 'fund_stdev_3years', 'fund_sharpe_ratio_3years', 'fund_treynor_ratio_3years', 'fund_alpha_5years', 'fund_beta_5years', 'fund_mean_annual_return_5years', 'fund_r_squared_5years', 'fund_stdev_5years', 'fund_sharpe_ratio_5years', 'fund_treynor_ratio_5years', 'fund_alpha_10years', 'fund_beta_10years', 'fund_mean_annual_return_10years', 'fund_r_squared_10years', 'fund_stdev_10years', 'fund_sharpe_ratio_10years', 'fund_treynor_ratio_10years', 'avg_vol_3month'] \n",
      " ---\n",
      "Sum Of numerical columns are 126 \n",
      " ---\n",
      "String Column Names ['fund_symbol', 'quote_type', 'region', 'fund_short_name', 'fund_long_name', 'currency', 'fund_category', 'fund_family', 'exchange_code', 'exchange_name', 'exchange_timezone', 'investment_strategy', 'inception_date', 'investment_type', 'size_type', 'top10_holdings', 'returns_as_of_date'] \n",
      " ---\n",
      "Sum of string columns are 17 \n",
      " ---\n",
      "All zero numbers total is 7474\n"
     ]
    }
   ],
   "source": [
    "summary(ETFs)"
   ]
  },
  {
   "cell_type": "markdown",
   "metadata": {},
   "source": [
    "# Data Cleaning"
   ]
  },
  {
   "cell_type": "markdown",
   "metadata": {},
   "source": [
    "**ETF Price**"
   ]
  },
  {
   "cell_type": "code",
   "execution_count": 10,
   "metadata": {},
   "outputs": [
    {
     "data": {
      "text/plain": [
       "0         2020-09-09\n",
       "1         2020-09-10\n",
       "2         2020-09-11\n",
       "3         2020-09-14\n",
       "4         2020-09-15\n",
       "             ...    \n",
       "3866025   2021-11-23\n",
       "3866026   2021-11-24\n",
       "3866027   2021-11-26\n",
       "3866028   2021-11-29\n",
       "3866029   2021-11-30\n",
       "Name: price_date, Length: 3866030, dtype: datetime64[ns]"
      ]
     },
     "execution_count": 10,
     "metadata": {},
     "output_type": "execute_result"
    }
   ],
   "source": [
    "ETF_price[\"price_date\"] = pd.DatetimeIndex(ETF_price[\"price_date\"])\n",
    "ETF_price[\"price_date\"]"
   ]
  },
  {
   "cell_type": "markdown",
   "metadata": {},
   "source": [
    "**ETFs**"
   ]
  },
  {
   "cell_type": "code",
   "execution_count": 11,
   "metadata": {},
   "outputs": [
    {
     "name": "stdout",
     "output_type": "stream",
     "text": [
      "All Nan values sum 140093\n"
     ]
    }
   ],
   "source": [
    "print(f\"All Nan values sum {ETFs.isnull().sum().sum()}\")"
   ]
  },
  {
   "cell_type": "code",
   "execution_count": 12,
   "metadata": {},
   "outputs": [],
   "source": [
    "columnnames = pd.DataFrame(ETFs.dtypes).reset_index()\n",
    "string_column_list = columnnames[columnnames[0] == \"object\"][\"index\"].to_list()\n",
    "numerical_column_list_float = columnnames[columnnames[0] == \"float64\"][\"index\"].to_list()\n",
    "numerical_column_list_int = columnnames[columnnames[0] == \"object\"][\"index\"].to_list()"
   ]
  },
  {
   "cell_type": "code",
   "execution_count": 13,
   "metadata": {},
   "outputs": [
    {
     "name": "stdout",
     "output_type": "stream",
     "text": [
      "All Nan values sum 0\n"
     ]
    }
   ],
   "source": [
    "ETFs[string_column_list] = ETFs[string_column_list].replace(np.nan,\"No Value\")\n",
    "ETFs[numerical_column_list_float] = ETFs[numerical_column_list_float].replace(np.nan,0)\n",
    "ETFs[numerical_column_list_int] = ETFs[numerical_column_list_int].replace(np.nan,0)\n",
    "print(f\"All Nan values sum {ETFs.isnull().sum().sum()}\")"
   ]
  },
  {
   "cell_type": "markdown",
   "metadata": {},
   "source": [
    "# Machine Learninig Data Sets"
   ]
  },
  {
   "cell_type": "code",
   "execution_count": 14,
   "metadata": {},
   "outputs": [
    {
     "data": {
      "text/html": [
       "<style type=\"text/css\">\n",
       "#T_cf13a_row0_col1, #T_cf13a_row1_col1, #T_cf13a_row2_col1, #T_cf13a_row3_col1, #T_cf13a_row4_col1 {\n",
       "  background-color: dodgerblue;\n",
       "}\n",
       "</style>\n",
       "<table id=\"T_cf13a\">\n",
       "  <thead>\n",
       "    <tr>\n",
       "      <th class=\"blank level0\" >&nbsp;</th>\n",
       "      <th id=\"T_cf13a_level0_col0\" class=\"col_heading level0 col0\" >fund_symbol</th>\n",
       "      <th id=\"T_cf13a_level0_col1\" class=\"col_heading level0 col1\" >price_date</th>\n",
       "      <th id=\"T_cf13a_level0_col2\" class=\"col_heading level0 col2\" >open</th>\n",
       "      <th id=\"T_cf13a_level0_col3\" class=\"col_heading level0 col3\" >high</th>\n",
       "      <th id=\"T_cf13a_level0_col4\" class=\"col_heading level0 col4\" >low</th>\n",
       "      <th id=\"T_cf13a_level0_col5\" class=\"col_heading level0 col5\" >close</th>\n",
       "      <th id=\"T_cf13a_level0_col6\" class=\"col_heading level0 col6\" >adj_close</th>\n",
       "      <th id=\"T_cf13a_level0_col7\" class=\"col_heading level0 col7\" >volume</th>\n",
       "    </tr>\n",
       "  </thead>\n",
       "  <tbody>\n",
       "    <tr>\n",
       "      <th id=\"T_cf13a_level0_row0\" class=\"row_heading level0 row0\" >0</th>\n",
       "      <td id=\"T_cf13a_row0_col0\" class=\"data row0 col0\" >AAA</td>\n",
       "      <td id=\"T_cf13a_row0_col1\" class=\"data row0 col1\" >2020-09-09 00:00:00</td>\n",
       "      <td id=\"T_cf13a_row0_col2\" class=\"data row0 col2\" >25.100000</td>\n",
       "      <td id=\"T_cf13a_row0_col3\" class=\"data row0 col3\" >25.120000</td>\n",
       "      <td id=\"T_cf13a_row0_col4\" class=\"data row0 col4\" >25.070000</td>\n",
       "      <td id=\"T_cf13a_row0_col5\" class=\"data row0 col5\" >25.070000</td>\n",
       "      <td id=\"T_cf13a_row0_col6\" class=\"data row0 col6\" >24.850000</td>\n",
       "      <td id=\"T_cf13a_row0_col7\" class=\"data row0 col7\" >17300</td>\n",
       "    </tr>\n",
       "    <tr>\n",
       "      <th id=\"T_cf13a_level0_row1\" class=\"row_heading level0 row1\" >1</th>\n",
       "      <td id=\"T_cf13a_row1_col0\" class=\"data row1 col0\" >AAA</td>\n",
       "      <td id=\"T_cf13a_row1_col1\" class=\"data row1 col1\" >2020-09-10 00:00:00</td>\n",
       "      <td id=\"T_cf13a_row1_col2\" class=\"data row1 col2\" >25.060000</td>\n",
       "      <td id=\"T_cf13a_row1_col3\" class=\"data row1 col3\" >25.070000</td>\n",
       "      <td id=\"T_cf13a_row1_col4\" class=\"data row1 col4\" >25.050000</td>\n",
       "      <td id=\"T_cf13a_row1_col5\" class=\"data row1 col5\" >25.070000</td>\n",
       "      <td id=\"T_cf13a_row1_col6\" class=\"data row1 col6\" >24.850000</td>\n",
       "      <td id=\"T_cf13a_row1_col7\" class=\"data row1 col7\" >23500</td>\n",
       "    </tr>\n",
       "    <tr>\n",
       "      <th id=\"T_cf13a_level0_row2\" class=\"row_heading level0 row2\" >2</th>\n",
       "      <td id=\"T_cf13a_row2_col0\" class=\"data row2 col0\" >AAA</td>\n",
       "      <td id=\"T_cf13a_row2_col1\" class=\"data row2 col1\" >2020-09-11 00:00:00</td>\n",
       "      <td id=\"T_cf13a_row2_col2\" class=\"data row2 col2\" >25.040000</td>\n",
       "      <td id=\"T_cf13a_row2_col3\" class=\"data row2 col3\" >25.050000</td>\n",
       "      <td id=\"T_cf13a_row2_col4\" class=\"data row2 col4\" >25.020000</td>\n",
       "      <td id=\"T_cf13a_row2_col5\" class=\"data row2 col5\" >25.030000</td>\n",
       "      <td id=\"T_cf13a_row2_col6\" class=\"data row2 col6\" >24.810000</td>\n",
       "      <td id=\"T_cf13a_row2_col7\" class=\"data row2 col7\" >33400</td>\n",
       "    </tr>\n",
       "    <tr>\n",
       "      <th id=\"T_cf13a_level0_row3\" class=\"row_heading level0 row3\" >3</th>\n",
       "      <td id=\"T_cf13a_row3_col0\" class=\"data row3 col0\" >AAA</td>\n",
       "      <td id=\"T_cf13a_row3_col1\" class=\"data row3 col1\" >2020-09-14 00:00:00</td>\n",
       "      <td id=\"T_cf13a_row3_col2\" class=\"data row3 col2\" >25.010000</td>\n",
       "      <td id=\"T_cf13a_row3_col3\" class=\"data row3 col3\" >25.060000</td>\n",
       "      <td id=\"T_cf13a_row3_col4\" class=\"data row3 col4\" >25.010000</td>\n",
       "      <td id=\"T_cf13a_row3_col5\" class=\"data row3 col5\" >25.020000</td>\n",
       "      <td id=\"T_cf13a_row3_col6\" class=\"data row3 col6\" >24.800000</td>\n",
       "      <td id=\"T_cf13a_row3_col7\" class=\"data row3 col7\" >13100</td>\n",
       "    </tr>\n",
       "    <tr>\n",
       "      <th id=\"T_cf13a_level0_row4\" class=\"row_heading level0 row4\" >4</th>\n",
       "      <td id=\"T_cf13a_row4_col0\" class=\"data row4 col0\" >AAA</td>\n",
       "      <td id=\"T_cf13a_row4_col1\" class=\"data row4 col1\" >2020-09-15 00:00:00</td>\n",
       "      <td id=\"T_cf13a_row4_col2\" class=\"data row4 col2\" >25.020000</td>\n",
       "      <td id=\"T_cf13a_row4_col3\" class=\"data row4 col3\" >25.030000</td>\n",
       "      <td id=\"T_cf13a_row4_col4\" class=\"data row4 col4\" >25.010000</td>\n",
       "      <td id=\"T_cf13a_row4_col5\" class=\"data row4 col5\" >25.010000</td>\n",
       "      <td id=\"T_cf13a_row4_col6\" class=\"data row4 col6\" >24.790000</td>\n",
       "      <td id=\"T_cf13a_row4_col7\" class=\"data row4 col7\" >12100</td>\n",
       "    </tr>\n",
       "  </tbody>\n",
       "</table>\n"
      ],
      "text/plain": [
       "<pandas.io.formats.style.Styler at 0x1d800026040>"
      ]
     },
     "execution_count": 14,
     "metadata": {},
     "output_type": "execute_result"
    }
   ],
   "source": [
    "ETF_price[ETF_price[\"fund_symbol\"] == \"AAA\"]\n",
    "ETF_price.head().style.set_properties(subset=['price_date'], **{'background-color': 'dodgerblue'})"
   ]
  },
  {
   "cell_type": "code",
   "execution_count": 15,
   "metadata": {},
   "outputs": [
    {
     "data": {
      "text/html": [
       "<div>\n",
       "<style scoped>\n",
       "    .dataframe tbody tr th:only-of-type {\n",
       "        vertical-align: middle;\n",
       "    }\n",
       "\n",
       "    .dataframe tbody tr th {\n",
       "        vertical-align: top;\n",
       "    }\n",
       "\n",
       "    .dataframe thead th {\n",
       "        text-align: right;\n",
       "    }\n",
       "</style>\n",
       "<table border=\"1\" class=\"dataframe\">\n",
       "  <thead>\n",
       "    <tr style=\"text-align: right;\">\n",
       "      <th></th>\n",
       "      <th>fund_symbol</th>\n",
       "      <th>price_date</th>\n",
       "      <th>open</th>\n",
       "      <th>high</th>\n",
       "      <th>low</th>\n",
       "      <th>close</th>\n",
       "      <th>adj_close</th>\n",
       "      <th>volume</th>\n",
       "    </tr>\n",
       "  </thead>\n",
       "  <tbody>\n",
       "    <tr>\n",
       "      <th>0</th>\n",
       "      <td>AAA</td>\n",
       "      <td>2020-09-09</td>\n",
       "      <td>25.10</td>\n",
       "      <td>25.12</td>\n",
       "      <td>25.07</td>\n",
       "      <td>25.07</td>\n",
       "      <td>24.85</td>\n",
       "      <td>17300</td>\n",
       "    </tr>\n",
       "    <tr>\n",
       "      <th>1</th>\n",
       "      <td>AAA</td>\n",
       "      <td>2020-09-10</td>\n",
       "      <td>25.06</td>\n",
       "      <td>25.07</td>\n",
       "      <td>25.05</td>\n",
       "      <td>25.07</td>\n",
       "      <td>24.85</td>\n",
       "      <td>23500</td>\n",
       "    </tr>\n",
       "    <tr>\n",
       "      <th>2</th>\n",
       "      <td>AAA</td>\n",
       "      <td>2020-09-11</td>\n",
       "      <td>25.04</td>\n",
       "      <td>25.05</td>\n",
       "      <td>25.02</td>\n",
       "      <td>25.03</td>\n",
       "      <td>24.81</td>\n",
       "      <td>33400</td>\n",
       "    </tr>\n",
       "    <tr>\n",
       "      <th>3</th>\n",
       "      <td>AAA</td>\n",
       "      <td>2020-09-14</td>\n",
       "      <td>25.01</td>\n",
       "      <td>25.06</td>\n",
       "      <td>25.01</td>\n",
       "      <td>25.02</td>\n",
       "      <td>24.80</td>\n",
       "      <td>13100</td>\n",
       "    </tr>\n",
       "    <tr>\n",
       "      <th>4</th>\n",
       "      <td>AAA</td>\n",
       "      <td>2020-09-15</td>\n",
       "      <td>25.02</td>\n",
       "      <td>25.03</td>\n",
       "      <td>25.01</td>\n",
       "      <td>25.01</td>\n",
       "      <td>24.79</td>\n",
       "      <td>12100</td>\n",
       "    </tr>\n",
       "    <tr>\n",
       "      <th>...</th>\n",
       "      <td>...</td>\n",
       "      <td>...</td>\n",
       "      <td>...</td>\n",
       "      <td>...</td>\n",
       "      <td>...</td>\n",
       "      <td>...</td>\n",
       "      <td>...</td>\n",
       "      <td>...</td>\n",
       "    </tr>\n",
       "    <tr>\n",
       "      <th>305</th>\n",
       "      <td>AAA</td>\n",
       "      <td>2021-11-23</td>\n",
       "      <td>25.04</td>\n",
       "      <td>25.04</td>\n",
       "      <td>25.02</td>\n",
       "      <td>25.03</td>\n",
       "      <td>25.03</td>\n",
       "      <td>27800</td>\n",
       "    </tr>\n",
       "    <tr>\n",
       "      <th>306</th>\n",
       "      <td>AAA</td>\n",
       "      <td>2021-11-24</td>\n",
       "      <td>25.03</td>\n",
       "      <td>25.04</td>\n",
       "      <td>25.02</td>\n",
       "      <td>25.02</td>\n",
       "      <td>25.02</td>\n",
       "      <td>500</td>\n",
       "    </tr>\n",
       "    <tr>\n",
       "      <th>307</th>\n",
       "      <td>AAA</td>\n",
       "      <td>2021-11-26</td>\n",
       "      <td>25.04</td>\n",
       "      <td>25.04</td>\n",
       "      <td>25.02</td>\n",
       "      <td>25.02</td>\n",
       "      <td>25.02</td>\n",
       "      <td>500</td>\n",
       "    </tr>\n",
       "    <tr>\n",
       "      <th>308</th>\n",
       "      <td>AAA</td>\n",
       "      <td>2021-11-29</td>\n",
       "      <td>25.02</td>\n",
       "      <td>25.03</td>\n",
       "      <td>25.02</td>\n",
       "      <td>25.03</td>\n",
       "      <td>25.03</td>\n",
       "      <td>900</td>\n",
       "    </tr>\n",
       "    <tr>\n",
       "      <th>309</th>\n",
       "      <td>AAA</td>\n",
       "      <td>2021-11-30</td>\n",
       "      <td>25.04</td>\n",
       "      <td>25.04</td>\n",
       "      <td>25.04</td>\n",
       "      <td>25.04</td>\n",
       "      <td>25.04</td>\n",
       "      <td>100</td>\n",
       "    </tr>\n",
       "  </tbody>\n",
       "</table>\n",
       "<p>310 rows × 8 columns</p>\n",
       "</div>"
      ],
      "text/plain": [
       "    fund_symbol price_date   open   high    low  close  adj_close  volume\n",
       "0           AAA 2020-09-09  25.10  25.12  25.07  25.07      24.85   17300\n",
       "1           AAA 2020-09-10  25.06  25.07  25.05  25.07      24.85   23500\n",
       "2           AAA 2020-09-11  25.04  25.05  25.02  25.03      24.81   33400\n",
       "3           AAA 2020-09-14  25.01  25.06  25.01  25.02      24.80   13100\n",
       "4           AAA 2020-09-15  25.02  25.03  25.01  25.01      24.79   12100\n",
       "..          ...        ...    ...    ...    ...    ...        ...     ...\n",
       "305         AAA 2021-11-23  25.04  25.04  25.02  25.03      25.03   27800\n",
       "306         AAA 2021-11-24  25.03  25.04  25.02  25.02      25.02     500\n",
       "307         AAA 2021-11-26  25.04  25.04  25.02  25.02      25.02     500\n",
       "308         AAA 2021-11-29  25.02  25.03  25.02  25.03      25.03     900\n",
       "309         AAA 2021-11-30  25.04  25.04  25.04  25.04      25.04     100\n",
       "\n",
       "[310 rows x 8 columns]"
      ]
     },
     "execution_count": 15,
     "metadata": {},
     "output_type": "execute_result"
    }
   ],
   "source": [
    "AAA_etf = ETF_price[ETF_price[\"fund_symbol\"] == \"AAA\"]\n",
    "AAA_etf"
   ]
  },
  {
   "cell_type": "code",
   "execution_count": 16,
   "metadata": {},
   "outputs": [
    {
     "data": {
      "application/vnd.plotly.v1+json": {
       "config": {
        "plotlyServerURL": "https://plot.ly"
       },
       "data": [
        {
         "name": "Open Price",
         "type": "scatter",
         "visible": "legendonly",
         "x": [
          "2020-09-09T00:00:00",
          "2020-09-10T00:00:00",
          "2020-09-11T00:00:00",
          "2020-09-14T00:00:00",
          "2020-09-15T00:00:00",
          "2020-09-16T00:00:00",
          "2020-09-17T00:00:00",
          "2020-09-18T00:00:00",
          "2020-09-21T00:00:00",
          "2020-09-22T00:00:00",
          "2020-09-23T00:00:00",
          "2020-09-24T00:00:00",
          "2020-09-25T00:00:00",
          "2020-09-28T00:00:00",
          "2020-09-29T00:00:00",
          "2020-09-30T00:00:00",
          "2020-10-01T00:00:00",
          "2020-10-02T00:00:00",
          "2020-10-05T00:00:00",
          "2020-10-06T00:00:00",
          "2020-10-07T00:00:00",
          "2020-10-08T00:00:00",
          "2020-10-09T00:00:00",
          "2020-10-12T00:00:00",
          "2020-10-13T00:00:00",
          "2020-10-14T00:00:00",
          "2020-10-15T00:00:00",
          "2020-10-16T00:00:00",
          "2020-10-19T00:00:00",
          "2020-10-20T00:00:00",
          "2020-10-21T00:00:00",
          "2020-10-22T00:00:00",
          "2020-10-23T00:00:00",
          "2020-10-26T00:00:00",
          "2020-10-27T00:00:00",
          "2020-10-28T00:00:00",
          "2020-10-29T00:00:00",
          "2020-10-30T00:00:00",
          "2020-11-02T00:00:00",
          "2020-11-03T00:00:00",
          "2020-11-04T00:00:00",
          "2020-11-05T00:00:00",
          "2020-11-06T00:00:00",
          "2020-11-09T00:00:00",
          "2020-11-10T00:00:00",
          "2020-11-11T00:00:00",
          "2020-11-12T00:00:00",
          "2020-11-13T00:00:00",
          "2020-11-16T00:00:00",
          "2020-11-17T00:00:00",
          "2020-11-18T00:00:00",
          "2020-11-19T00:00:00",
          "2020-11-20T00:00:00",
          "2020-11-23T00:00:00",
          "2020-11-24T00:00:00",
          "2020-11-25T00:00:00",
          "2020-11-27T00:00:00",
          "2020-11-30T00:00:00",
          "2020-12-01T00:00:00",
          "2020-12-02T00:00:00",
          "2020-12-03T00:00:00",
          "2020-12-04T00:00:00",
          "2020-12-07T00:00:00",
          "2020-12-08T00:00:00",
          "2020-12-09T00:00:00",
          "2020-12-10T00:00:00",
          "2020-12-11T00:00:00",
          "2020-12-14T00:00:00",
          "2020-12-15T00:00:00",
          "2020-12-16T00:00:00",
          "2020-12-17T00:00:00",
          "2020-12-18T00:00:00",
          "2020-12-21T00:00:00",
          "2020-12-22T00:00:00",
          "2020-12-23T00:00:00",
          "2020-12-24T00:00:00",
          "2020-12-28T00:00:00",
          "2020-12-29T00:00:00",
          "2020-12-30T00:00:00",
          "2020-12-31T00:00:00",
          "2021-01-04T00:00:00",
          "2021-01-05T00:00:00",
          "2021-01-06T00:00:00",
          "2021-01-07T00:00:00",
          "2021-01-08T00:00:00",
          "2021-01-11T00:00:00",
          "2021-01-12T00:00:00",
          "2021-01-13T00:00:00",
          "2021-01-14T00:00:00",
          "2021-01-15T00:00:00",
          "2021-01-19T00:00:00",
          "2021-01-20T00:00:00",
          "2021-01-21T00:00:00",
          "2021-01-22T00:00:00",
          "2021-01-25T00:00:00",
          "2021-01-26T00:00:00",
          "2021-01-27T00:00:00",
          "2021-01-28T00:00:00",
          "2021-01-29T00:00:00",
          "2021-02-01T00:00:00",
          "2021-02-02T00:00:00",
          "2021-02-03T00:00:00",
          "2021-02-04T00:00:00",
          "2021-02-05T00:00:00",
          "2021-02-08T00:00:00",
          "2021-02-09T00:00:00",
          "2021-02-10T00:00:00",
          "2021-02-11T00:00:00",
          "2021-02-12T00:00:00",
          "2021-02-16T00:00:00",
          "2021-02-17T00:00:00",
          "2021-02-18T00:00:00",
          "2021-02-19T00:00:00",
          "2021-02-22T00:00:00",
          "2021-02-23T00:00:00",
          "2021-02-24T00:00:00",
          "2021-02-25T00:00:00",
          "2021-02-26T00:00:00",
          "2021-03-01T00:00:00",
          "2021-03-02T00:00:00",
          "2021-03-03T00:00:00",
          "2021-03-04T00:00:00",
          "2021-03-05T00:00:00",
          "2021-03-08T00:00:00",
          "2021-03-09T00:00:00",
          "2021-03-10T00:00:00",
          "2021-03-11T00:00:00",
          "2021-03-12T00:00:00",
          "2021-03-15T00:00:00",
          "2021-03-16T00:00:00",
          "2021-03-17T00:00:00",
          "2021-03-18T00:00:00",
          "2021-03-19T00:00:00",
          "2021-03-22T00:00:00",
          "2021-03-23T00:00:00",
          "2021-03-24T00:00:00",
          "2021-03-25T00:00:00",
          "2021-03-26T00:00:00",
          "2021-03-29T00:00:00",
          "2021-03-30T00:00:00",
          "2021-03-31T00:00:00",
          "2021-04-01T00:00:00",
          "2021-04-05T00:00:00",
          "2021-04-06T00:00:00",
          "2021-04-07T00:00:00",
          "2021-04-08T00:00:00",
          "2021-04-09T00:00:00",
          "2021-04-12T00:00:00",
          "2021-04-13T00:00:00",
          "2021-04-14T00:00:00",
          "2021-04-15T00:00:00",
          "2021-04-16T00:00:00",
          "2021-04-19T00:00:00",
          "2021-04-20T00:00:00",
          "2021-04-21T00:00:00",
          "2021-04-22T00:00:00",
          "2021-04-23T00:00:00",
          "2021-04-26T00:00:00",
          "2021-04-27T00:00:00",
          "2021-04-28T00:00:00",
          "2021-04-29T00:00:00",
          "2021-04-30T00:00:00",
          "2021-05-03T00:00:00",
          "2021-05-04T00:00:00",
          "2021-05-05T00:00:00",
          "2021-05-06T00:00:00",
          "2021-05-07T00:00:00",
          "2021-05-10T00:00:00",
          "2021-05-11T00:00:00",
          "2021-05-12T00:00:00",
          "2021-05-13T00:00:00",
          "2021-05-14T00:00:00",
          "2021-05-17T00:00:00",
          "2021-05-18T00:00:00",
          "2021-05-19T00:00:00",
          "2021-05-20T00:00:00",
          "2021-05-21T00:00:00",
          "2021-05-24T00:00:00",
          "2021-05-25T00:00:00",
          "2021-05-26T00:00:00",
          "2021-05-27T00:00:00",
          "2021-05-28T00:00:00",
          "2021-06-01T00:00:00",
          "2021-06-02T00:00:00",
          "2021-06-03T00:00:00",
          "2021-06-04T00:00:00",
          "2021-06-07T00:00:00",
          "2021-06-08T00:00:00",
          "2021-06-09T00:00:00",
          "2021-06-10T00:00:00",
          "2021-06-11T00:00:00",
          "2021-06-14T00:00:00",
          "2021-06-15T00:00:00",
          "2021-06-16T00:00:00",
          "2021-06-17T00:00:00",
          "2021-06-18T00:00:00",
          "2021-06-21T00:00:00",
          "2021-06-22T00:00:00",
          "2021-06-23T00:00:00",
          "2021-06-24T00:00:00",
          "2021-06-25T00:00:00",
          "2021-06-28T00:00:00",
          "2021-06-29T00:00:00",
          "2021-06-30T00:00:00",
          "2021-07-01T00:00:00",
          "2021-07-02T00:00:00",
          "2021-07-06T00:00:00",
          "2021-07-07T00:00:00",
          "2021-07-08T00:00:00",
          "2021-07-09T00:00:00",
          "2021-07-12T00:00:00",
          "2021-07-13T00:00:00",
          "2021-07-14T00:00:00",
          "2021-07-15T00:00:00",
          "2021-07-16T00:00:00",
          "2021-07-19T00:00:00",
          "2021-07-20T00:00:00",
          "2021-07-21T00:00:00",
          "2021-07-22T00:00:00",
          "2021-07-23T00:00:00",
          "2021-07-26T00:00:00",
          "2021-07-27T00:00:00",
          "2021-07-28T00:00:00",
          "2021-07-29T00:00:00",
          "2021-07-30T00:00:00",
          "2021-08-02T00:00:00",
          "2021-08-03T00:00:00",
          "2021-08-04T00:00:00",
          "2021-08-05T00:00:00",
          "2021-08-06T00:00:00",
          "2021-08-09T00:00:00",
          "2021-08-10T00:00:00",
          "2021-08-11T00:00:00",
          "2021-08-12T00:00:00",
          "2021-08-13T00:00:00",
          "2021-08-16T00:00:00",
          "2021-08-17T00:00:00",
          "2021-08-18T00:00:00",
          "2021-08-19T00:00:00",
          "2021-08-20T00:00:00",
          "2021-08-23T00:00:00",
          "2021-08-24T00:00:00",
          "2021-08-25T00:00:00",
          "2021-08-26T00:00:00",
          "2021-08-27T00:00:00",
          "2021-08-30T00:00:00",
          "2021-08-31T00:00:00",
          "2021-09-01T00:00:00",
          "2021-09-02T00:00:00",
          "2021-09-03T00:00:00",
          "2021-09-07T00:00:00",
          "2021-09-08T00:00:00",
          "2021-09-09T00:00:00",
          "2021-09-10T00:00:00",
          "2021-09-13T00:00:00",
          "2021-09-14T00:00:00",
          "2021-09-15T00:00:00",
          "2021-09-16T00:00:00",
          "2021-09-17T00:00:00",
          "2021-09-20T00:00:00",
          "2021-09-21T00:00:00",
          "2021-09-22T00:00:00",
          "2021-09-23T00:00:00",
          "2021-09-24T00:00:00",
          "2021-09-27T00:00:00",
          "2021-09-28T00:00:00",
          "2021-09-29T00:00:00",
          "2021-09-30T00:00:00",
          "2021-10-01T00:00:00",
          "2021-10-04T00:00:00",
          "2021-10-05T00:00:00",
          "2021-10-06T00:00:00",
          "2021-10-07T00:00:00",
          "2021-10-08T00:00:00",
          "2021-10-11T00:00:00",
          "2021-10-12T00:00:00",
          "2021-10-13T00:00:00",
          "2021-10-14T00:00:00",
          "2021-10-15T00:00:00",
          "2021-10-18T00:00:00",
          "2021-10-19T00:00:00",
          "2021-10-20T00:00:00",
          "2021-10-21T00:00:00",
          "2021-10-22T00:00:00",
          "2021-10-25T00:00:00",
          "2021-10-26T00:00:00",
          "2021-10-27T00:00:00",
          "2021-10-28T00:00:00",
          "2021-10-29T00:00:00",
          "2021-11-01T00:00:00",
          "2021-11-02T00:00:00",
          "2021-11-03T00:00:00",
          "2021-11-04T00:00:00",
          "2021-11-05T00:00:00",
          "2021-11-08T00:00:00",
          "2021-11-09T00:00:00",
          "2021-11-10T00:00:00",
          "2021-11-11T00:00:00",
          "2021-11-12T00:00:00",
          "2021-11-15T00:00:00",
          "2021-11-16T00:00:00",
          "2021-11-17T00:00:00",
          "2021-11-18T00:00:00",
          "2021-11-19T00:00:00",
          "2021-11-22T00:00:00",
          "2021-11-23T00:00:00",
          "2021-11-24T00:00:00",
          "2021-11-26T00:00:00",
          "2021-11-29T00:00:00",
          "2021-11-30T00:00:00"
         ],
         "y": [
          25.1,
          25.06,
          25.04,
          25.01,
          25.02,
          24.97,
          24.99,
          24.97,
          24.99,
          24.98,
          24.99,
          24.99,
          24.99,
          24.96,
          24.94,
          24.96,
          24.93,
          24.91,
          24.91,
          24.89,
          24.9,
          24.9,
          24.88,
          24.9,
          24.92,
          24.92,
          24.91,
          24.91,
          24.9,
          24.91,
          24.95,
          24.94,
          24.95,
          24.96,
          24.96,
          24.95,
          24.94,
          24.95,
          24.9,
          24.89,
          24.88,
          24.87,
          24.89,
          24.93,
          24.94,
          24.93,
          24.94,
          25,
          25.01,
          25.01,
          25.03,
          25.03,
          25.03,
          25.04,
          25.05,
          25.05,
          25.05,
          25.05,
          25.04,
          25.02,
          25.04,
          25.05,
          25.06,
          25.05,
          25.06,
          25.06,
          25.07,
          25.06,
          25.06,
          25.07,
          25.07,
          25.07,
          25.08,
          25.08,
          25.08,
          25.09,
          25.08,
          25.07,
          25.06,
          25.07,
          25.07,
          25.08,
          25.08,
          25.08,
          25.08,
          25.07,
          25.11,
          25.09,
          25.1,
          25.14,
          25.16,
          25.15,
          25.15,
          25.16,
          25.16,
          25.16,
          25.14,
          25.15,
          25.16,
          25.14,
          25.13,
          25.2,
          24.84,
          25.14,
          25.15,
          25.13,
          25.12,
          25.14,
          25.13,
          25.13,
          25.14,
          25.14,
          25.13,
          25.09,
          25.06,
          25.08,
          25.07,
          25.07,
          25.05,
          25.06,
          25.07,
          25.09,
          25.1,
          25.1,
          25.06,
          25.09,
          25.09,
          25.08,
          25.09,
          25.08,
          25.09,
          25.08,
          25.09,
          25.08,
          25.07,
          25.07,
          25.06,
          25.06,
          25.05,
          25.05,
          25.04,
          25.04,
          25.04,
          25.05,
          25.06,
          25.06,
          25.06,
          25.05,
          25.05,
          25.05,
          25.04,
          25.05,
          25.05,
          25.05,
          25.04,
          25.05,
          25.05,
          25.04,
          25.03,
          25.03,
          25.05,
          25.04,
          25,
          25.03,
          25.01,
          25,
          24.99,
          25.01,
          25.02,
          25.02,
          25.02,
          25.02,
          25,
          25.02,
          25,
          25,
          25.01,
          25,
          25,
          25.01,
          25.03,
          25.01,
          25,
          25,
          25.01,
          25.01,
          25,
          25.01,
          25.01,
          25.02,
          25.01,
          25.01,
          25.01,
          25.02,
          25.02,
          25.03,
          25.03,
          25.01,
          25,
          25.02,
          25.03,
          25.04,
          25.04,
          25.04,
          25,
          24.98,
          25,
          25,
          25,
          24.99,
          25,
          25.01,
          25.01,
          25.01,
          25.01,
          25,
          25.02,
          25.02,
          25.02,
          25.02,
          25.02,
          25.03,
          25.02,
          25.02,
          25.02,
          25,
          25,
          25,
          25.01,
          25,
          25,
          25.01,
          25.01,
          25.01,
          25.01,
          25.01,
          25,
          25.02,
          25.01,
          25.01,
          25,
          25.03,
          25,
          25.03,
          25.01,
          25.02,
          25,
          24.99,
          25.01,
          24.99,
          25,
          25.02,
          25.01,
          25,
          25,
          25,
          25,
          25,
          25.01,
          25.01,
          25.01,
          25.01,
          25.01,
          25.01,
          25.02,
          25.01,
          25.02,
          25.02,
          25,
          25.01,
          25,
          24.99,
          25,
          25,
          25,
          25,
          25.01,
          25,
          25.01,
          25.01,
          25,
          25.01,
          25,
          25.01,
          24.99,
          25.01,
          25.02,
          25,
          24.99,
          24.99,
          24.99,
          24.98,
          24.99,
          24.99,
          25.05,
          25.05,
          25.05,
          25.05,
          25.04,
          25.02,
          25.06,
          25.06,
          25.02,
          25.04,
          25.05,
          25.04,
          25.03,
          25.04,
          25.02,
          25.04
         ]
        },
        {
         "name": "High Price",
         "type": "scatter",
         "visible": "legendonly",
         "x": [
          "2020-09-09T00:00:00",
          "2020-09-10T00:00:00",
          "2020-09-11T00:00:00",
          "2020-09-14T00:00:00",
          "2020-09-15T00:00:00",
          "2020-09-16T00:00:00",
          "2020-09-17T00:00:00",
          "2020-09-18T00:00:00",
          "2020-09-21T00:00:00",
          "2020-09-22T00:00:00",
          "2020-09-23T00:00:00",
          "2020-09-24T00:00:00",
          "2020-09-25T00:00:00",
          "2020-09-28T00:00:00",
          "2020-09-29T00:00:00",
          "2020-09-30T00:00:00",
          "2020-10-01T00:00:00",
          "2020-10-02T00:00:00",
          "2020-10-05T00:00:00",
          "2020-10-06T00:00:00",
          "2020-10-07T00:00:00",
          "2020-10-08T00:00:00",
          "2020-10-09T00:00:00",
          "2020-10-12T00:00:00",
          "2020-10-13T00:00:00",
          "2020-10-14T00:00:00",
          "2020-10-15T00:00:00",
          "2020-10-16T00:00:00",
          "2020-10-19T00:00:00",
          "2020-10-20T00:00:00",
          "2020-10-21T00:00:00",
          "2020-10-22T00:00:00",
          "2020-10-23T00:00:00",
          "2020-10-26T00:00:00",
          "2020-10-27T00:00:00",
          "2020-10-28T00:00:00",
          "2020-10-29T00:00:00",
          "2020-10-30T00:00:00",
          "2020-11-02T00:00:00",
          "2020-11-03T00:00:00",
          "2020-11-04T00:00:00",
          "2020-11-05T00:00:00",
          "2020-11-06T00:00:00",
          "2020-11-09T00:00:00",
          "2020-11-10T00:00:00",
          "2020-11-11T00:00:00",
          "2020-11-12T00:00:00",
          "2020-11-13T00:00:00",
          "2020-11-16T00:00:00",
          "2020-11-17T00:00:00",
          "2020-11-18T00:00:00",
          "2020-11-19T00:00:00",
          "2020-11-20T00:00:00",
          "2020-11-23T00:00:00",
          "2020-11-24T00:00:00",
          "2020-11-25T00:00:00",
          "2020-11-27T00:00:00",
          "2020-11-30T00:00:00",
          "2020-12-01T00:00:00",
          "2020-12-02T00:00:00",
          "2020-12-03T00:00:00",
          "2020-12-04T00:00:00",
          "2020-12-07T00:00:00",
          "2020-12-08T00:00:00",
          "2020-12-09T00:00:00",
          "2020-12-10T00:00:00",
          "2020-12-11T00:00:00",
          "2020-12-14T00:00:00",
          "2020-12-15T00:00:00",
          "2020-12-16T00:00:00",
          "2020-12-17T00:00:00",
          "2020-12-18T00:00:00",
          "2020-12-21T00:00:00",
          "2020-12-22T00:00:00",
          "2020-12-23T00:00:00",
          "2020-12-24T00:00:00",
          "2020-12-28T00:00:00",
          "2020-12-29T00:00:00",
          "2020-12-30T00:00:00",
          "2020-12-31T00:00:00",
          "2021-01-04T00:00:00",
          "2021-01-05T00:00:00",
          "2021-01-06T00:00:00",
          "2021-01-07T00:00:00",
          "2021-01-08T00:00:00",
          "2021-01-11T00:00:00",
          "2021-01-12T00:00:00",
          "2021-01-13T00:00:00",
          "2021-01-14T00:00:00",
          "2021-01-15T00:00:00",
          "2021-01-19T00:00:00",
          "2021-01-20T00:00:00",
          "2021-01-21T00:00:00",
          "2021-01-22T00:00:00",
          "2021-01-25T00:00:00",
          "2021-01-26T00:00:00",
          "2021-01-27T00:00:00",
          "2021-01-28T00:00:00",
          "2021-01-29T00:00:00",
          "2021-02-01T00:00:00",
          "2021-02-02T00:00:00",
          "2021-02-03T00:00:00",
          "2021-02-04T00:00:00",
          "2021-02-05T00:00:00",
          "2021-02-08T00:00:00",
          "2021-02-09T00:00:00",
          "2021-02-10T00:00:00",
          "2021-02-11T00:00:00",
          "2021-02-12T00:00:00",
          "2021-02-16T00:00:00",
          "2021-02-17T00:00:00",
          "2021-02-18T00:00:00",
          "2021-02-19T00:00:00",
          "2021-02-22T00:00:00",
          "2021-02-23T00:00:00",
          "2021-02-24T00:00:00",
          "2021-02-25T00:00:00",
          "2021-02-26T00:00:00",
          "2021-03-01T00:00:00",
          "2021-03-02T00:00:00",
          "2021-03-03T00:00:00",
          "2021-03-04T00:00:00",
          "2021-03-05T00:00:00",
          "2021-03-08T00:00:00",
          "2021-03-09T00:00:00",
          "2021-03-10T00:00:00",
          "2021-03-11T00:00:00",
          "2021-03-12T00:00:00",
          "2021-03-15T00:00:00",
          "2021-03-16T00:00:00",
          "2021-03-17T00:00:00",
          "2021-03-18T00:00:00",
          "2021-03-19T00:00:00",
          "2021-03-22T00:00:00",
          "2021-03-23T00:00:00",
          "2021-03-24T00:00:00",
          "2021-03-25T00:00:00",
          "2021-03-26T00:00:00",
          "2021-03-29T00:00:00",
          "2021-03-30T00:00:00",
          "2021-03-31T00:00:00",
          "2021-04-01T00:00:00",
          "2021-04-05T00:00:00",
          "2021-04-06T00:00:00",
          "2021-04-07T00:00:00",
          "2021-04-08T00:00:00",
          "2021-04-09T00:00:00",
          "2021-04-12T00:00:00",
          "2021-04-13T00:00:00",
          "2021-04-14T00:00:00",
          "2021-04-15T00:00:00",
          "2021-04-16T00:00:00",
          "2021-04-19T00:00:00",
          "2021-04-20T00:00:00",
          "2021-04-21T00:00:00",
          "2021-04-22T00:00:00",
          "2021-04-23T00:00:00",
          "2021-04-26T00:00:00",
          "2021-04-27T00:00:00",
          "2021-04-28T00:00:00",
          "2021-04-29T00:00:00",
          "2021-04-30T00:00:00",
          "2021-05-03T00:00:00",
          "2021-05-04T00:00:00",
          "2021-05-05T00:00:00",
          "2021-05-06T00:00:00",
          "2021-05-07T00:00:00",
          "2021-05-10T00:00:00",
          "2021-05-11T00:00:00",
          "2021-05-12T00:00:00",
          "2021-05-13T00:00:00",
          "2021-05-14T00:00:00",
          "2021-05-17T00:00:00",
          "2021-05-18T00:00:00",
          "2021-05-19T00:00:00",
          "2021-05-20T00:00:00",
          "2021-05-21T00:00:00",
          "2021-05-24T00:00:00",
          "2021-05-25T00:00:00",
          "2021-05-26T00:00:00",
          "2021-05-27T00:00:00",
          "2021-05-28T00:00:00",
          "2021-06-01T00:00:00",
          "2021-06-02T00:00:00",
          "2021-06-03T00:00:00",
          "2021-06-04T00:00:00",
          "2021-06-07T00:00:00",
          "2021-06-08T00:00:00",
          "2021-06-09T00:00:00",
          "2021-06-10T00:00:00",
          "2021-06-11T00:00:00",
          "2021-06-14T00:00:00",
          "2021-06-15T00:00:00",
          "2021-06-16T00:00:00",
          "2021-06-17T00:00:00",
          "2021-06-18T00:00:00",
          "2021-06-21T00:00:00",
          "2021-06-22T00:00:00",
          "2021-06-23T00:00:00",
          "2021-06-24T00:00:00",
          "2021-06-25T00:00:00",
          "2021-06-28T00:00:00",
          "2021-06-29T00:00:00",
          "2021-06-30T00:00:00",
          "2021-07-01T00:00:00",
          "2021-07-02T00:00:00",
          "2021-07-06T00:00:00",
          "2021-07-07T00:00:00",
          "2021-07-08T00:00:00",
          "2021-07-09T00:00:00",
          "2021-07-12T00:00:00",
          "2021-07-13T00:00:00",
          "2021-07-14T00:00:00",
          "2021-07-15T00:00:00",
          "2021-07-16T00:00:00",
          "2021-07-19T00:00:00",
          "2021-07-20T00:00:00",
          "2021-07-21T00:00:00",
          "2021-07-22T00:00:00",
          "2021-07-23T00:00:00",
          "2021-07-26T00:00:00",
          "2021-07-27T00:00:00",
          "2021-07-28T00:00:00",
          "2021-07-29T00:00:00",
          "2021-07-30T00:00:00",
          "2021-08-02T00:00:00",
          "2021-08-03T00:00:00",
          "2021-08-04T00:00:00",
          "2021-08-05T00:00:00",
          "2021-08-06T00:00:00",
          "2021-08-09T00:00:00",
          "2021-08-10T00:00:00",
          "2021-08-11T00:00:00",
          "2021-08-12T00:00:00",
          "2021-08-13T00:00:00",
          "2021-08-16T00:00:00",
          "2021-08-17T00:00:00",
          "2021-08-18T00:00:00",
          "2021-08-19T00:00:00",
          "2021-08-20T00:00:00",
          "2021-08-23T00:00:00",
          "2021-08-24T00:00:00",
          "2021-08-25T00:00:00",
          "2021-08-26T00:00:00",
          "2021-08-27T00:00:00",
          "2021-08-30T00:00:00",
          "2021-08-31T00:00:00",
          "2021-09-01T00:00:00",
          "2021-09-02T00:00:00",
          "2021-09-03T00:00:00",
          "2021-09-07T00:00:00",
          "2021-09-08T00:00:00",
          "2021-09-09T00:00:00",
          "2021-09-10T00:00:00",
          "2021-09-13T00:00:00",
          "2021-09-14T00:00:00",
          "2021-09-15T00:00:00",
          "2021-09-16T00:00:00",
          "2021-09-17T00:00:00",
          "2021-09-20T00:00:00",
          "2021-09-21T00:00:00",
          "2021-09-22T00:00:00",
          "2021-09-23T00:00:00",
          "2021-09-24T00:00:00",
          "2021-09-27T00:00:00",
          "2021-09-28T00:00:00",
          "2021-09-29T00:00:00",
          "2021-09-30T00:00:00",
          "2021-10-01T00:00:00",
          "2021-10-04T00:00:00",
          "2021-10-05T00:00:00",
          "2021-10-06T00:00:00",
          "2021-10-07T00:00:00",
          "2021-10-08T00:00:00",
          "2021-10-11T00:00:00",
          "2021-10-12T00:00:00",
          "2021-10-13T00:00:00",
          "2021-10-14T00:00:00",
          "2021-10-15T00:00:00",
          "2021-10-18T00:00:00",
          "2021-10-19T00:00:00",
          "2021-10-20T00:00:00",
          "2021-10-21T00:00:00",
          "2021-10-22T00:00:00",
          "2021-10-25T00:00:00",
          "2021-10-26T00:00:00",
          "2021-10-27T00:00:00",
          "2021-10-28T00:00:00",
          "2021-10-29T00:00:00",
          "2021-11-01T00:00:00",
          "2021-11-02T00:00:00",
          "2021-11-03T00:00:00",
          "2021-11-04T00:00:00",
          "2021-11-05T00:00:00",
          "2021-11-08T00:00:00",
          "2021-11-09T00:00:00",
          "2021-11-10T00:00:00",
          "2021-11-11T00:00:00",
          "2021-11-12T00:00:00",
          "2021-11-15T00:00:00",
          "2021-11-16T00:00:00",
          "2021-11-17T00:00:00",
          "2021-11-18T00:00:00",
          "2021-11-19T00:00:00",
          "2021-11-22T00:00:00",
          "2021-11-23T00:00:00",
          "2021-11-24T00:00:00",
          "2021-11-26T00:00:00",
          "2021-11-29T00:00:00",
          "2021-11-30T00:00:00"
         ],
         "y": [
          25.12,
          25.07,
          25.05,
          25.06,
          25.03,
          24.98,
          25,
          24.98,
          24.99,
          24.99,
          25,
          24.99,
          25,
          24.97,
          24.95,
          24.97,
          24.93,
          24.92,
          24.94,
          24.91,
          24.91,
          24.91,
          24.91,
          24.9,
          24.92,
          24.92,
          24.92,
          24.91,
          24.91,
          24.92,
          24.95,
          24.94,
          24.95,
          24.96,
          24.96,
          24.96,
          24.96,
          24.95,
          24.9,
          24.89,
          24.9,
          24.87,
          24.89,
          24.94,
          24.94,
          24.93,
          24.94,
          25.01,
          25.02,
          25.01,
          25.05,
          25.03,
          25.04,
          25.04,
          25.05,
          25.05,
          25.05,
          25.05,
          25.04,
          25.03,
          25.04,
          25.05,
          25.06,
          25.06,
          25.06,
          25.06,
          25.07,
          25.06,
          25.06,
          25.07,
          25.09,
          25.08,
          25.08,
          25.08,
          25.09,
          25.09,
          25.09,
          25.07,
          25.07,
          25.07,
          25.07,
          25.08,
          25.09,
          25.08,
          25.08,
          25.1,
          25.11,
          25.09,
          25.1,
          25.14,
          25.16,
          25.15,
          25.15,
          25.17,
          25.16,
          25.17,
          25.15,
          25.15,
          25.16,
          25.14,
          25.13,
          25.4,
          25.15,
          25.14,
          25.15,
          25.13,
          25.14,
          25.14,
          25.13,
          25.13,
          25.14,
          25.14,
          25.13,
          25.09,
          25.08,
          25.08,
          25.08,
          25.07,
          25.05,
          25.06,
          25.07,
          25.09,
          25.1,
          25.1,
          25.07,
          25.09,
          25.09,
          25.08,
          25.09,
          25.08,
          25.09,
          25.09,
          25.09,
          25.08,
          25.09,
          25.07,
          25.06,
          25.06,
          25.05,
          25.07,
          25.04,
          25.04,
          25.04,
          25.06,
          25.06,
          25.06,
          25.06,
          25.05,
          25.05,
          25.05,
          25.05,
          25.06,
          25.05,
          25.06,
          25.04,
          25.05,
          25.05,
          25.04,
          25.04,
          25.12,
          25.05,
          25.04,
          25,
          25.03,
          25.01,
          25,
          24.99,
          25.01,
          25.02,
          25.02,
          25.2,
          25.02,
          25,
          25.02,
          25.02,
          25.01,
          25.01,
          25.02,
          25.02,
          25.01,
          25.03,
          25.02,
          25,
          25,
          25.01,
          25.01,
          25,
          25.01,
          25.01,
          25.02,
          25.01,
          25.01,
          25.01,
          25.02,
          25.02,
          25.04,
          25.03,
          25.03,
          25.04,
          25.02,
          25.04,
          25.04,
          25.04,
          25.04,
          25,
          25,
          25,
          25,
          25,
          25,
          25,
          25.01,
          25.01,
          25.01,
          25.01,
          25.02,
          25.02,
          25.02,
          25.02,
          25.02,
          25.02,
          25.03,
          25.02,
          25.02,
          25.02,
          25,
          25,
          25,
          25.01,
          25.01,
          25.01,
          25.01,
          25.01,
          25.01,
          25.01,
          25.01,
          25.01,
          25.02,
          25.01,
          25.01,
          25.01,
          25.03,
          25.01,
          25.03,
          25.01,
          25.02,
          25,
          25,
          25.01,
          25,
          25,
          25.02,
          25.01,
          25,
          25,
          25.01,
          25,
          25,
          25.01,
          25.01,
          25.01,
          25.01,
          25.01,
          25.01,
          25.02,
          25.03,
          25.02,
          25.02,
          25,
          25.01,
          25,
          24.99,
          25,
          25,
          25,
          25,
          25.01,
          25,
          25.01,
          25.01,
          25,
          25.01,
          25,
          25.01,
          25,
          25.01,
          25.02,
          25,
          25,
          24.99,
          24.99,
          24.99,
          24.99,
          25.03,
          25.05,
          25.05,
          25.05,
          25.05,
          25.06,
          25.04,
          25.06,
          25.06,
          25.04,
          25.04,
          25.06,
          25.04,
          25.04,
          25.04,
          25.03,
          25.04
         ]
        },
        {
         "name": "Low Price",
         "type": "scatter",
         "visible": "legendonly",
         "x": [
          "2020-09-09T00:00:00",
          "2020-09-10T00:00:00",
          "2020-09-11T00:00:00",
          "2020-09-14T00:00:00",
          "2020-09-15T00:00:00",
          "2020-09-16T00:00:00",
          "2020-09-17T00:00:00",
          "2020-09-18T00:00:00",
          "2020-09-21T00:00:00",
          "2020-09-22T00:00:00",
          "2020-09-23T00:00:00",
          "2020-09-24T00:00:00",
          "2020-09-25T00:00:00",
          "2020-09-28T00:00:00",
          "2020-09-29T00:00:00",
          "2020-09-30T00:00:00",
          "2020-10-01T00:00:00",
          "2020-10-02T00:00:00",
          "2020-10-05T00:00:00",
          "2020-10-06T00:00:00",
          "2020-10-07T00:00:00",
          "2020-10-08T00:00:00",
          "2020-10-09T00:00:00",
          "2020-10-12T00:00:00",
          "2020-10-13T00:00:00",
          "2020-10-14T00:00:00",
          "2020-10-15T00:00:00",
          "2020-10-16T00:00:00",
          "2020-10-19T00:00:00",
          "2020-10-20T00:00:00",
          "2020-10-21T00:00:00",
          "2020-10-22T00:00:00",
          "2020-10-23T00:00:00",
          "2020-10-26T00:00:00",
          "2020-10-27T00:00:00",
          "2020-10-28T00:00:00",
          "2020-10-29T00:00:00",
          "2020-10-30T00:00:00",
          "2020-11-02T00:00:00",
          "2020-11-03T00:00:00",
          "2020-11-04T00:00:00",
          "2020-11-05T00:00:00",
          "2020-11-06T00:00:00",
          "2020-11-09T00:00:00",
          "2020-11-10T00:00:00",
          "2020-11-11T00:00:00",
          "2020-11-12T00:00:00",
          "2020-11-13T00:00:00",
          "2020-11-16T00:00:00",
          "2020-11-17T00:00:00",
          "2020-11-18T00:00:00",
          "2020-11-19T00:00:00",
          "2020-11-20T00:00:00",
          "2020-11-23T00:00:00",
          "2020-11-24T00:00:00",
          "2020-11-25T00:00:00",
          "2020-11-27T00:00:00",
          "2020-11-30T00:00:00",
          "2020-12-01T00:00:00",
          "2020-12-02T00:00:00",
          "2020-12-03T00:00:00",
          "2020-12-04T00:00:00",
          "2020-12-07T00:00:00",
          "2020-12-08T00:00:00",
          "2020-12-09T00:00:00",
          "2020-12-10T00:00:00",
          "2020-12-11T00:00:00",
          "2020-12-14T00:00:00",
          "2020-12-15T00:00:00",
          "2020-12-16T00:00:00",
          "2020-12-17T00:00:00",
          "2020-12-18T00:00:00",
          "2020-12-21T00:00:00",
          "2020-12-22T00:00:00",
          "2020-12-23T00:00:00",
          "2020-12-24T00:00:00",
          "2020-12-28T00:00:00",
          "2020-12-29T00:00:00",
          "2020-12-30T00:00:00",
          "2020-12-31T00:00:00",
          "2021-01-04T00:00:00",
          "2021-01-05T00:00:00",
          "2021-01-06T00:00:00",
          "2021-01-07T00:00:00",
          "2021-01-08T00:00:00",
          "2021-01-11T00:00:00",
          "2021-01-12T00:00:00",
          "2021-01-13T00:00:00",
          "2021-01-14T00:00:00",
          "2021-01-15T00:00:00",
          "2021-01-19T00:00:00",
          "2021-01-20T00:00:00",
          "2021-01-21T00:00:00",
          "2021-01-22T00:00:00",
          "2021-01-25T00:00:00",
          "2021-01-26T00:00:00",
          "2021-01-27T00:00:00",
          "2021-01-28T00:00:00",
          "2021-01-29T00:00:00",
          "2021-02-01T00:00:00",
          "2021-02-02T00:00:00",
          "2021-02-03T00:00:00",
          "2021-02-04T00:00:00",
          "2021-02-05T00:00:00",
          "2021-02-08T00:00:00",
          "2021-02-09T00:00:00",
          "2021-02-10T00:00:00",
          "2021-02-11T00:00:00",
          "2021-02-12T00:00:00",
          "2021-02-16T00:00:00",
          "2021-02-17T00:00:00",
          "2021-02-18T00:00:00",
          "2021-02-19T00:00:00",
          "2021-02-22T00:00:00",
          "2021-02-23T00:00:00",
          "2021-02-24T00:00:00",
          "2021-02-25T00:00:00",
          "2021-02-26T00:00:00",
          "2021-03-01T00:00:00",
          "2021-03-02T00:00:00",
          "2021-03-03T00:00:00",
          "2021-03-04T00:00:00",
          "2021-03-05T00:00:00",
          "2021-03-08T00:00:00",
          "2021-03-09T00:00:00",
          "2021-03-10T00:00:00",
          "2021-03-11T00:00:00",
          "2021-03-12T00:00:00",
          "2021-03-15T00:00:00",
          "2021-03-16T00:00:00",
          "2021-03-17T00:00:00",
          "2021-03-18T00:00:00",
          "2021-03-19T00:00:00",
          "2021-03-22T00:00:00",
          "2021-03-23T00:00:00",
          "2021-03-24T00:00:00",
          "2021-03-25T00:00:00",
          "2021-03-26T00:00:00",
          "2021-03-29T00:00:00",
          "2021-03-30T00:00:00",
          "2021-03-31T00:00:00",
          "2021-04-01T00:00:00",
          "2021-04-05T00:00:00",
          "2021-04-06T00:00:00",
          "2021-04-07T00:00:00",
          "2021-04-08T00:00:00",
          "2021-04-09T00:00:00",
          "2021-04-12T00:00:00",
          "2021-04-13T00:00:00",
          "2021-04-14T00:00:00",
          "2021-04-15T00:00:00",
          "2021-04-16T00:00:00",
          "2021-04-19T00:00:00",
          "2021-04-20T00:00:00",
          "2021-04-21T00:00:00",
          "2021-04-22T00:00:00",
          "2021-04-23T00:00:00",
          "2021-04-26T00:00:00",
          "2021-04-27T00:00:00",
          "2021-04-28T00:00:00",
          "2021-04-29T00:00:00",
          "2021-04-30T00:00:00",
          "2021-05-03T00:00:00",
          "2021-05-04T00:00:00",
          "2021-05-05T00:00:00",
          "2021-05-06T00:00:00",
          "2021-05-07T00:00:00",
          "2021-05-10T00:00:00",
          "2021-05-11T00:00:00",
          "2021-05-12T00:00:00",
          "2021-05-13T00:00:00",
          "2021-05-14T00:00:00",
          "2021-05-17T00:00:00",
          "2021-05-18T00:00:00",
          "2021-05-19T00:00:00",
          "2021-05-20T00:00:00",
          "2021-05-21T00:00:00",
          "2021-05-24T00:00:00",
          "2021-05-25T00:00:00",
          "2021-05-26T00:00:00",
          "2021-05-27T00:00:00",
          "2021-05-28T00:00:00",
          "2021-06-01T00:00:00",
          "2021-06-02T00:00:00",
          "2021-06-03T00:00:00",
          "2021-06-04T00:00:00",
          "2021-06-07T00:00:00",
          "2021-06-08T00:00:00",
          "2021-06-09T00:00:00",
          "2021-06-10T00:00:00",
          "2021-06-11T00:00:00",
          "2021-06-14T00:00:00",
          "2021-06-15T00:00:00",
          "2021-06-16T00:00:00",
          "2021-06-17T00:00:00",
          "2021-06-18T00:00:00",
          "2021-06-21T00:00:00",
          "2021-06-22T00:00:00",
          "2021-06-23T00:00:00",
          "2021-06-24T00:00:00",
          "2021-06-25T00:00:00",
          "2021-06-28T00:00:00",
          "2021-06-29T00:00:00",
          "2021-06-30T00:00:00",
          "2021-07-01T00:00:00",
          "2021-07-02T00:00:00",
          "2021-07-06T00:00:00",
          "2021-07-07T00:00:00",
          "2021-07-08T00:00:00",
          "2021-07-09T00:00:00",
          "2021-07-12T00:00:00",
          "2021-07-13T00:00:00",
          "2021-07-14T00:00:00",
          "2021-07-15T00:00:00",
          "2021-07-16T00:00:00",
          "2021-07-19T00:00:00",
          "2021-07-20T00:00:00",
          "2021-07-21T00:00:00",
          "2021-07-22T00:00:00",
          "2021-07-23T00:00:00",
          "2021-07-26T00:00:00",
          "2021-07-27T00:00:00",
          "2021-07-28T00:00:00",
          "2021-07-29T00:00:00",
          "2021-07-30T00:00:00",
          "2021-08-02T00:00:00",
          "2021-08-03T00:00:00",
          "2021-08-04T00:00:00",
          "2021-08-05T00:00:00",
          "2021-08-06T00:00:00",
          "2021-08-09T00:00:00",
          "2021-08-10T00:00:00",
          "2021-08-11T00:00:00",
          "2021-08-12T00:00:00",
          "2021-08-13T00:00:00",
          "2021-08-16T00:00:00",
          "2021-08-17T00:00:00",
          "2021-08-18T00:00:00",
          "2021-08-19T00:00:00",
          "2021-08-20T00:00:00",
          "2021-08-23T00:00:00",
          "2021-08-24T00:00:00",
          "2021-08-25T00:00:00",
          "2021-08-26T00:00:00",
          "2021-08-27T00:00:00",
          "2021-08-30T00:00:00",
          "2021-08-31T00:00:00",
          "2021-09-01T00:00:00",
          "2021-09-02T00:00:00",
          "2021-09-03T00:00:00",
          "2021-09-07T00:00:00",
          "2021-09-08T00:00:00",
          "2021-09-09T00:00:00",
          "2021-09-10T00:00:00",
          "2021-09-13T00:00:00",
          "2021-09-14T00:00:00",
          "2021-09-15T00:00:00",
          "2021-09-16T00:00:00",
          "2021-09-17T00:00:00",
          "2021-09-20T00:00:00",
          "2021-09-21T00:00:00",
          "2021-09-22T00:00:00",
          "2021-09-23T00:00:00",
          "2021-09-24T00:00:00",
          "2021-09-27T00:00:00",
          "2021-09-28T00:00:00",
          "2021-09-29T00:00:00",
          "2021-09-30T00:00:00",
          "2021-10-01T00:00:00",
          "2021-10-04T00:00:00",
          "2021-10-05T00:00:00",
          "2021-10-06T00:00:00",
          "2021-10-07T00:00:00",
          "2021-10-08T00:00:00",
          "2021-10-11T00:00:00",
          "2021-10-12T00:00:00",
          "2021-10-13T00:00:00",
          "2021-10-14T00:00:00",
          "2021-10-15T00:00:00",
          "2021-10-18T00:00:00",
          "2021-10-19T00:00:00",
          "2021-10-20T00:00:00",
          "2021-10-21T00:00:00",
          "2021-10-22T00:00:00",
          "2021-10-25T00:00:00",
          "2021-10-26T00:00:00",
          "2021-10-27T00:00:00",
          "2021-10-28T00:00:00",
          "2021-10-29T00:00:00",
          "2021-11-01T00:00:00",
          "2021-11-02T00:00:00",
          "2021-11-03T00:00:00",
          "2021-11-04T00:00:00",
          "2021-11-05T00:00:00",
          "2021-11-08T00:00:00",
          "2021-11-09T00:00:00",
          "2021-11-10T00:00:00",
          "2021-11-11T00:00:00",
          "2021-11-12T00:00:00",
          "2021-11-15T00:00:00",
          "2021-11-16T00:00:00",
          "2021-11-17T00:00:00",
          "2021-11-18T00:00:00",
          "2021-11-19T00:00:00",
          "2021-11-22T00:00:00",
          "2021-11-23T00:00:00",
          "2021-11-24T00:00:00",
          "2021-11-26T00:00:00",
          "2021-11-29T00:00:00",
          "2021-11-30T00:00:00"
         ],
         "y": [
          25.07,
          25.05,
          25.02,
          25.01,
          25.01,
          24.97,
          24.98,
          24.97,
          24.98,
          24.98,
          24.99,
          24.98,
          24.97,
          24.95,
          24.93,
          24.96,
          24.92,
          24.91,
          24.91,
          24.89,
          24.9,
          24.9,
          24.88,
          24.9,
          24.91,
          24.91,
          24.9,
          24.9,
          24.9,
          24.9,
          24.95,
          24.93,
          24.95,
          24.94,
          24.95,
          24.95,
          24.94,
          24.94,
          24.89,
          24.89,
          24.88,
          24.87,
          24.89,
          24.93,
          24.92,
          24.93,
          24.94,
          25,
          25.01,
          25,
          25.01,
          25.03,
          25.03,
          25.04,
          25.04,
          25.05,
          25.05,
          25.04,
          25.03,
          25.02,
          25.04,
          25.05,
          25.06,
          25.05,
          25.06,
          25.06,
          25.06,
          25.06,
          25.06,
          25.07,
          25.07,
          25.07,
          25.07,
          25.08,
          25.08,
          25.09,
          25.08,
          25.07,
          25.06,
          25.07,
          25.07,
          25.07,
          25.08,
          25.08,
          25.07,
          25.07,
          25.1,
          25.09,
          25.1,
          25.12,
          25.15,
          25.15,
          25.14,
          25.16,
          25.16,
          25.16,
          25.14,
          25.15,
          25.15,
          25.13,
          25.13,
          25.12,
          24.84,
          25.14,
          25.14,
          25.13,
          25.12,
          25.13,
          25.12,
          25.12,
          25.13,
          25.13,
          25.13,
          25.09,
          25.06,
          25.07,
          25.07,
          25.06,
          25.04,
          25.06,
          25.07,
          25.08,
          25.08,
          25.07,
          25.05,
          25.08,
          25.08,
          25.08,
          25.09,
          25.08,
          25.09,
          25.08,
          25.09,
          25.08,
          25.06,
          25.06,
          25.06,
          25.06,
          25.05,
          25.05,
          25.04,
          25.04,
          25.04,
          25.05,
          25.05,
          25.05,
          25.05,
          25.05,
          25.03,
          25.04,
          25.04,
          25.05,
          25.05,
          25.04,
          25.04,
          25.04,
          25.04,
          25.03,
          25.03,
          25.02,
          25.04,
          25.04,
          25,
          25.02,
          24.97,
          25,
          24.99,
          25.01,
          25.01,
          25,
          25,
          25,
          25,
          25,
          24.99,
          25,
          25.01,
          24.91,
          25,
          25.01,
          25,
          25,
          24.97,
          25,
          25,
          25,
          25,
          25,
          25.01,
          25,
          25.01,
          25.01,
          25.01,
          25.01,
          25.01,
          25.03,
          25.02,
          25.01,
          25,
          25.02,
          25.01,
          25.01,
          25.02,
          25.01,
          25,
          24.98,
          25,
          25,
          25,
          24.99,
          25,
          25,
          25.01,
          25.01,
          25.01,
          25,
          25.01,
          25,
          25.02,
          25.02,
          25.02,
          24.99,
          25.02,
          25.02,
          25.02,
          25,
          25,
          24.99,
          25.01,
          25,
          25,
          25.01,
          25.01,
          25.01,
          25.01,
          25,
          25,
          25.02,
          25.01,
          25.01,
          25,
          25.01,
          25,
          25.01,
          25.01,
          25.02,
          25,
          24.99,
          25,
          24.99,
          25,
          25,
          25,
          25,
          25,
          25,
          25,
          25,
          25,
          25,
          25,
          25.01,
          25.01,
          25.01,
          25.01,
          25.01,
          25.02,
          25.01,
          25,
          24.99,
          24.99,
          24.99,
          25,
          25,
          25,
          25,
          25,
          25,
          25,
          25,
          25,
          25,
          25,
          25,
          24.99,
          25.01,
          25.01,
          25,
          24.99,
          24.99,
          24.99,
          24.98,
          24.99,
          24.99,
          25.05,
          25.02,
          25.04,
          25.05,
          25.02,
          25.02,
          25.04,
          25.05,
          25.02,
          25.02,
          25.05,
          25.02,
          25.02,
          25.02,
          25.02,
          25.04
         ]
        },
        {
         "marker": {
          "color": "gold"
         },
         "name": "Close Price",
         "type": "scatter",
         "x": [
          "2020-09-09T00:00:00",
          "2020-09-10T00:00:00",
          "2020-09-11T00:00:00",
          "2020-09-14T00:00:00",
          "2020-09-15T00:00:00",
          "2020-09-16T00:00:00",
          "2020-09-17T00:00:00",
          "2020-09-18T00:00:00",
          "2020-09-21T00:00:00",
          "2020-09-22T00:00:00",
          "2020-09-23T00:00:00",
          "2020-09-24T00:00:00",
          "2020-09-25T00:00:00",
          "2020-09-28T00:00:00",
          "2020-09-29T00:00:00",
          "2020-09-30T00:00:00",
          "2020-10-01T00:00:00",
          "2020-10-02T00:00:00",
          "2020-10-05T00:00:00",
          "2020-10-06T00:00:00",
          "2020-10-07T00:00:00",
          "2020-10-08T00:00:00",
          "2020-10-09T00:00:00",
          "2020-10-12T00:00:00",
          "2020-10-13T00:00:00",
          "2020-10-14T00:00:00",
          "2020-10-15T00:00:00",
          "2020-10-16T00:00:00",
          "2020-10-19T00:00:00",
          "2020-10-20T00:00:00",
          "2020-10-21T00:00:00",
          "2020-10-22T00:00:00",
          "2020-10-23T00:00:00",
          "2020-10-26T00:00:00",
          "2020-10-27T00:00:00",
          "2020-10-28T00:00:00",
          "2020-10-29T00:00:00",
          "2020-10-30T00:00:00",
          "2020-11-02T00:00:00",
          "2020-11-03T00:00:00",
          "2020-11-04T00:00:00",
          "2020-11-05T00:00:00",
          "2020-11-06T00:00:00",
          "2020-11-09T00:00:00",
          "2020-11-10T00:00:00",
          "2020-11-11T00:00:00",
          "2020-11-12T00:00:00",
          "2020-11-13T00:00:00",
          "2020-11-16T00:00:00",
          "2020-11-17T00:00:00",
          "2020-11-18T00:00:00",
          "2020-11-19T00:00:00",
          "2020-11-20T00:00:00",
          "2020-11-23T00:00:00",
          "2020-11-24T00:00:00",
          "2020-11-25T00:00:00",
          "2020-11-27T00:00:00",
          "2020-11-30T00:00:00",
          "2020-12-01T00:00:00",
          "2020-12-02T00:00:00",
          "2020-12-03T00:00:00",
          "2020-12-04T00:00:00",
          "2020-12-07T00:00:00",
          "2020-12-08T00:00:00",
          "2020-12-09T00:00:00",
          "2020-12-10T00:00:00",
          "2020-12-11T00:00:00",
          "2020-12-14T00:00:00",
          "2020-12-15T00:00:00",
          "2020-12-16T00:00:00",
          "2020-12-17T00:00:00",
          "2020-12-18T00:00:00",
          "2020-12-21T00:00:00",
          "2020-12-22T00:00:00",
          "2020-12-23T00:00:00",
          "2020-12-24T00:00:00",
          "2020-12-28T00:00:00",
          "2020-12-29T00:00:00",
          "2020-12-30T00:00:00",
          "2020-12-31T00:00:00",
          "2021-01-04T00:00:00",
          "2021-01-05T00:00:00",
          "2021-01-06T00:00:00",
          "2021-01-07T00:00:00",
          "2021-01-08T00:00:00",
          "2021-01-11T00:00:00",
          "2021-01-12T00:00:00",
          "2021-01-13T00:00:00",
          "2021-01-14T00:00:00",
          "2021-01-15T00:00:00",
          "2021-01-19T00:00:00",
          "2021-01-20T00:00:00",
          "2021-01-21T00:00:00",
          "2021-01-22T00:00:00",
          "2021-01-25T00:00:00",
          "2021-01-26T00:00:00",
          "2021-01-27T00:00:00",
          "2021-01-28T00:00:00",
          "2021-01-29T00:00:00",
          "2021-02-01T00:00:00",
          "2021-02-02T00:00:00",
          "2021-02-03T00:00:00",
          "2021-02-04T00:00:00",
          "2021-02-05T00:00:00",
          "2021-02-08T00:00:00",
          "2021-02-09T00:00:00",
          "2021-02-10T00:00:00",
          "2021-02-11T00:00:00",
          "2021-02-12T00:00:00",
          "2021-02-16T00:00:00",
          "2021-02-17T00:00:00",
          "2021-02-18T00:00:00",
          "2021-02-19T00:00:00",
          "2021-02-22T00:00:00",
          "2021-02-23T00:00:00",
          "2021-02-24T00:00:00",
          "2021-02-25T00:00:00",
          "2021-02-26T00:00:00",
          "2021-03-01T00:00:00",
          "2021-03-02T00:00:00",
          "2021-03-03T00:00:00",
          "2021-03-04T00:00:00",
          "2021-03-05T00:00:00",
          "2021-03-08T00:00:00",
          "2021-03-09T00:00:00",
          "2021-03-10T00:00:00",
          "2021-03-11T00:00:00",
          "2021-03-12T00:00:00",
          "2021-03-15T00:00:00",
          "2021-03-16T00:00:00",
          "2021-03-17T00:00:00",
          "2021-03-18T00:00:00",
          "2021-03-19T00:00:00",
          "2021-03-22T00:00:00",
          "2021-03-23T00:00:00",
          "2021-03-24T00:00:00",
          "2021-03-25T00:00:00",
          "2021-03-26T00:00:00",
          "2021-03-29T00:00:00",
          "2021-03-30T00:00:00",
          "2021-03-31T00:00:00",
          "2021-04-01T00:00:00",
          "2021-04-05T00:00:00",
          "2021-04-06T00:00:00",
          "2021-04-07T00:00:00",
          "2021-04-08T00:00:00",
          "2021-04-09T00:00:00",
          "2021-04-12T00:00:00",
          "2021-04-13T00:00:00",
          "2021-04-14T00:00:00",
          "2021-04-15T00:00:00",
          "2021-04-16T00:00:00",
          "2021-04-19T00:00:00",
          "2021-04-20T00:00:00",
          "2021-04-21T00:00:00",
          "2021-04-22T00:00:00",
          "2021-04-23T00:00:00",
          "2021-04-26T00:00:00",
          "2021-04-27T00:00:00",
          "2021-04-28T00:00:00",
          "2021-04-29T00:00:00",
          "2021-04-30T00:00:00",
          "2021-05-03T00:00:00",
          "2021-05-04T00:00:00",
          "2021-05-05T00:00:00",
          "2021-05-06T00:00:00",
          "2021-05-07T00:00:00",
          "2021-05-10T00:00:00",
          "2021-05-11T00:00:00",
          "2021-05-12T00:00:00",
          "2021-05-13T00:00:00",
          "2021-05-14T00:00:00",
          "2021-05-17T00:00:00",
          "2021-05-18T00:00:00",
          "2021-05-19T00:00:00",
          "2021-05-20T00:00:00",
          "2021-05-21T00:00:00",
          "2021-05-24T00:00:00",
          "2021-05-25T00:00:00",
          "2021-05-26T00:00:00",
          "2021-05-27T00:00:00",
          "2021-05-28T00:00:00",
          "2021-06-01T00:00:00",
          "2021-06-02T00:00:00",
          "2021-06-03T00:00:00",
          "2021-06-04T00:00:00",
          "2021-06-07T00:00:00",
          "2021-06-08T00:00:00",
          "2021-06-09T00:00:00",
          "2021-06-10T00:00:00",
          "2021-06-11T00:00:00",
          "2021-06-14T00:00:00",
          "2021-06-15T00:00:00",
          "2021-06-16T00:00:00",
          "2021-06-17T00:00:00",
          "2021-06-18T00:00:00",
          "2021-06-21T00:00:00",
          "2021-06-22T00:00:00",
          "2021-06-23T00:00:00",
          "2021-06-24T00:00:00",
          "2021-06-25T00:00:00",
          "2021-06-28T00:00:00",
          "2021-06-29T00:00:00",
          "2021-06-30T00:00:00",
          "2021-07-01T00:00:00",
          "2021-07-02T00:00:00",
          "2021-07-06T00:00:00",
          "2021-07-07T00:00:00",
          "2021-07-08T00:00:00",
          "2021-07-09T00:00:00",
          "2021-07-12T00:00:00",
          "2021-07-13T00:00:00",
          "2021-07-14T00:00:00",
          "2021-07-15T00:00:00",
          "2021-07-16T00:00:00",
          "2021-07-19T00:00:00",
          "2021-07-20T00:00:00",
          "2021-07-21T00:00:00",
          "2021-07-22T00:00:00",
          "2021-07-23T00:00:00",
          "2021-07-26T00:00:00",
          "2021-07-27T00:00:00",
          "2021-07-28T00:00:00",
          "2021-07-29T00:00:00",
          "2021-07-30T00:00:00",
          "2021-08-02T00:00:00",
          "2021-08-03T00:00:00",
          "2021-08-04T00:00:00",
          "2021-08-05T00:00:00",
          "2021-08-06T00:00:00",
          "2021-08-09T00:00:00",
          "2021-08-10T00:00:00",
          "2021-08-11T00:00:00",
          "2021-08-12T00:00:00",
          "2021-08-13T00:00:00",
          "2021-08-16T00:00:00",
          "2021-08-17T00:00:00",
          "2021-08-18T00:00:00",
          "2021-08-19T00:00:00",
          "2021-08-20T00:00:00",
          "2021-08-23T00:00:00",
          "2021-08-24T00:00:00",
          "2021-08-25T00:00:00",
          "2021-08-26T00:00:00",
          "2021-08-27T00:00:00",
          "2021-08-30T00:00:00",
          "2021-08-31T00:00:00",
          "2021-09-01T00:00:00",
          "2021-09-02T00:00:00",
          "2021-09-03T00:00:00",
          "2021-09-07T00:00:00",
          "2021-09-08T00:00:00",
          "2021-09-09T00:00:00",
          "2021-09-10T00:00:00",
          "2021-09-13T00:00:00",
          "2021-09-14T00:00:00",
          "2021-09-15T00:00:00",
          "2021-09-16T00:00:00",
          "2021-09-17T00:00:00",
          "2021-09-20T00:00:00",
          "2021-09-21T00:00:00",
          "2021-09-22T00:00:00",
          "2021-09-23T00:00:00",
          "2021-09-24T00:00:00",
          "2021-09-27T00:00:00",
          "2021-09-28T00:00:00",
          "2021-09-29T00:00:00",
          "2021-09-30T00:00:00",
          "2021-10-01T00:00:00",
          "2021-10-04T00:00:00",
          "2021-10-05T00:00:00",
          "2021-10-06T00:00:00",
          "2021-10-07T00:00:00",
          "2021-10-08T00:00:00",
          "2021-10-11T00:00:00",
          "2021-10-12T00:00:00",
          "2021-10-13T00:00:00",
          "2021-10-14T00:00:00",
          "2021-10-15T00:00:00",
          "2021-10-18T00:00:00",
          "2021-10-19T00:00:00",
          "2021-10-20T00:00:00",
          "2021-10-21T00:00:00",
          "2021-10-22T00:00:00",
          "2021-10-25T00:00:00",
          "2021-10-26T00:00:00",
          "2021-10-27T00:00:00",
          "2021-10-28T00:00:00",
          "2021-10-29T00:00:00",
          "2021-11-01T00:00:00",
          "2021-11-02T00:00:00",
          "2021-11-03T00:00:00",
          "2021-11-04T00:00:00",
          "2021-11-05T00:00:00",
          "2021-11-08T00:00:00",
          "2021-11-09T00:00:00",
          "2021-11-10T00:00:00",
          "2021-11-11T00:00:00",
          "2021-11-12T00:00:00",
          "2021-11-15T00:00:00",
          "2021-11-16T00:00:00",
          "2021-11-17T00:00:00",
          "2021-11-18T00:00:00",
          "2021-11-19T00:00:00",
          "2021-11-22T00:00:00",
          "2021-11-23T00:00:00",
          "2021-11-24T00:00:00",
          "2021-11-26T00:00:00",
          "2021-11-29T00:00:00",
          "2021-11-30T00:00:00"
         ],
         "y": [
          25.07,
          25.07,
          25.03,
          25.02,
          25.01,
          24.97,
          24.98,
          24.98,
          24.98,
          24.98,
          24.99,
          24.98,
          24.98,
          24.95,
          24.94,
          24.96,
          24.92,
          24.92,
          24.92,
          24.91,
          24.9,
          24.9,
          24.9,
          24.9,
          24.91,
          24.91,
          24.91,
          24.91,
          24.91,
          24.91,
          24.95,
          24.93,
          24.95,
          24.95,
          24.95,
          24.95,
          24.94,
          24.95,
          24.89,
          24.89,
          24.89,
          24.87,
          24.89,
          24.93,
          24.92,
          24.93,
          24.94,
          25.01,
          25.01,
          25,
          25.03,
          25.03,
          25.04,
          25.04,
          25.04,
          25.05,
          25.05,
          25.05,
          25.03,
          25.03,
          25.04,
          25.05,
          25.06,
          25.05,
          25.06,
          25.06,
          25.06,
          25.06,
          25.06,
          25.07,
          25.07,
          25.08,
          25.07,
          25.08,
          25.09,
          25.09,
          25.09,
          25.07,
          25.07,
          25.07,
          25.07,
          25.08,
          25.08,
          25.08,
          25.07,
          25.08,
          25.1,
          25.09,
          25.1,
          25.12,
          25.15,
          25.15,
          25.15,
          25.16,
          25.16,
          25.17,
          25.15,
          25.15,
          25.15,
          25.13,
          25.13,
          25.12,
          25.13,
          25.14,
          25.14,
          25.13,
          25.14,
          25.13,
          25.12,
          25.12,
          25.13,
          25.13,
          25.13,
          25.09,
          25.07,
          25.07,
          25.08,
          25.07,
          25.05,
          25.06,
          25.07,
          25.08,
          25.09,
          25.07,
          25.07,
          25.08,
          25.08,
          25.08,
          25.09,
          25.08,
          25.09,
          25.09,
          25.09,
          25.08,
          25.06,
          25.06,
          25.06,
          25.06,
          25.05,
          25.06,
          25.04,
          25.04,
          25.04,
          25.06,
          25.05,
          25.05,
          25.05,
          25.05,
          25.04,
          25.04,
          25.05,
          25.05,
          25.05,
          25.05,
          25.04,
          25.04,
          25.05,
          25.03,
          25.03,
          25.04,
          25.04,
          25.04,
          25,
          25.02,
          24.99,
          25,
          24.99,
          25.01,
          25.01,
          25,
          25,
          25,
          25,
          25,
          25,
          25.01,
          25.01,
          25.01,
          25.02,
          25.01,
          25.01,
          25,
          24.99,
          25,
          25,
          25,
          25,
          25,
          25.01,
          25,
          25.01,
          25.01,
          25.01,
          25.01,
          25.01,
          25.04,
          25.02,
          25.02,
          25,
          25.02,
          25.01,
          25.02,
          25.02,
          25.02,
          25,
          25,
          25,
          25,
          25,
          25,
          25,
          25,
          25.01,
          25.01,
          25.01,
          25.01,
          25.01,
          25.01,
          25.02,
          25.02,
          25.02,
          25.02,
          25.02,
          25.02,
          25.02,
          25,
          25,
          25,
          25.01,
          25.01,
          25.01,
          25.01,
          25.01,
          25.01,
          25.01,
          25.01,
          25.01,
          25.02,
          25.01,
          25.01,
          25.01,
          25.01,
          25.01,
          25.01,
          25.01,
          25.02,
          25,
          25,
          25,
          25,
          25,
          25,
          25,
          25,
          25,
          25.01,
          25,
          25,
          25,
          25,
          25,
          25.01,
          25.01,
          25.01,
          25.01,
          25.02,
          25.02,
          25.01,
          25,
          25,
          24.99,
          24.99,
          25,
          25,
          25,
          25,
          25,
          25,
          25,
          25,
          25,
          25,
          25,
          25,
          25,
          25.01,
          25.01,
          25,
          25,
          24.99,
          24.99,
          24.99,
          24.99,
          25.03,
          25.05,
          25.02,
          25.04,
          25.05,
          25.02,
          25.04,
          25.04,
          25.05,
          25.04,
          25.02,
          25.05,
          25.03,
          25.02,
          25.02,
          25.03,
          25.04
         ]
        }
       ],
       "layout": {
        "legend": {
         "orientation": "h",
         "x": 1,
         "xanchor": "right",
         "y": 1.02,
         "yanchor": "bottom"
        },
        "template": {
         "data": {
          "bar": [
           {
            "error_x": {
             "color": "#f2f5fa"
            },
            "error_y": {
             "color": "#f2f5fa"
            },
            "marker": {
             "line": {
              "color": "rgb(17,17,17)",
              "width": 0.5
             },
             "pattern": {
              "fillmode": "overlay",
              "size": 10,
              "solidity": 0.2
             }
            },
            "type": "bar"
           }
          ],
          "barpolar": [
           {
            "marker": {
             "line": {
              "color": "rgb(17,17,17)",
              "width": 0.5
             },
             "pattern": {
              "fillmode": "overlay",
              "size": 10,
              "solidity": 0.2
             }
            },
            "type": "barpolar"
           }
          ],
          "carpet": [
           {
            "aaxis": {
             "endlinecolor": "#A2B1C6",
             "gridcolor": "#506784",
             "linecolor": "#506784",
             "minorgridcolor": "#506784",
             "startlinecolor": "#A2B1C6"
            },
            "baxis": {
             "endlinecolor": "#A2B1C6",
             "gridcolor": "#506784",
             "linecolor": "#506784",
             "minorgridcolor": "#506784",
             "startlinecolor": "#A2B1C6"
            },
            "type": "carpet"
           }
          ],
          "choropleth": [
           {
            "colorbar": {
             "outlinewidth": 0,
             "ticks": ""
            },
            "type": "choropleth"
           }
          ],
          "contour": [
           {
            "colorbar": {
             "outlinewidth": 0,
             "ticks": ""
            },
            "colorscale": [
             [
              0,
              "#0d0887"
             ],
             [
              0.1111111111111111,
              "#46039f"
             ],
             [
              0.2222222222222222,
              "#7201a8"
             ],
             [
              0.3333333333333333,
              "#9c179e"
             ],
             [
              0.4444444444444444,
              "#bd3786"
             ],
             [
              0.5555555555555556,
              "#d8576b"
             ],
             [
              0.6666666666666666,
              "#ed7953"
             ],
             [
              0.7777777777777778,
              "#fb9f3a"
             ],
             [
              0.8888888888888888,
              "#fdca26"
             ],
             [
              1,
              "#f0f921"
             ]
            ],
            "type": "contour"
           }
          ],
          "contourcarpet": [
           {
            "colorbar": {
             "outlinewidth": 0,
             "ticks": ""
            },
            "type": "contourcarpet"
           }
          ],
          "heatmap": [
           {
            "colorbar": {
             "outlinewidth": 0,
             "ticks": ""
            },
            "colorscale": [
             [
              0,
              "#0d0887"
             ],
             [
              0.1111111111111111,
              "#46039f"
             ],
             [
              0.2222222222222222,
              "#7201a8"
             ],
             [
              0.3333333333333333,
              "#9c179e"
             ],
             [
              0.4444444444444444,
              "#bd3786"
             ],
             [
              0.5555555555555556,
              "#d8576b"
             ],
             [
              0.6666666666666666,
              "#ed7953"
             ],
             [
              0.7777777777777778,
              "#fb9f3a"
             ],
             [
              0.8888888888888888,
              "#fdca26"
             ],
             [
              1,
              "#f0f921"
             ]
            ],
            "type": "heatmap"
           }
          ],
          "heatmapgl": [
           {
            "colorbar": {
             "outlinewidth": 0,
             "ticks": ""
            },
            "colorscale": [
             [
              0,
              "#0d0887"
             ],
             [
              0.1111111111111111,
              "#46039f"
             ],
             [
              0.2222222222222222,
              "#7201a8"
             ],
             [
              0.3333333333333333,
              "#9c179e"
             ],
             [
              0.4444444444444444,
              "#bd3786"
             ],
             [
              0.5555555555555556,
              "#d8576b"
             ],
             [
              0.6666666666666666,
              "#ed7953"
             ],
             [
              0.7777777777777778,
              "#fb9f3a"
             ],
             [
              0.8888888888888888,
              "#fdca26"
             ],
             [
              1,
              "#f0f921"
             ]
            ],
            "type": "heatmapgl"
           }
          ],
          "histogram": [
           {
            "marker": {
             "pattern": {
              "fillmode": "overlay",
              "size": 10,
              "solidity": 0.2
             }
            },
            "type": "histogram"
           }
          ],
          "histogram2d": [
           {
            "colorbar": {
             "outlinewidth": 0,
             "ticks": ""
            },
            "colorscale": [
             [
              0,
              "#0d0887"
             ],
             [
              0.1111111111111111,
              "#46039f"
             ],
             [
              0.2222222222222222,
              "#7201a8"
             ],
             [
              0.3333333333333333,
              "#9c179e"
             ],
             [
              0.4444444444444444,
              "#bd3786"
             ],
             [
              0.5555555555555556,
              "#d8576b"
             ],
             [
              0.6666666666666666,
              "#ed7953"
             ],
             [
              0.7777777777777778,
              "#fb9f3a"
             ],
             [
              0.8888888888888888,
              "#fdca26"
             ],
             [
              1,
              "#f0f921"
             ]
            ],
            "type": "histogram2d"
           }
          ],
          "histogram2dcontour": [
           {
            "colorbar": {
             "outlinewidth": 0,
             "ticks": ""
            },
            "colorscale": [
             [
              0,
              "#0d0887"
             ],
             [
              0.1111111111111111,
              "#46039f"
             ],
             [
              0.2222222222222222,
              "#7201a8"
             ],
             [
              0.3333333333333333,
              "#9c179e"
             ],
             [
              0.4444444444444444,
              "#bd3786"
             ],
             [
              0.5555555555555556,
              "#d8576b"
             ],
             [
              0.6666666666666666,
              "#ed7953"
             ],
             [
              0.7777777777777778,
              "#fb9f3a"
             ],
             [
              0.8888888888888888,
              "#fdca26"
             ],
             [
              1,
              "#f0f921"
             ]
            ],
            "type": "histogram2dcontour"
           }
          ],
          "mesh3d": [
           {
            "colorbar": {
             "outlinewidth": 0,
             "ticks": ""
            },
            "type": "mesh3d"
           }
          ],
          "parcoords": [
           {
            "line": {
             "colorbar": {
              "outlinewidth": 0,
              "ticks": ""
             }
            },
            "type": "parcoords"
           }
          ],
          "pie": [
           {
            "automargin": true,
            "type": "pie"
           }
          ],
          "scatter": [
           {
            "marker": {
             "line": {
              "color": "#283442"
             }
            },
            "type": "scatter"
           }
          ],
          "scatter3d": [
           {
            "line": {
             "colorbar": {
              "outlinewidth": 0,
              "ticks": ""
             }
            },
            "marker": {
             "colorbar": {
              "outlinewidth": 0,
              "ticks": ""
             }
            },
            "type": "scatter3d"
           }
          ],
          "scattercarpet": [
           {
            "marker": {
             "colorbar": {
              "outlinewidth": 0,
              "ticks": ""
             }
            },
            "type": "scattercarpet"
           }
          ],
          "scattergeo": [
           {
            "marker": {
             "colorbar": {
              "outlinewidth": 0,
              "ticks": ""
             }
            },
            "type": "scattergeo"
           }
          ],
          "scattergl": [
           {
            "marker": {
             "line": {
              "color": "#283442"
             }
            },
            "type": "scattergl"
           }
          ],
          "scattermapbox": [
           {
            "marker": {
             "colorbar": {
              "outlinewidth": 0,
              "ticks": ""
             }
            },
            "type": "scattermapbox"
           }
          ],
          "scatterpolar": [
           {
            "marker": {
             "colorbar": {
              "outlinewidth": 0,
              "ticks": ""
             }
            },
            "type": "scatterpolar"
           }
          ],
          "scatterpolargl": [
           {
            "marker": {
             "colorbar": {
              "outlinewidth": 0,
              "ticks": ""
             }
            },
            "type": "scatterpolargl"
           }
          ],
          "scatterternary": [
           {
            "marker": {
             "colorbar": {
              "outlinewidth": 0,
              "ticks": ""
             }
            },
            "type": "scatterternary"
           }
          ],
          "surface": [
           {
            "colorbar": {
             "outlinewidth": 0,
             "ticks": ""
            },
            "colorscale": [
             [
              0,
              "#0d0887"
             ],
             [
              0.1111111111111111,
              "#46039f"
             ],
             [
              0.2222222222222222,
              "#7201a8"
             ],
             [
              0.3333333333333333,
              "#9c179e"
             ],
             [
              0.4444444444444444,
              "#bd3786"
             ],
             [
              0.5555555555555556,
              "#d8576b"
             ],
             [
              0.6666666666666666,
              "#ed7953"
             ],
             [
              0.7777777777777778,
              "#fb9f3a"
             ],
             [
              0.8888888888888888,
              "#fdca26"
             ],
             [
              1,
              "#f0f921"
             ]
            ],
            "type": "surface"
           }
          ],
          "table": [
           {
            "cells": {
             "fill": {
              "color": "#506784"
             },
             "line": {
              "color": "rgb(17,17,17)"
             }
            },
            "header": {
             "fill": {
              "color": "#2a3f5f"
             },
             "line": {
              "color": "rgb(17,17,17)"
             }
            },
            "type": "table"
           }
          ]
         },
         "layout": {
          "annotationdefaults": {
           "arrowcolor": "#f2f5fa",
           "arrowhead": 0,
           "arrowwidth": 1
          },
          "autotypenumbers": "strict",
          "coloraxis": {
           "colorbar": {
            "outlinewidth": 0,
            "ticks": ""
           }
          },
          "colorscale": {
           "diverging": [
            [
             0,
             "#8e0152"
            ],
            [
             0.1,
             "#c51b7d"
            ],
            [
             0.2,
             "#de77ae"
            ],
            [
             0.3,
             "#f1b6da"
            ],
            [
             0.4,
             "#fde0ef"
            ],
            [
             0.5,
             "#f7f7f7"
            ],
            [
             0.6,
             "#e6f5d0"
            ],
            [
             0.7,
             "#b8e186"
            ],
            [
             0.8,
             "#7fbc41"
            ],
            [
             0.9,
             "#4d9221"
            ],
            [
             1,
             "#276419"
            ]
           ],
           "sequential": [
            [
             0,
             "#0d0887"
            ],
            [
             0.1111111111111111,
             "#46039f"
            ],
            [
             0.2222222222222222,
             "#7201a8"
            ],
            [
             0.3333333333333333,
             "#9c179e"
            ],
            [
             0.4444444444444444,
             "#bd3786"
            ],
            [
             0.5555555555555556,
             "#d8576b"
            ],
            [
             0.6666666666666666,
             "#ed7953"
            ],
            [
             0.7777777777777778,
             "#fb9f3a"
            ],
            [
             0.8888888888888888,
             "#fdca26"
            ],
            [
             1,
             "#f0f921"
            ]
           ],
           "sequentialminus": [
            [
             0,
             "#0d0887"
            ],
            [
             0.1111111111111111,
             "#46039f"
            ],
            [
             0.2222222222222222,
             "#7201a8"
            ],
            [
             0.3333333333333333,
             "#9c179e"
            ],
            [
             0.4444444444444444,
             "#bd3786"
            ],
            [
             0.5555555555555556,
             "#d8576b"
            ],
            [
             0.6666666666666666,
             "#ed7953"
            ],
            [
             0.7777777777777778,
             "#fb9f3a"
            ],
            [
             0.8888888888888888,
             "#fdca26"
            ],
            [
             1,
             "#f0f921"
            ]
           ]
          },
          "colorway": [
           "#636efa",
           "#EF553B",
           "#00cc96",
           "#ab63fa",
           "#FFA15A",
           "#19d3f3",
           "#FF6692",
           "#B6E880",
           "#FF97FF",
           "#FECB52"
          ],
          "font": {
           "color": "#f2f5fa"
          },
          "geo": {
           "bgcolor": "rgb(17,17,17)",
           "lakecolor": "rgb(17,17,17)",
           "landcolor": "rgb(17,17,17)",
           "showlakes": true,
           "showland": true,
           "subunitcolor": "#506784"
          },
          "hoverlabel": {
           "align": "left"
          },
          "hovermode": "closest",
          "mapbox": {
           "style": "dark"
          },
          "paper_bgcolor": "rgb(17,17,17)",
          "plot_bgcolor": "rgb(17,17,17)",
          "polar": {
           "angularaxis": {
            "gridcolor": "#506784",
            "linecolor": "#506784",
            "ticks": ""
           },
           "bgcolor": "rgb(17,17,17)",
           "radialaxis": {
            "gridcolor": "#506784",
            "linecolor": "#506784",
            "ticks": ""
           }
          },
          "scene": {
           "xaxis": {
            "backgroundcolor": "rgb(17,17,17)",
            "gridcolor": "#506784",
            "gridwidth": 2,
            "linecolor": "#506784",
            "showbackground": true,
            "ticks": "",
            "zerolinecolor": "#C8D4E3"
           },
           "yaxis": {
            "backgroundcolor": "rgb(17,17,17)",
            "gridcolor": "#506784",
            "gridwidth": 2,
            "linecolor": "#506784",
            "showbackground": true,
            "ticks": "",
            "zerolinecolor": "#C8D4E3"
           },
           "zaxis": {
            "backgroundcolor": "rgb(17,17,17)",
            "gridcolor": "#506784",
            "gridwidth": 2,
            "linecolor": "#506784",
            "showbackground": true,
            "ticks": "",
            "zerolinecolor": "#C8D4E3"
           }
          },
          "shapedefaults": {
           "line": {
            "color": "#f2f5fa"
           }
          },
          "sliderdefaults": {
           "bgcolor": "#C8D4E3",
           "bordercolor": "rgb(17,17,17)",
           "borderwidth": 1,
           "tickwidth": 0
          },
          "ternary": {
           "aaxis": {
            "gridcolor": "#506784",
            "linecolor": "#506784",
            "ticks": ""
           },
           "baxis": {
            "gridcolor": "#506784",
            "linecolor": "#506784",
            "ticks": ""
           },
           "bgcolor": "rgb(17,17,17)",
           "caxis": {
            "gridcolor": "#506784",
            "linecolor": "#506784",
            "ticks": ""
           }
          },
          "title": {
           "x": 0.05
          },
          "updatemenudefaults": {
           "bgcolor": "#506784",
           "borderwidth": 0
          },
          "xaxis": {
           "automargin": true,
           "gridcolor": "#283442",
           "linecolor": "#506784",
           "ticks": "",
           "title": {
            "standoff": 15
           },
           "zerolinecolor": "#283442",
           "zerolinewidth": 2
          },
          "yaxis": {
           "automargin": true,
           "gridcolor": "#283442",
           "linecolor": "#506784",
           "ticks": "",
           "title": {
            "standoff": 15
           },
           "zerolinecolor": "#283442",
           "zerolinewidth": 2
          }
         }
        },
        "title": {
         "text": "ETF (AAA) Price Since 2020-09-09"
        },
        "xaxis": {
         "title": {
          "text": "Date"
         }
        },
        "yaxis": {
         "title": {
          "text": "Prices ($)"
         }
        }
       }
      }
     },
     "metadata": {},
     "output_type": "display_data"
    }
   ],
   "source": [
    "ETF_price_graph = go.Figure()\n",
    "ETF_price_graph.add_trace(go.Scatter(x = AAA_etf[\"price_date\"], y = AAA_etf[\"open\"], name=\"Open Price\", visible='legendonly'))\n",
    "ETF_price_graph.add_trace(go.Scatter(x = AAA_etf[\"price_date\"], y = AAA_etf[\"high\"], name=\"High Price\", visible='legendonly'))\n",
    "ETF_price_graph.add_trace(go.Scatter(x = AAA_etf[\"price_date\"], y = AAA_etf[\"low\"], name=\"Low Price\", visible='legendonly'))\n",
    "ETF_price_graph.add_trace(go.Scatter(x = AAA_etf[\"price_date\"], y = AAA_etf[\"close\"], name=\"Close Price\", marker_color=\"gold\"))\n",
    "ETF_price_graph.update_layout(title = \"ETF (AAA) Price Since 2020-09-09\", legend = dict(orientation=\"h\",yanchor=\"bottom\",y=1.02,xanchor=\"right\",x=1),template =\"plotly_dark\")\n",
    "ETF_price_graph.update_xaxes(title = \"Date\")\n",
    "ETF_price_graph.update_yaxes(title =\"Prices ($)\")\n",
    "ETF_price_graph.show()"
   ]
  },
  {
   "cell_type": "code",
   "execution_count": 17,
   "metadata": {},
   "outputs": [
    {
     "name": "stdout",
     "output_type": "stream",
     "text": [
      "<class 'pandas.core.frame.DataFrame'>\n",
      "Index: 310 entries, 0 to 309\n",
      "Data columns (total 8 columns):\n",
      " #   Column       Non-Null Count  Dtype         \n",
      "---  ------       --------------  -----         \n",
      " 0   fund_symbol  310 non-null    object        \n",
      " 1   price_date   310 non-null    datetime64[ns]\n",
      " 2   open         310 non-null    float64       \n",
      " 3   high         310 non-null    float64       \n",
      " 4   low          310 non-null    float64       \n",
      " 5   close        310 non-null    float64       \n",
      " 6   adj_close    310 non-null    float64       \n",
      " 7   volume       310 non-null    int64         \n",
      "dtypes: datetime64[ns](1), float64(5), int64(1), object(1)\n",
      "memory usage: 21.8+ KB\n"
     ]
    }
   ],
   "source": [
    "AAA_etf.info()"
   ]
  },
  {
   "cell_type": "code",
   "execution_count": 18,
   "metadata": {},
   "outputs": [
    {
     "data": {
      "text/html": [
       "<div>\n",
       "<style scoped>\n",
       "    .dataframe tbody tr th:only-of-type {\n",
       "        vertical-align: middle;\n",
       "    }\n",
       "\n",
       "    .dataframe tbody tr th {\n",
       "        vertical-align: top;\n",
       "    }\n",
       "\n",
       "    .dataframe thead th {\n",
       "        text-align: right;\n",
       "    }\n",
       "</style>\n",
       "<table border=\"1\" class=\"dataframe\">\n",
       "  <thead>\n",
       "    <tr style=\"text-align: right;\">\n",
       "      <th></th>\n",
       "      <th>open</th>\n",
       "      <th>high</th>\n",
       "      <th>low</th>\n",
       "      <th>close</th>\n",
       "      <th>volume</th>\n",
       "    </tr>\n",
       "  </thead>\n",
       "  <tbody>\n",
       "    <tr>\n",
       "      <th>count</th>\n",
       "      <td>310.000000</td>\n",
       "      <td>310.000000</td>\n",
       "      <td>310.000000</td>\n",
       "      <td>310.000000</td>\n",
       "      <td>310.000000</td>\n",
       "    </tr>\n",
       "    <tr>\n",
       "      <th>mean</th>\n",
       "      <td>25.025581</td>\n",
       "      <td>25.032032</td>\n",
       "      <td>25.019710</td>\n",
       "      <td>25.024161</td>\n",
       "      <td>2788.064516</td>\n",
       "    </tr>\n",
       "    <tr>\n",
       "      <th>std</th>\n",
       "      <td>0.057116</td>\n",
       "      <td>0.059709</td>\n",
       "      <td>0.056565</td>\n",
       "      <td>0.055077</td>\n",
       "      <td>8222.296988</td>\n",
       "    </tr>\n",
       "    <tr>\n",
       "      <th>min</th>\n",
       "      <td>24.840000</td>\n",
       "      <td>24.870000</td>\n",
       "      <td>24.840000</td>\n",
       "      <td>24.870000</td>\n",
       "      <td>0.000000</td>\n",
       "    </tr>\n",
       "    <tr>\n",
       "      <th>25%</th>\n",
       "      <td>25.000000</td>\n",
       "      <td>25.000000</td>\n",
       "      <td>25.000000</td>\n",
       "      <td>25.000000</td>\n",
       "      <td>200.000000</td>\n",
       "    </tr>\n",
       "    <tr>\n",
       "      <th>50%</th>\n",
       "      <td>25.020000</td>\n",
       "      <td>25.020000</td>\n",
       "      <td>25.010000</td>\n",
       "      <td>25.010000</td>\n",
       "      <td>600.000000</td>\n",
       "    </tr>\n",
       "    <tr>\n",
       "      <th>75%</th>\n",
       "      <td>25.060000</td>\n",
       "      <td>25.060000</td>\n",
       "      <td>25.050000</td>\n",
       "      <td>25.057500</td>\n",
       "      <td>1975.000000</td>\n",
       "    </tr>\n",
       "    <tr>\n",
       "      <th>max</th>\n",
       "      <td>25.200000</td>\n",
       "      <td>25.400000</td>\n",
       "      <td>25.160000</td>\n",
       "      <td>25.170000</td>\n",
       "      <td>115400.000000</td>\n",
       "    </tr>\n",
       "  </tbody>\n",
       "</table>\n",
       "</div>"
      ],
      "text/plain": [
       "             open        high         low       close         volume\n",
       "count  310.000000  310.000000  310.000000  310.000000     310.000000\n",
       "mean    25.025581   25.032032   25.019710   25.024161    2788.064516\n",
       "std      0.057116    0.059709    0.056565    0.055077    8222.296988\n",
       "min     24.840000   24.870000   24.840000   24.870000       0.000000\n",
       "25%     25.000000   25.000000   25.000000   25.000000     200.000000\n",
       "50%     25.020000   25.020000   25.010000   25.010000     600.000000\n",
       "75%     25.060000   25.060000   25.050000   25.057500    1975.000000\n",
       "max     25.200000   25.400000   25.160000   25.170000  115400.000000"
      ]
     },
     "execution_count": 18,
     "metadata": {},
     "output_type": "execute_result"
    }
   ],
   "source": [
    "AAA_etf[['open','high',\"low\",\"close\",\"volume\"]].describe()"
   ]
  },
  {
   "cell_type": "code",
   "execution_count": 19,
   "metadata": {},
   "outputs": [
    {
     "data": {
      "text/plain": [
       "['price_date', 'open', 'high', 'low', 'close', 'volume']"
      ]
     },
     "execution_count": 19,
     "metadata": {},
     "output_type": "execute_result"
    }
   ],
   "source": [
    "AAA_column_list = ['price_date','open','high',\"low\",\"close\",\"volume\"]\n",
    "AAA_column_list"
   ]
  },
  {
   "cell_type": "code",
   "execution_count": 20,
   "metadata": {},
   "outputs": [
    {
     "data": {
      "text/html": [
       "<div>\n",
       "<style scoped>\n",
       "    .dataframe tbody tr th:only-of-type {\n",
       "        vertical-align: middle;\n",
       "    }\n",
       "\n",
       "    .dataframe tbody tr th {\n",
       "        vertical-align: top;\n",
       "    }\n",
       "\n",
       "    .dataframe thead th {\n",
       "        text-align: right;\n",
       "    }\n",
       "</style>\n",
       "<table border=\"1\" class=\"dataframe\">\n",
       "  <thead>\n",
       "    <tr style=\"text-align: right;\">\n",
       "      <th></th>\n",
       "      <th>price_date</th>\n",
       "      <th>open</th>\n",
       "      <th>high</th>\n",
       "      <th>low</th>\n",
       "      <th>close</th>\n",
       "      <th>volume</th>\n",
       "    </tr>\n",
       "  </thead>\n",
       "  <tbody>\n",
       "    <tr>\n",
       "      <th>0</th>\n",
       "      <td>2020-09-09</td>\n",
       "      <td>25.10</td>\n",
       "      <td>25.12</td>\n",
       "      <td>25.07</td>\n",
       "      <td>25.07</td>\n",
       "      <td>17300</td>\n",
       "    </tr>\n",
       "    <tr>\n",
       "      <th>1</th>\n",
       "      <td>2020-09-10</td>\n",
       "      <td>25.06</td>\n",
       "      <td>25.07</td>\n",
       "      <td>25.05</td>\n",
       "      <td>25.07</td>\n",
       "      <td>23500</td>\n",
       "    </tr>\n",
       "    <tr>\n",
       "      <th>2</th>\n",
       "      <td>2020-09-11</td>\n",
       "      <td>25.04</td>\n",
       "      <td>25.05</td>\n",
       "      <td>25.02</td>\n",
       "      <td>25.03</td>\n",
       "      <td>33400</td>\n",
       "    </tr>\n",
       "    <tr>\n",
       "      <th>3</th>\n",
       "      <td>2020-09-14</td>\n",
       "      <td>25.01</td>\n",
       "      <td>25.06</td>\n",
       "      <td>25.01</td>\n",
       "      <td>25.02</td>\n",
       "      <td>13100</td>\n",
       "    </tr>\n",
       "    <tr>\n",
       "      <th>4</th>\n",
       "      <td>2020-09-15</td>\n",
       "      <td>25.02</td>\n",
       "      <td>25.03</td>\n",
       "      <td>25.01</td>\n",
       "      <td>25.01</td>\n",
       "      <td>12100</td>\n",
       "    </tr>\n",
       "  </tbody>\n",
       "</table>\n",
       "</div>"
      ],
      "text/plain": [
       "  price_date   open   high    low  close  volume\n",
       "0 2020-09-09  25.10  25.12  25.07  25.07   17300\n",
       "1 2020-09-10  25.06  25.07  25.05  25.07   23500\n",
       "2 2020-09-11  25.04  25.05  25.02  25.03   33400\n",
       "3 2020-09-14  25.01  25.06  25.01  25.02   13100\n",
       "4 2020-09-15  25.02  25.03  25.01  25.01   12100"
      ]
     },
     "execution_count": 20,
     "metadata": {},
     "output_type": "execute_result"
    }
   ],
   "source": [
    "New_AAA_etf = AAA_etf[AAA_column_list]\n",
    "New_AAA_etf.head()"
   ]
  },
  {
   "cell_type": "markdown",
   "metadata": {},
   "source": [
    "* Preapering Data Sets"
   ]
  },
  {
   "cell_type": "code",
   "execution_count": 21,
   "metadata": {},
   "outputs": [],
   "source": [
    "X = New_AAA_etf[[\"price_date\",\"open\",\"high\",\"low\",\"volume\"]]\n",
    "y = New_AAA_etf[[\"price_date\",\"close\"]]"
   ]
  },
  {
   "cell_type": "code",
   "execution_count": 22,
   "metadata": {},
   "outputs": [
    {
     "data": {
      "text/html": [
       "<div>\n",
       "<style scoped>\n",
       "    .dataframe tbody tr th:only-of-type {\n",
       "        vertical-align: middle;\n",
       "    }\n",
       "\n",
       "    .dataframe tbody tr th {\n",
       "        vertical-align: top;\n",
       "    }\n",
       "\n",
       "    .dataframe thead th {\n",
       "        text-align: right;\n",
       "    }\n",
       "</style>\n",
       "<table border=\"1\" class=\"dataframe\">\n",
       "  <thead>\n",
       "    <tr style=\"text-align: right;\">\n",
       "      <th></th>\n",
       "      <th>open</th>\n",
       "      <th>high</th>\n",
       "      <th>low</th>\n",
       "      <th>volume</th>\n",
       "    </tr>\n",
       "    <tr>\n",
       "      <th>price_date</th>\n",
       "      <th></th>\n",
       "      <th></th>\n",
       "      <th></th>\n",
       "      <th></th>\n",
       "    </tr>\n",
       "  </thead>\n",
       "  <tbody>\n",
       "    <tr>\n",
       "      <th>2020-09-09</th>\n",
       "      <td>25.10</td>\n",
       "      <td>25.12</td>\n",
       "      <td>25.07</td>\n",
       "      <td>17300</td>\n",
       "    </tr>\n",
       "    <tr>\n",
       "      <th>2020-09-10</th>\n",
       "      <td>25.06</td>\n",
       "      <td>25.07</td>\n",
       "      <td>25.05</td>\n",
       "      <td>23500</td>\n",
       "    </tr>\n",
       "    <tr>\n",
       "      <th>2020-09-11</th>\n",
       "      <td>25.04</td>\n",
       "      <td>25.05</td>\n",
       "      <td>25.02</td>\n",
       "      <td>33400</td>\n",
       "    </tr>\n",
       "    <tr>\n",
       "      <th>2020-09-14</th>\n",
       "      <td>25.01</td>\n",
       "      <td>25.06</td>\n",
       "      <td>25.01</td>\n",
       "      <td>13100</td>\n",
       "    </tr>\n",
       "    <tr>\n",
       "      <th>2020-09-15</th>\n",
       "      <td>25.02</td>\n",
       "      <td>25.03</td>\n",
       "      <td>25.01</td>\n",
       "      <td>12100</td>\n",
       "    </tr>\n",
       "    <tr>\n",
       "      <th>...</th>\n",
       "      <td>...</td>\n",
       "      <td>...</td>\n",
       "      <td>...</td>\n",
       "      <td>...</td>\n",
       "    </tr>\n",
       "    <tr>\n",
       "      <th>2021-11-23</th>\n",
       "      <td>25.04</td>\n",
       "      <td>25.04</td>\n",
       "      <td>25.02</td>\n",
       "      <td>27800</td>\n",
       "    </tr>\n",
       "    <tr>\n",
       "      <th>2021-11-24</th>\n",
       "      <td>25.03</td>\n",
       "      <td>25.04</td>\n",
       "      <td>25.02</td>\n",
       "      <td>500</td>\n",
       "    </tr>\n",
       "    <tr>\n",
       "      <th>2021-11-26</th>\n",
       "      <td>25.04</td>\n",
       "      <td>25.04</td>\n",
       "      <td>25.02</td>\n",
       "      <td>500</td>\n",
       "    </tr>\n",
       "    <tr>\n",
       "      <th>2021-11-29</th>\n",
       "      <td>25.02</td>\n",
       "      <td>25.03</td>\n",
       "      <td>25.02</td>\n",
       "      <td>900</td>\n",
       "    </tr>\n",
       "    <tr>\n",
       "      <th>2021-11-30</th>\n",
       "      <td>25.04</td>\n",
       "      <td>25.04</td>\n",
       "      <td>25.04</td>\n",
       "      <td>100</td>\n",
       "    </tr>\n",
       "  </tbody>\n",
       "</table>\n",
       "<p>310 rows × 4 columns</p>\n",
       "</div>"
      ],
      "text/plain": [
       "             open   high    low  volume\n",
       "price_date                             \n",
       "2020-09-09  25.10  25.12  25.07   17300\n",
       "2020-09-10  25.06  25.07  25.05   23500\n",
       "2020-09-11  25.04  25.05  25.02   33400\n",
       "2020-09-14  25.01  25.06  25.01   13100\n",
       "2020-09-15  25.02  25.03  25.01   12100\n",
       "...           ...    ...    ...     ...\n",
       "2021-11-23  25.04  25.04  25.02   27800\n",
       "2021-11-24  25.03  25.04  25.02     500\n",
       "2021-11-26  25.04  25.04  25.02     500\n",
       "2021-11-29  25.02  25.03  25.02     900\n",
       "2021-11-30  25.04  25.04  25.04     100\n",
       "\n",
       "[310 rows x 4 columns]"
      ]
     },
     "execution_count": 22,
     "metadata": {},
     "output_type": "execute_result"
    }
   ],
   "source": [
    "X = X.set_index(\"price_date\")\n",
    "X"
   ]
  },
  {
   "cell_type": "code",
   "execution_count": 23,
   "metadata": {},
   "outputs": [
    {
     "data": {
      "text/html": [
       "<div>\n",
       "<style scoped>\n",
       "    .dataframe tbody tr th:only-of-type {\n",
       "        vertical-align: middle;\n",
       "    }\n",
       "\n",
       "    .dataframe tbody tr th {\n",
       "        vertical-align: top;\n",
       "    }\n",
       "\n",
       "    .dataframe thead th {\n",
       "        text-align: right;\n",
       "    }\n",
       "</style>\n",
       "<table border=\"1\" class=\"dataframe\">\n",
       "  <thead>\n",
       "    <tr style=\"text-align: right;\">\n",
       "      <th></th>\n",
       "      <th>close</th>\n",
       "    </tr>\n",
       "    <tr>\n",
       "      <th>price_date</th>\n",
       "      <th></th>\n",
       "    </tr>\n",
       "  </thead>\n",
       "  <tbody>\n",
       "    <tr>\n",
       "      <th>2020-09-09</th>\n",
       "      <td>25.07</td>\n",
       "    </tr>\n",
       "    <tr>\n",
       "      <th>2020-09-10</th>\n",
       "      <td>25.07</td>\n",
       "    </tr>\n",
       "    <tr>\n",
       "      <th>2020-09-11</th>\n",
       "      <td>25.03</td>\n",
       "    </tr>\n",
       "    <tr>\n",
       "      <th>2020-09-14</th>\n",
       "      <td>25.02</td>\n",
       "    </tr>\n",
       "    <tr>\n",
       "      <th>2020-09-15</th>\n",
       "      <td>25.01</td>\n",
       "    </tr>\n",
       "    <tr>\n",
       "      <th>...</th>\n",
       "      <td>...</td>\n",
       "    </tr>\n",
       "    <tr>\n",
       "      <th>2021-11-23</th>\n",
       "      <td>25.03</td>\n",
       "    </tr>\n",
       "    <tr>\n",
       "      <th>2021-11-24</th>\n",
       "      <td>25.02</td>\n",
       "    </tr>\n",
       "    <tr>\n",
       "      <th>2021-11-26</th>\n",
       "      <td>25.02</td>\n",
       "    </tr>\n",
       "    <tr>\n",
       "      <th>2021-11-29</th>\n",
       "      <td>25.03</td>\n",
       "    </tr>\n",
       "    <tr>\n",
       "      <th>2021-11-30</th>\n",
       "      <td>25.04</td>\n",
       "    </tr>\n",
       "  </tbody>\n",
       "</table>\n",
       "<p>310 rows × 1 columns</p>\n",
       "</div>"
      ],
      "text/plain": [
       "            close\n",
       "price_date       \n",
       "2020-09-09  25.07\n",
       "2020-09-10  25.07\n",
       "2020-09-11  25.03\n",
       "2020-09-14  25.02\n",
       "2020-09-15  25.01\n",
       "...           ...\n",
       "2021-11-23  25.03\n",
       "2021-11-24  25.02\n",
       "2021-11-26  25.02\n",
       "2021-11-29  25.03\n",
       "2021-11-30  25.04\n",
       "\n",
       "[310 rows x 1 columns]"
      ]
     },
     "execution_count": 23,
     "metadata": {},
     "output_type": "execute_result"
    }
   ],
   "source": [
    "y = y.set_index(\"price_date\")\n",
    "y"
   ]
  },
  {
   "cell_type": "markdown",
   "metadata": {},
   "source": [
    "* Train and Test Separation"
   ]
  },
  {
   "cell_type": "code",
   "execution_count": 24,
   "metadata": {},
   "outputs": [
    {
     "data": {
      "text/plain": [
       "'X_train Shape (248, 4)'"
      ]
     },
     "metadata": {},
     "output_type": "display_data"
    },
    {
     "data": {
      "text/plain": [
       "'X_test Shape (62, 4)'"
      ]
     },
     "metadata": {},
     "output_type": "display_data"
    },
    {
     "data": {
      "text/plain": [
       "'y_train Shape (248, 1)'"
      ]
     },
     "metadata": {},
     "output_type": "display_data"
    },
    {
     "data": {
      "text/plain": [
       "'y_valid Shape (62, 1)'"
      ]
     },
     "metadata": {},
     "output_type": "display_data"
    }
   ],
   "source": [
    "Separator = int(len(X) * 0.8)\n",
    "\n",
    "X_train = X.iloc[:Separator]\n",
    "X_valid = X.iloc[Separator:]\n",
    "\n",
    "y_train = y.iloc[:Separator]\n",
    "y_valid = y.iloc[Separator:]\n",
    "\n",
    "display(f\"X_train Shape {X_train.shape}\")\n",
    "display(f\"X_test Shape {X_valid.shape}\")\n",
    "display(f\"y_train Shape {y_train.shape}\")\n",
    "display(f\"y_valid Shape {y_valid.shape}\")"
   ]
  },
  {
   "cell_type": "markdown",
   "metadata": {},
   "source": [
    "## XGBBOOST "
   ]
  },
  {
   "cell_type": "code",
   "execution_count": 25,
   "metadata": {},
   "outputs": [
    {
     "name": "stdout",
     "output_type": "stream",
     "text": [
      "[0]\tvalidation_0-rmse:17.18177\n",
      "[1]\tvalidation_0-rmse:12.04284\n",
      "[2]\tvalidation_0-rmse:8.43940\n",
      "[3]\tvalidation_0-rmse:5.91265\n",
      "[4]\tvalidation_0-rmse:4.14089\n",
      "[5]\tvalidation_0-rmse:2.89853\n",
      "[6]\tvalidation_0-rmse:2.02739\n",
      "[7]\tvalidation_0-rmse:1.41656\n",
      "[8]\tvalidation_0-rmse:0.98827\n",
      "[9]\tvalidation_0-rmse:0.68798\n",
      "[10]\tvalidation_0-rmse:0.47252\n",
      "[11]\tvalidation_0-rmse:0.33227\n",
      "[12]\tvalidation_0-rmse:0.23490\n",
      "[13]\tvalidation_0-rmse:0.16431\n",
      "[14]\tvalidation_0-rmse:0.11433\n",
      "[15]\tvalidation_0-rmse:0.07933\n",
      "[16]\tvalidation_0-rmse:0.05594\n",
      "[17]\tvalidation_0-rmse:0.03969\n",
      "[18]\tvalidation_0-rmse:0.02833\n",
      "[19]\tvalidation_0-rmse:0.02076\n",
      "[20]\tvalidation_0-rmse:0.01569\n",
      "[21]\tvalidation_0-rmse:0.01233\n",
      "[22]\tvalidation_0-rmse:0.01010\n",
      "[23]\tvalidation_0-rmse:0.00868\n",
      "[24]\tvalidation_0-rmse:0.00783\n",
      "[25]\tvalidation_0-rmse:0.00744\n",
      "[26]\tvalidation_0-rmse:0.00722\n",
      "[27]\tvalidation_0-rmse:0.00709\n",
      "[28]\tvalidation_0-rmse:0.00696\n",
      "[29]\tvalidation_0-rmse:0.00692\n",
      "[30]\tvalidation_0-rmse:0.00686\n",
      "[31]\tvalidation_0-rmse:0.00681\n",
      "[32]\tvalidation_0-rmse:0.00662\n",
      "[33]\tvalidation_0-rmse:0.00659\n",
      "[34]\tvalidation_0-rmse:0.00637\n",
      "[35]\tvalidation_0-rmse:0.00635\n",
      "[36]\tvalidation_0-rmse:0.00632\n",
      "[37]\tvalidation_0-rmse:0.00633\n",
      "[38]\tvalidation_0-rmse:0.00631\n",
      "[39]\tvalidation_0-rmse:0.00629\n",
      "[40]\tvalidation_0-rmse:0.00627\n",
      "[41]\tvalidation_0-rmse:0.00618\n",
      "[42]\tvalidation_0-rmse:0.00618\n",
      "[43]\tvalidation_0-rmse:0.00617\n",
      "[44]\tvalidation_0-rmse:0.00616\n",
      "[45]\tvalidation_0-rmse:0.00619\n",
      "[46]\tvalidation_0-rmse:0.00622\n",
      "[47]\tvalidation_0-rmse:0.00621\n",
      "[48]\tvalidation_0-rmse:0.00621\n",
      "[49]\tvalidation_0-rmse:0.00621\n",
      "[50]\tvalidation_0-rmse:0.00621\n",
      "[51]\tvalidation_0-rmse:0.00621\n",
      "[52]\tvalidation_0-rmse:0.00621\n",
      "[53]\tvalidation_0-rmse:0.00621\n"
     ]
    },
    {
     "data": {
      "text/html": [
       "<style>#sk-container-id-1 {color: black;background-color: white;}#sk-container-id-1 pre{padding: 0;}#sk-container-id-1 div.sk-toggleable {background-color: white;}#sk-container-id-1 label.sk-toggleable__label {cursor: pointer;display: block;width: 100%;margin-bottom: 0;padding: 0.3em;box-sizing: border-box;text-align: center;}#sk-container-id-1 label.sk-toggleable__label-arrow:before {content: \"▸\";float: left;margin-right: 0.25em;color: #696969;}#sk-container-id-1 label.sk-toggleable__label-arrow:hover:before {color: black;}#sk-container-id-1 div.sk-estimator:hover label.sk-toggleable__label-arrow:before {color: black;}#sk-container-id-1 div.sk-toggleable__content {max-height: 0;max-width: 0;overflow: hidden;text-align: left;background-color: #f0f8ff;}#sk-container-id-1 div.sk-toggleable__content pre {margin: 0.2em;color: black;border-radius: 0.25em;background-color: #f0f8ff;}#sk-container-id-1 input.sk-toggleable__control:checked~div.sk-toggleable__content {max-height: 200px;max-width: 100%;overflow: auto;}#sk-container-id-1 input.sk-toggleable__control:checked~label.sk-toggleable__label-arrow:before {content: \"▾\";}#sk-container-id-1 div.sk-estimator input.sk-toggleable__control:checked~label.sk-toggleable__label {background-color: #d4ebff;}#sk-container-id-1 div.sk-label input.sk-toggleable__control:checked~label.sk-toggleable__label {background-color: #d4ebff;}#sk-container-id-1 input.sk-hidden--visually {border: 0;clip: rect(1px 1px 1px 1px);clip: rect(1px, 1px, 1px, 1px);height: 1px;margin: -1px;overflow: hidden;padding: 0;position: absolute;width: 1px;}#sk-container-id-1 div.sk-estimator {font-family: monospace;background-color: #f0f8ff;border: 1px dotted black;border-radius: 0.25em;box-sizing: border-box;margin-bottom: 0.5em;}#sk-container-id-1 div.sk-estimator:hover {background-color: #d4ebff;}#sk-container-id-1 div.sk-parallel-item::after {content: \"\";width: 100%;border-bottom: 1px solid gray;flex-grow: 1;}#sk-container-id-1 div.sk-label:hover label.sk-toggleable__label {background-color: #d4ebff;}#sk-container-id-1 div.sk-serial::before {content: \"\";position: absolute;border-left: 1px solid gray;box-sizing: border-box;top: 0;bottom: 0;left: 50%;z-index: 0;}#sk-container-id-1 div.sk-serial {display: flex;flex-direction: column;align-items: center;background-color: white;padding-right: 0.2em;padding-left: 0.2em;position: relative;}#sk-container-id-1 div.sk-item {position: relative;z-index: 1;}#sk-container-id-1 div.sk-parallel {display: flex;align-items: stretch;justify-content: center;background-color: white;position: relative;}#sk-container-id-1 div.sk-item::before, #sk-container-id-1 div.sk-parallel-item::before {content: \"\";position: absolute;border-left: 1px solid gray;box-sizing: border-box;top: 0;bottom: 0;left: 50%;z-index: -1;}#sk-container-id-1 div.sk-parallel-item {display: flex;flex-direction: column;z-index: 1;position: relative;background-color: white;}#sk-container-id-1 div.sk-parallel-item:first-child::after {align-self: flex-end;width: 50%;}#sk-container-id-1 div.sk-parallel-item:last-child::after {align-self: flex-start;width: 50%;}#sk-container-id-1 div.sk-parallel-item:only-child::after {width: 0;}#sk-container-id-1 div.sk-dashed-wrapped {border: 1px dashed gray;margin: 0 0.4em 0.5em 0.4em;box-sizing: border-box;padding-bottom: 0.4em;background-color: white;}#sk-container-id-1 div.sk-label label {font-family: monospace;font-weight: bold;display: inline-block;line-height: 1.2em;}#sk-container-id-1 div.sk-label-container {text-align: center;}#sk-container-id-1 div.sk-container {/* jupyter's `normalize.less` sets `[hidden] { display: none; }` but bootstrap.min.css set `[hidden] { display: none !important; }` so we also need the `!important` here to be able to override the default hidden behavior on the sphinx rendered scikit-learn.org. See: https://github.com/scikit-learn/scikit-learn/issues/21755 */display: inline-block !important;position: relative;}#sk-container-id-1 div.sk-text-repr-fallback {display: none;}</style><div id=\"sk-container-id-1\" class=\"sk-top-container\"><div class=\"sk-text-repr-fallback\"><pre>XGBRegressor(base_score=None, booster=None, callbacks=None,\n",
       "             colsample_bylevel=None, colsample_bynode=None,\n",
       "             colsample_bytree=None, early_stopping_rounds=None,\n",
       "             enable_categorical=False, eval_metric=None, feature_types=None,\n",
       "             gamma=None, gpu_id=None, grow_policy=None, importance_type=None,\n",
       "             interaction_constraints=None, learning_rate=None, max_bin=None,\n",
       "             max_cat_threshold=None, max_cat_to_onehot=None,\n",
       "             max_delta_step=None, max_depth=None, max_leaves=None,\n",
       "             min_child_weight=None, missing=nan, monotone_constraints=None,\n",
       "             n_estimators=100, n_jobs=None, num_parallel_tree=None,\n",
       "             predictor=None, random_state=None, ...)</pre><b>In a Jupyter environment, please rerun this cell to show the HTML representation or trust the notebook. <br />On GitHub, the HTML representation is unable to render, please try loading this page with nbviewer.org.</b></div><div class=\"sk-container\" hidden><div class=\"sk-item\"><div class=\"sk-estimator sk-toggleable\"><input class=\"sk-toggleable__control sk-hidden--visually\" id=\"sk-estimator-id-1\" type=\"checkbox\" checked><label for=\"sk-estimator-id-1\" class=\"sk-toggleable__label sk-toggleable__label-arrow\">XGBRegressor</label><div class=\"sk-toggleable__content\"><pre>XGBRegressor(base_score=None, booster=None, callbacks=None,\n",
       "             colsample_bylevel=None, colsample_bynode=None,\n",
       "             colsample_bytree=None, early_stopping_rounds=None,\n",
       "             enable_categorical=False, eval_metric=None, feature_types=None,\n",
       "             gamma=None, gpu_id=None, grow_policy=None, importance_type=None,\n",
       "             interaction_constraints=None, learning_rate=None, max_bin=None,\n",
       "             max_cat_threshold=None, max_cat_to_onehot=None,\n",
       "             max_delta_step=None, max_depth=None, max_leaves=None,\n",
       "             min_child_weight=None, missing=nan, monotone_constraints=None,\n",
       "             n_estimators=100, n_jobs=None, num_parallel_tree=None,\n",
       "             predictor=None, random_state=None, ...)</pre></div></div></div></div></div>"
      ],
      "text/plain": [
       "XGBRegressor(base_score=None, booster=None, callbacks=None,\n",
       "             colsample_bylevel=None, colsample_bynode=None,\n",
       "             colsample_bytree=None, early_stopping_rounds=None,\n",
       "             enable_categorical=False, eval_metric=None, feature_types=None,\n",
       "             gamma=None, gpu_id=None, grow_policy=None, importance_type=None,\n",
       "             interaction_constraints=None, learning_rate=None, max_bin=None,\n",
       "             max_cat_threshold=None, max_cat_to_onehot=None,\n",
       "             max_delta_step=None, max_depth=None, max_leaves=None,\n",
       "             min_child_weight=None, missing=nan, monotone_constraints=None,\n",
       "             n_estimators=100, n_jobs=None, num_parallel_tree=None,\n",
       "             predictor=None, random_state=None, ...)"
      ]
     },
     "execution_count": 25,
     "metadata": {},
     "output_type": "execute_result"
    }
   ],
   "source": [
    "model = xgb.XGBRegressor()\n",
    "model.fit(X_train, y_train, early_stopping_rounds=10, eval_set=[(X_valid, y_valid)], verbose=1)"
   ]
  },
  {
   "cell_type": "code",
   "execution_count": 26,
   "metadata": {},
   "outputs": [
    {
     "data": {
      "text/plain": [
       "array([25.002068, 25.00011 , 25.000086, 25.001444, 25.002068, 25.000086,\n",
       "       24.998596, 25.00881 , 25.000086, 25.000086, 25.002068, 25.002548,\n",
       "       25.002068, 25.010065, 25.010065, 25.010065, 25.009459, 25.011684,\n",
       "       25.022057, 25.010113, 25.000662, 25.001223, 24.998175, 24.988668,\n",
       "       25.000553, 24.997425, 25.000711, 24.996395, 25.002068, 25.000086,\n",
       "       25.002548, 25.002693, 25.000711, 25.002068, 25.000086, 25.00529 ,\n",
       "       25.00011 , 25.010065, 25.01043 , 25.000662, 25.00011 , 24.988506,\n",
       "       24.988506, 24.988987, 24.988506, 25.005272, 25.04985 , 25.025269,\n",
       "       25.048332, 25.0504  , 25.0295  , 25.019806, 25.052114, 25.051435,\n",
       "       25.019808, 25.017023, 25.04995 , 25.014666, 25.01821 , 25.01821 ,\n",
       "       25.020918, 25.039429], dtype=float32)"
      ]
     },
     "execution_count": 26,
     "metadata": {},
     "output_type": "execute_result"
    }
   ],
   "source": [
    "pred = model.predict(X_valid)\n",
    "pred"
   ]
  },
  {
   "cell_type": "code",
   "execution_count": 27,
   "metadata": {},
   "outputs": [
    {
     "name": "stdout",
     "output_type": "stream",
     "text": [
      "RMSE :  0.006156\n"
     ]
    }
   ],
   "source": [
    "# RMSE Computation\n",
    "rmse = np.sqrt(MSE(y_valid, pred))\n",
    "print(\"RMSE : % f\" %(rmse))"
   ]
  },
  {
   "cell_type": "code",
   "execution_count": 28,
   "metadata": {},
   "outputs": [
    {
     "data": {
      "application/vnd.plotly.v1+json": {
       "config": {
        "plotlyServerURL": "https://plot.ly"
       },
       "data": [
        {
         "marker": {
          "color": "green"
         },
         "name": "Real Price",
         "type": "scatter",
         "x": [
          "2021-09-02T00:00:00",
          "2021-09-03T00:00:00",
          "2021-09-07T00:00:00",
          "2021-09-08T00:00:00",
          "2021-09-09T00:00:00",
          "2021-09-10T00:00:00",
          "2021-09-13T00:00:00",
          "2021-09-14T00:00:00",
          "2021-09-15T00:00:00",
          "2021-09-16T00:00:00",
          "2021-09-17T00:00:00",
          "2021-09-20T00:00:00",
          "2021-09-21T00:00:00",
          "2021-09-22T00:00:00",
          "2021-09-23T00:00:00",
          "2021-09-24T00:00:00",
          "2021-09-27T00:00:00",
          "2021-09-28T00:00:00",
          "2021-09-29T00:00:00",
          "2021-09-30T00:00:00",
          "2021-10-01T00:00:00",
          "2021-10-04T00:00:00",
          "2021-10-05T00:00:00",
          "2021-10-06T00:00:00",
          "2021-10-07T00:00:00",
          "2021-10-08T00:00:00",
          "2021-10-11T00:00:00",
          "2021-10-12T00:00:00",
          "2021-10-13T00:00:00",
          "2021-10-14T00:00:00",
          "2021-10-15T00:00:00",
          "2021-10-18T00:00:00",
          "2021-10-19T00:00:00",
          "2021-10-20T00:00:00",
          "2021-10-21T00:00:00",
          "2021-10-22T00:00:00",
          "2021-10-25T00:00:00",
          "2021-10-26T00:00:00",
          "2021-10-27T00:00:00",
          "2021-10-28T00:00:00",
          "2021-10-29T00:00:00",
          "2021-11-01T00:00:00",
          "2021-11-02T00:00:00",
          "2021-11-03T00:00:00",
          "2021-11-04T00:00:00",
          "2021-11-05T00:00:00",
          "2021-11-08T00:00:00",
          "2021-11-09T00:00:00",
          "2021-11-10T00:00:00",
          "2021-11-11T00:00:00",
          "2021-11-12T00:00:00",
          "2021-11-15T00:00:00",
          "2021-11-16T00:00:00",
          "2021-11-17T00:00:00",
          "2021-11-18T00:00:00",
          "2021-11-19T00:00:00",
          "2021-11-22T00:00:00",
          "2021-11-23T00:00:00",
          "2021-11-24T00:00:00",
          "2021-11-26T00:00:00",
          "2021-11-29T00:00:00",
          "2021-11-30T00:00:00"
         ],
         "y": [
          25,
          25,
          25,
          25,
          25,
          25,
          25,
          25.01,
          25,
          25,
          25,
          25,
          25,
          25.01,
          25.01,
          25.01,
          25.01,
          25.02,
          25.02,
          25.01,
          25,
          25,
          24.99,
          24.99,
          25,
          25,
          25,
          25,
          25,
          25,
          25,
          25,
          25,
          25,
          25,
          25,
          25,
          25.01,
          25.01,
          25,
          25,
          24.99,
          24.99,
          24.99,
          24.99,
          25.03,
          25.05,
          25.02,
          25.04,
          25.05,
          25.02,
          25.04,
          25.04,
          25.05,
          25.04,
          25.02,
          25.05,
          25.03,
          25.02,
          25.02,
          25.03,
          25.04
         ]
        },
        {
         "marker": {
          "color": "red"
         },
         "name": "Prediction Price",
         "type": "scatter",
         "x": [
          "2021-09-02T00:00:00",
          "2021-09-03T00:00:00",
          "2021-09-07T00:00:00",
          "2021-09-08T00:00:00",
          "2021-09-09T00:00:00",
          "2021-09-10T00:00:00",
          "2021-09-13T00:00:00",
          "2021-09-14T00:00:00",
          "2021-09-15T00:00:00",
          "2021-09-16T00:00:00",
          "2021-09-17T00:00:00",
          "2021-09-20T00:00:00",
          "2021-09-21T00:00:00",
          "2021-09-22T00:00:00",
          "2021-09-23T00:00:00",
          "2021-09-24T00:00:00",
          "2021-09-27T00:00:00",
          "2021-09-28T00:00:00",
          "2021-09-29T00:00:00",
          "2021-09-30T00:00:00",
          "2021-10-01T00:00:00",
          "2021-10-04T00:00:00",
          "2021-10-05T00:00:00",
          "2021-10-06T00:00:00",
          "2021-10-07T00:00:00",
          "2021-10-08T00:00:00",
          "2021-10-11T00:00:00",
          "2021-10-12T00:00:00",
          "2021-10-13T00:00:00",
          "2021-10-14T00:00:00",
          "2021-10-15T00:00:00",
          "2021-10-18T00:00:00",
          "2021-10-19T00:00:00",
          "2021-10-20T00:00:00",
          "2021-10-21T00:00:00",
          "2021-10-22T00:00:00",
          "2021-10-25T00:00:00",
          "2021-10-26T00:00:00",
          "2021-10-27T00:00:00",
          "2021-10-28T00:00:00",
          "2021-10-29T00:00:00",
          "2021-11-01T00:00:00",
          "2021-11-02T00:00:00",
          "2021-11-03T00:00:00",
          "2021-11-04T00:00:00",
          "2021-11-05T00:00:00",
          "2021-11-08T00:00:00",
          "2021-11-09T00:00:00",
          "2021-11-10T00:00:00",
          "2021-11-11T00:00:00",
          "2021-11-12T00:00:00",
          "2021-11-15T00:00:00",
          "2021-11-16T00:00:00",
          "2021-11-17T00:00:00",
          "2021-11-18T00:00:00",
          "2021-11-19T00:00:00",
          "2021-11-22T00:00:00",
          "2021-11-23T00:00:00",
          "2021-11-24T00:00:00",
          "2021-11-26T00:00:00",
          "2021-11-29T00:00:00",
          "2021-11-30T00:00:00"
         ],
         "y": [
          25.002068,
          25.00011,
          25.000086,
          25.001444,
          25.002068,
          25.000086,
          24.998596,
          25.00881,
          25.000086,
          25.000086,
          25.002068,
          25.002548,
          25.002068,
          25.010065,
          25.010065,
          25.010065,
          25.009459,
          25.011684,
          25.022057,
          25.010113,
          25.000662,
          25.001223,
          24.998175,
          24.988668,
          25.000553,
          24.997425,
          25.000711,
          24.996395,
          25.002068,
          25.000086,
          25.002548,
          25.002693,
          25.000711,
          25.002068,
          25.000086,
          25.00529,
          25.00011,
          25.010065,
          25.01043,
          25.000662,
          25.00011,
          24.988506,
          24.988506,
          24.988987,
          24.988506,
          25.005272,
          25.04985,
          25.025269,
          25.048332,
          25.0504,
          25.0295,
          25.019806,
          25.052114,
          25.051435,
          25.019808,
          25.017023,
          25.04995,
          25.014666,
          25.01821,
          25.01821,
          25.020918,
          25.039429
         ]
        }
       ],
       "layout": {
        "legend": {
         "orientation": "h",
         "x": 1,
         "xanchor": "right",
         "y": 1.02,
         "yanchor": "bottom"
        },
        "template": {
         "data": {
          "bar": [
           {
            "error_x": {
             "color": "#f2f5fa"
            },
            "error_y": {
             "color": "#f2f5fa"
            },
            "marker": {
             "line": {
              "color": "rgb(17,17,17)",
              "width": 0.5
             },
             "pattern": {
              "fillmode": "overlay",
              "size": 10,
              "solidity": 0.2
             }
            },
            "type": "bar"
           }
          ],
          "barpolar": [
           {
            "marker": {
             "line": {
              "color": "rgb(17,17,17)",
              "width": 0.5
             },
             "pattern": {
              "fillmode": "overlay",
              "size": 10,
              "solidity": 0.2
             }
            },
            "type": "barpolar"
           }
          ],
          "carpet": [
           {
            "aaxis": {
             "endlinecolor": "#A2B1C6",
             "gridcolor": "#506784",
             "linecolor": "#506784",
             "minorgridcolor": "#506784",
             "startlinecolor": "#A2B1C6"
            },
            "baxis": {
             "endlinecolor": "#A2B1C6",
             "gridcolor": "#506784",
             "linecolor": "#506784",
             "minorgridcolor": "#506784",
             "startlinecolor": "#A2B1C6"
            },
            "type": "carpet"
           }
          ],
          "choropleth": [
           {
            "colorbar": {
             "outlinewidth": 0,
             "ticks": ""
            },
            "type": "choropleth"
           }
          ],
          "contour": [
           {
            "colorbar": {
             "outlinewidth": 0,
             "ticks": ""
            },
            "colorscale": [
             [
              0,
              "#0d0887"
             ],
             [
              0.1111111111111111,
              "#46039f"
             ],
             [
              0.2222222222222222,
              "#7201a8"
             ],
             [
              0.3333333333333333,
              "#9c179e"
             ],
             [
              0.4444444444444444,
              "#bd3786"
             ],
             [
              0.5555555555555556,
              "#d8576b"
             ],
             [
              0.6666666666666666,
              "#ed7953"
             ],
             [
              0.7777777777777778,
              "#fb9f3a"
             ],
             [
              0.8888888888888888,
              "#fdca26"
             ],
             [
              1,
              "#f0f921"
             ]
            ],
            "type": "contour"
           }
          ],
          "contourcarpet": [
           {
            "colorbar": {
             "outlinewidth": 0,
             "ticks": ""
            },
            "type": "contourcarpet"
           }
          ],
          "heatmap": [
           {
            "colorbar": {
             "outlinewidth": 0,
             "ticks": ""
            },
            "colorscale": [
             [
              0,
              "#0d0887"
             ],
             [
              0.1111111111111111,
              "#46039f"
             ],
             [
              0.2222222222222222,
              "#7201a8"
             ],
             [
              0.3333333333333333,
              "#9c179e"
             ],
             [
              0.4444444444444444,
              "#bd3786"
             ],
             [
              0.5555555555555556,
              "#d8576b"
             ],
             [
              0.6666666666666666,
              "#ed7953"
             ],
             [
              0.7777777777777778,
              "#fb9f3a"
             ],
             [
              0.8888888888888888,
              "#fdca26"
             ],
             [
              1,
              "#f0f921"
             ]
            ],
            "type": "heatmap"
           }
          ],
          "heatmapgl": [
           {
            "colorbar": {
             "outlinewidth": 0,
             "ticks": ""
            },
            "colorscale": [
             [
              0,
              "#0d0887"
             ],
             [
              0.1111111111111111,
              "#46039f"
             ],
             [
              0.2222222222222222,
              "#7201a8"
             ],
             [
              0.3333333333333333,
              "#9c179e"
             ],
             [
              0.4444444444444444,
              "#bd3786"
             ],
             [
              0.5555555555555556,
              "#d8576b"
             ],
             [
              0.6666666666666666,
              "#ed7953"
             ],
             [
              0.7777777777777778,
              "#fb9f3a"
             ],
             [
              0.8888888888888888,
              "#fdca26"
             ],
             [
              1,
              "#f0f921"
             ]
            ],
            "type": "heatmapgl"
           }
          ],
          "histogram": [
           {
            "marker": {
             "pattern": {
              "fillmode": "overlay",
              "size": 10,
              "solidity": 0.2
             }
            },
            "type": "histogram"
           }
          ],
          "histogram2d": [
           {
            "colorbar": {
             "outlinewidth": 0,
             "ticks": ""
            },
            "colorscale": [
             [
              0,
              "#0d0887"
             ],
             [
              0.1111111111111111,
              "#46039f"
             ],
             [
              0.2222222222222222,
              "#7201a8"
             ],
             [
              0.3333333333333333,
              "#9c179e"
             ],
             [
              0.4444444444444444,
              "#bd3786"
             ],
             [
              0.5555555555555556,
              "#d8576b"
             ],
             [
              0.6666666666666666,
              "#ed7953"
             ],
             [
              0.7777777777777778,
              "#fb9f3a"
             ],
             [
              0.8888888888888888,
              "#fdca26"
             ],
             [
              1,
              "#f0f921"
             ]
            ],
            "type": "histogram2d"
           }
          ],
          "histogram2dcontour": [
           {
            "colorbar": {
             "outlinewidth": 0,
             "ticks": ""
            },
            "colorscale": [
             [
              0,
              "#0d0887"
             ],
             [
              0.1111111111111111,
              "#46039f"
             ],
             [
              0.2222222222222222,
              "#7201a8"
             ],
             [
              0.3333333333333333,
              "#9c179e"
             ],
             [
              0.4444444444444444,
              "#bd3786"
             ],
             [
              0.5555555555555556,
              "#d8576b"
             ],
             [
              0.6666666666666666,
              "#ed7953"
             ],
             [
              0.7777777777777778,
              "#fb9f3a"
             ],
             [
              0.8888888888888888,
              "#fdca26"
             ],
             [
              1,
              "#f0f921"
             ]
            ],
            "type": "histogram2dcontour"
           }
          ],
          "mesh3d": [
           {
            "colorbar": {
             "outlinewidth": 0,
             "ticks": ""
            },
            "type": "mesh3d"
           }
          ],
          "parcoords": [
           {
            "line": {
             "colorbar": {
              "outlinewidth": 0,
              "ticks": ""
             }
            },
            "type": "parcoords"
           }
          ],
          "pie": [
           {
            "automargin": true,
            "type": "pie"
           }
          ],
          "scatter": [
           {
            "marker": {
             "line": {
              "color": "#283442"
             }
            },
            "type": "scatter"
           }
          ],
          "scatter3d": [
           {
            "line": {
             "colorbar": {
              "outlinewidth": 0,
              "ticks": ""
             }
            },
            "marker": {
             "colorbar": {
              "outlinewidth": 0,
              "ticks": ""
             }
            },
            "type": "scatter3d"
           }
          ],
          "scattercarpet": [
           {
            "marker": {
             "colorbar": {
              "outlinewidth": 0,
              "ticks": ""
             }
            },
            "type": "scattercarpet"
           }
          ],
          "scattergeo": [
           {
            "marker": {
             "colorbar": {
              "outlinewidth": 0,
              "ticks": ""
             }
            },
            "type": "scattergeo"
           }
          ],
          "scattergl": [
           {
            "marker": {
             "line": {
              "color": "#283442"
             }
            },
            "type": "scattergl"
           }
          ],
          "scattermapbox": [
           {
            "marker": {
             "colorbar": {
              "outlinewidth": 0,
              "ticks": ""
             }
            },
            "type": "scattermapbox"
           }
          ],
          "scatterpolar": [
           {
            "marker": {
             "colorbar": {
              "outlinewidth": 0,
              "ticks": ""
             }
            },
            "type": "scatterpolar"
           }
          ],
          "scatterpolargl": [
           {
            "marker": {
             "colorbar": {
              "outlinewidth": 0,
              "ticks": ""
             }
            },
            "type": "scatterpolargl"
           }
          ],
          "scatterternary": [
           {
            "marker": {
             "colorbar": {
              "outlinewidth": 0,
              "ticks": ""
             }
            },
            "type": "scatterternary"
           }
          ],
          "surface": [
           {
            "colorbar": {
             "outlinewidth": 0,
             "ticks": ""
            },
            "colorscale": [
             [
              0,
              "#0d0887"
             ],
             [
              0.1111111111111111,
              "#46039f"
             ],
             [
              0.2222222222222222,
              "#7201a8"
             ],
             [
              0.3333333333333333,
              "#9c179e"
             ],
             [
              0.4444444444444444,
              "#bd3786"
             ],
             [
              0.5555555555555556,
              "#d8576b"
             ],
             [
              0.6666666666666666,
              "#ed7953"
             ],
             [
              0.7777777777777778,
              "#fb9f3a"
             ],
             [
              0.8888888888888888,
              "#fdca26"
             ],
             [
              1,
              "#f0f921"
             ]
            ],
            "type": "surface"
           }
          ],
          "table": [
           {
            "cells": {
             "fill": {
              "color": "#506784"
             },
             "line": {
              "color": "rgb(17,17,17)"
             }
            },
            "header": {
             "fill": {
              "color": "#2a3f5f"
             },
             "line": {
              "color": "rgb(17,17,17)"
             }
            },
            "type": "table"
           }
          ]
         },
         "layout": {
          "annotationdefaults": {
           "arrowcolor": "#f2f5fa",
           "arrowhead": 0,
           "arrowwidth": 1
          },
          "autotypenumbers": "strict",
          "coloraxis": {
           "colorbar": {
            "outlinewidth": 0,
            "ticks": ""
           }
          },
          "colorscale": {
           "diverging": [
            [
             0,
             "#8e0152"
            ],
            [
             0.1,
             "#c51b7d"
            ],
            [
             0.2,
             "#de77ae"
            ],
            [
             0.3,
             "#f1b6da"
            ],
            [
             0.4,
             "#fde0ef"
            ],
            [
             0.5,
             "#f7f7f7"
            ],
            [
             0.6,
             "#e6f5d0"
            ],
            [
             0.7,
             "#b8e186"
            ],
            [
             0.8,
             "#7fbc41"
            ],
            [
             0.9,
             "#4d9221"
            ],
            [
             1,
             "#276419"
            ]
           ],
           "sequential": [
            [
             0,
             "#0d0887"
            ],
            [
             0.1111111111111111,
             "#46039f"
            ],
            [
             0.2222222222222222,
             "#7201a8"
            ],
            [
             0.3333333333333333,
             "#9c179e"
            ],
            [
             0.4444444444444444,
             "#bd3786"
            ],
            [
             0.5555555555555556,
             "#d8576b"
            ],
            [
             0.6666666666666666,
             "#ed7953"
            ],
            [
             0.7777777777777778,
             "#fb9f3a"
            ],
            [
             0.8888888888888888,
             "#fdca26"
            ],
            [
             1,
             "#f0f921"
            ]
           ],
           "sequentialminus": [
            [
             0,
             "#0d0887"
            ],
            [
             0.1111111111111111,
             "#46039f"
            ],
            [
             0.2222222222222222,
             "#7201a8"
            ],
            [
             0.3333333333333333,
             "#9c179e"
            ],
            [
             0.4444444444444444,
             "#bd3786"
            ],
            [
             0.5555555555555556,
             "#d8576b"
            ],
            [
             0.6666666666666666,
             "#ed7953"
            ],
            [
             0.7777777777777778,
             "#fb9f3a"
            ],
            [
             0.8888888888888888,
             "#fdca26"
            ],
            [
             1,
             "#f0f921"
            ]
           ]
          },
          "colorway": [
           "#636efa",
           "#EF553B",
           "#00cc96",
           "#ab63fa",
           "#FFA15A",
           "#19d3f3",
           "#FF6692",
           "#B6E880",
           "#FF97FF",
           "#FECB52"
          ],
          "font": {
           "color": "#f2f5fa"
          },
          "geo": {
           "bgcolor": "rgb(17,17,17)",
           "lakecolor": "rgb(17,17,17)",
           "landcolor": "rgb(17,17,17)",
           "showlakes": true,
           "showland": true,
           "subunitcolor": "#506784"
          },
          "hoverlabel": {
           "align": "left"
          },
          "hovermode": "closest",
          "mapbox": {
           "style": "dark"
          },
          "paper_bgcolor": "rgb(17,17,17)",
          "plot_bgcolor": "rgb(17,17,17)",
          "polar": {
           "angularaxis": {
            "gridcolor": "#506784",
            "linecolor": "#506784",
            "ticks": ""
           },
           "bgcolor": "rgb(17,17,17)",
           "radialaxis": {
            "gridcolor": "#506784",
            "linecolor": "#506784",
            "ticks": ""
           }
          },
          "scene": {
           "xaxis": {
            "backgroundcolor": "rgb(17,17,17)",
            "gridcolor": "#506784",
            "gridwidth": 2,
            "linecolor": "#506784",
            "showbackground": true,
            "ticks": "",
            "zerolinecolor": "#C8D4E3"
           },
           "yaxis": {
            "backgroundcolor": "rgb(17,17,17)",
            "gridcolor": "#506784",
            "gridwidth": 2,
            "linecolor": "#506784",
            "showbackground": true,
            "ticks": "",
            "zerolinecolor": "#C8D4E3"
           },
           "zaxis": {
            "backgroundcolor": "rgb(17,17,17)",
            "gridcolor": "#506784",
            "gridwidth": 2,
            "linecolor": "#506784",
            "showbackground": true,
            "ticks": "",
            "zerolinecolor": "#C8D4E3"
           }
          },
          "shapedefaults": {
           "line": {
            "color": "#f2f5fa"
           }
          },
          "sliderdefaults": {
           "bgcolor": "#C8D4E3",
           "bordercolor": "rgb(17,17,17)",
           "borderwidth": 1,
           "tickwidth": 0
          },
          "ternary": {
           "aaxis": {
            "gridcolor": "#506784",
            "linecolor": "#506784",
            "ticks": ""
           },
           "baxis": {
            "gridcolor": "#506784",
            "linecolor": "#506784",
            "ticks": ""
           },
           "bgcolor": "rgb(17,17,17)",
           "caxis": {
            "gridcolor": "#506784",
            "linecolor": "#506784",
            "ticks": ""
           }
          },
          "title": {
           "x": 0.05
          },
          "updatemenudefaults": {
           "bgcolor": "#506784",
           "borderwidth": 0
          },
          "xaxis": {
           "automargin": true,
           "gridcolor": "#283442",
           "linecolor": "#506784",
           "ticks": "",
           "title": {
            "standoff": 15
           },
           "zerolinecolor": "#283442",
           "zerolinewidth": 2
          },
          "yaxis": {
           "automargin": true,
           "gridcolor": "#283442",
           "linecolor": "#506784",
           "ticks": "",
           "title": {
            "standoff": 15
           },
           "zerolinecolor": "#283442",
           "zerolinewidth": 2
          }
         }
        },
        "title": {
         "text": "ETF (AAA) Xgboost Prediction Prices"
        },
        "xaxis": {
         "title": {
          "text": "Date"
         }
        },
        "yaxis": {
         "title": {
          "text": "Prices ($)"
         }
        }
       }
      }
     },
     "metadata": {},
     "output_type": "display_data"
    }
   ],
   "source": [
    "# Graph Prediciton Data\n",
    "for_graph = y_valid\n",
    "for_graph[\"Prediction\"] = pred\n",
    "\n",
    "# Graph of Prediction\n",
    "pred_graph = go.Figure()\n",
    "pred_graph.add_trace(go.Scatter(x = for_graph.index, y = for_graph[\"close\"], name = \"Real Price\", marker_color = \"green\"))\n",
    "pred_graph.add_trace(go.Scatter(x = for_graph.index, y = for_graph[\"Prediction\"], name = \"Prediction Price\", marker_color = \"red\"))\n",
    "pred_graph.update_layout(title = f\"ETF (AAA) Xgboost Prediction Prices\", legend = dict(orientation=\"h\",yanchor=\"bottom\",y=1.02,xanchor=\"right\",x=1),template =\"plotly_dark\")\n",
    "pred_graph.update_xaxes(title = \"Date\")\n",
    "pred_graph.update_yaxes(title =\"Prices ($)\")\n",
    "pred_graph.show()"
   ]
  },
  {
   "cell_type": "markdown",
   "metadata": {},
   "source": [
    "## LIGHTGBM"
   ]
  },
  {
   "cell_type": "code",
   "execution_count": 29,
   "metadata": {},
   "outputs": [
    {
     "data": {
      "text/plain": [
       "array([25.00013979, 24.99923989, 24.99974007, 24.99956144, 25.00019164,\n",
       "       24.99972951, 24.99539587, 25.00649732, 24.99974007, 24.99974007,\n",
       "       25.00019164, 25.00251617, 25.00019164, 25.00969579, 25.01042658,\n",
       "       25.00974906, 25.00949275, 25.01432024, 25.01990201, 25.0096155 ,\n",
       "       25.00161342, 25.00407361, 24.99944243, 24.99007612, 25.00247542,\n",
       "       24.99379536, 25.00103064, 24.99389599, 25.00019164, 24.99974007,\n",
       "       25.00251617, 25.00264538, 25.00103064, 25.00019164, 24.99974007,\n",
       "       25.00405884, 24.9991756 , 25.00974906, 25.01024212, 25.00141339,\n",
       "       25.00042937, 24.988804  , 24.988804  , 24.98727721, 24.988804  ,\n",
       "       25.01263897, 25.04821897, 25.03451522, 25.04921607, 25.04924741,\n",
       "       25.03220383, 25.02413866, 25.0500258 , 25.05274108, 25.02319122,\n",
       "       25.02271068, 25.05033658, 25.02387632, 25.02382751, 25.02421995,\n",
       "       25.02310065, 25.03951513])"
      ]
     },
     "execution_count": 29,
     "metadata": {},
     "output_type": "execute_result"
    }
   ],
   "source": [
    "model_2 = lgb.LGBMRegressor()\n",
    "model_2.fit(X_train, y_train)\n",
    "pred_2 = model_2.predict(X_valid)\n",
    "pred_2"
   ]
  },
  {
   "cell_type": "code",
   "execution_count": 30,
   "metadata": {},
   "outputs": [
    {
     "name": "stdout",
     "output_type": "stream",
     "text": [
      "R^2 Score is 0.8989154256174074\n"
     ]
    }
   ],
   "source": [
    "score = r2_score(y_valid[\"close\"], pred_2)\n",
    "print(f\"R^2 Score is {score}\")"
   ]
  },
  {
   "cell_type": "code",
   "execution_count": 31,
   "metadata": {},
   "outputs": [
    {
     "data": {
      "application/vnd.plotly.v1+json": {
       "config": {
        "plotlyServerURL": "https://plot.ly"
       },
       "data": [
        {
         "marker": {
          "color": "green"
         },
         "name": "Real Price",
         "type": "scatter",
         "x": [
          "2021-09-02T00:00:00",
          "2021-09-03T00:00:00",
          "2021-09-07T00:00:00",
          "2021-09-08T00:00:00",
          "2021-09-09T00:00:00",
          "2021-09-10T00:00:00",
          "2021-09-13T00:00:00",
          "2021-09-14T00:00:00",
          "2021-09-15T00:00:00",
          "2021-09-16T00:00:00",
          "2021-09-17T00:00:00",
          "2021-09-20T00:00:00",
          "2021-09-21T00:00:00",
          "2021-09-22T00:00:00",
          "2021-09-23T00:00:00",
          "2021-09-24T00:00:00",
          "2021-09-27T00:00:00",
          "2021-09-28T00:00:00",
          "2021-09-29T00:00:00",
          "2021-09-30T00:00:00",
          "2021-10-01T00:00:00",
          "2021-10-04T00:00:00",
          "2021-10-05T00:00:00",
          "2021-10-06T00:00:00",
          "2021-10-07T00:00:00",
          "2021-10-08T00:00:00",
          "2021-10-11T00:00:00",
          "2021-10-12T00:00:00",
          "2021-10-13T00:00:00",
          "2021-10-14T00:00:00",
          "2021-10-15T00:00:00",
          "2021-10-18T00:00:00",
          "2021-10-19T00:00:00",
          "2021-10-20T00:00:00",
          "2021-10-21T00:00:00",
          "2021-10-22T00:00:00",
          "2021-10-25T00:00:00",
          "2021-10-26T00:00:00",
          "2021-10-27T00:00:00",
          "2021-10-28T00:00:00",
          "2021-10-29T00:00:00",
          "2021-11-01T00:00:00",
          "2021-11-02T00:00:00",
          "2021-11-03T00:00:00",
          "2021-11-04T00:00:00",
          "2021-11-05T00:00:00",
          "2021-11-08T00:00:00",
          "2021-11-09T00:00:00",
          "2021-11-10T00:00:00",
          "2021-11-11T00:00:00",
          "2021-11-12T00:00:00",
          "2021-11-15T00:00:00",
          "2021-11-16T00:00:00",
          "2021-11-17T00:00:00",
          "2021-11-18T00:00:00",
          "2021-11-19T00:00:00",
          "2021-11-22T00:00:00",
          "2021-11-23T00:00:00",
          "2021-11-24T00:00:00",
          "2021-11-26T00:00:00",
          "2021-11-29T00:00:00",
          "2021-11-30T00:00:00"
         ],
         "y": [
          25,
          25,
          25,
          25,
          25,
          25,
          25,
          25.01,
          25,
          25,
          25,
          25,
          25,
          25.01,
          25.01,
          25.01,
          25.01,
          25.02,
          25.02,
          25.01,
          25,
          25,
          24.99,
          24.99,
          25,
          25,
          25,
          25,
          25,
          25,
          25,
          25,
          25,
          25,
          25,
          25,
          25,
          25.01,
          25.01,
          25,
          25,
          24.99,
          24.99,
          24.99,
          24.99,
          25.03,
          25.05,
          25.02,
          25.04,
          25.05,
          25.02,
          25.04,
          25.04,
          25.05,
          25.04,
          25.02,
          25.05,
          25.03,
          25.02,
          25.02,
          25.03,
          25.04
         ]
        },
        {
         "marker": {
          "color": "red"
         },
         "name": "Prediction Price",
         "type": "scatter",
         "x": [
          "2021-09-02T00:00:00",
          "2021-09-03T00:00:00",
          "2021-09-07T00:00:00",
          "2021-09-08T00:00:00",
          "2021-09-09T00:00:00",
          "2021-09-10T00:00:00",
          "2021-09-13T00:00:00",
          "2021-09-14T00:00:00",
          "2021-09-15T00:00:00",
          "2021-09-16T00:00:00",
          "2021-09-17T00:00:00",
          "2021-09-20T00:00:00",
          "2021-09-21T00:00:00",
          "2021-09-22T00:00:00",
          "2021-09-23T00:00:00",
          "2021-09-24T00:00:00",
          "2021-09-27T00:00:00",
          "2021-09-28T00:00:00",
          "2021-09-29T00:00:00",
          "2021-09-30T00:00:00",
          "2021-10-01T00:00:00",
          "2021-10-04T00:00:00",
          "2021-10-05T00:00:00",
          "2021-10-06T00:00:00",
          "2021-10-07T00:00:00",
          "2021-10-08T00:00:00",
          "2021-10-11T00:00:00",
          "2021-10-12T00:00:00",
          "2021-10-13T00:00:00",
          "2021-10-14T00:00:00",
          "2021-10-15T00:00:00",
          "2021-10-18T00:00:00",
          "2021-10-19T00:00:00",
          "2021-10-20T00:00:00",
          "2021-10-21T00:00:00",
          "2021-10-22T00:00:00",
          "2021-10-25T00:00:00",
          "2021-10-26T00:00:00",
          "2021-10-27T00:00:00",
          "2021-10-28T00:00:00",
          "2021-10-29T00:00:00",
          "2021-11-01T00:00:00",
          "2021-11-02T00:00:00",
          "2021-11-03T00:00:00",
          "2021-11-04T00:00:00",
          "2021-11-05T00:00:00",
          "2021-11-08T00:00:00",
          "2021-11-09T00:00:00",
          "2021-11-10T00:00:00",
          "2021-11-11T00:00:00",
          "2021-11-12T00:00:00",
          "2021-11-15T00:00:00",
          "2021-11-16T00:00:00",
          "2021-11-17T00:00:00",
          "2021-11-18T00:00:00",
          "2021-11-19T00:00:00",
          "2021-11-22T00:00:00",
          "2021-11-23T00:00:00",
          "2021-11-24T00:00:00",
          "2021-11-26T00:00:00",
          "2021-11-29T00:00:00",
          "2021-11-30T00:00:00"
         ],
         "y": [
          25.00013979487887,
          24.999239893567648,
          24.99974007279731,
          24.99956144358257,
          25.00019164331173,
          24.999729505665215,
          24.995395869624808,
          25.00649731767953,
          24.99974007279731,
          24.99974007279731,
          25.00019164331173,
          25.002516169790706,
          25.00019164331173,
          25.009695789797377,
          25.010426583611295,
          25.009749061675066,
          25.009492746616996,
          25.014320238343704,
          25.019902008941234,
          25.00961549596341,
          25.001613416274907,
          25.004073611245023,
          24.99944242794828,
          24.99007611949633,
          25.002475418021916,
          24.99379535797876,
          25.001030637710766,
          24.993895990515007,
          25.00019164331173,
          24.99974007279731,
          25.002516169790706,
          25.002645376244356,
          25.001030637710766,
          25.00019164331173,
          24.99974007279731,
          25.004058844479445,
          24.999175595870437,
          25.009749061675066,
          25.01024212146544,
          25.001413387098406,
          25.000429371283545,
          24.98880400191556,
          24.98880400191556,
          24.98727720574033,
          24.98880400191556,
          25.012638971029652,
          25.048218969964697,
          25.034515216465984,
          25.049216074641603,
          25.049247412397953,
          25.032203825233147,
          25.024138655732948,
          25.05002579975249,
          25.052741076547722,
          25.02319121932281,
          25.022710684356145,
          25.050336580490306,
          25.023876319649872,
          25.023827512042157,
          25.024219945298505,
          25.023100653842462,
          25.03951513006862
         ]
        }
       ],
       "layout": {
        "legend": {
         "orientation": "h",
         "x": 1,
         "xanchor": "right",
         "y": 1.02,
         "yanchor": "bottom"
        },
        "template": {
         "data": {
          "bar": [
           {
            "error_x": {
             "color": "#f2f5fa"
            },
            "error_y": {
             "color": "#f2f5fa"
            },
            "marker": {
             "line": {
              "color": "rgb(17,17,17)",
              "width": 0.5
             },
             "pattern": {
              "fillmode": "overlay",
              "size": 10,
              "solidity": 0.2
             }
            },
            "type": "bar"
           }
          ],
          "barpolar": [
           {
            "marker": {
             "line": {
              "color": "rgb(17,17,17)",
              "width": 0.5
             },
             "pattern": {
              "fillmode": "overlay",
              "size": 10,
              "solidity": 0.2
             }
            },
            "type": "barpolar"
           }
          ],
          "carpet": [
           {
            "aaxis": {
             "endlinecolor": "#A2B1C6",
             "gridcolor": "#506784",
             "linecolor": "#506784",
             "minorgridcolor": "#506784",
             "startlinecolor": "#A2B1C6"
            },
            "baxis": {
             "endlinecolor": "#A2B1C6",
             "gridcolor": "#506784",
             "linecolor": "#506784",
             "minorgridcolor": "#506784",
             "startlinecolor": "#A2B1C6"
            },
            "type": "carpet"
           }
          ],
          "choropleth": [
           {
            "colorbar": {
             "outlinewidth": 0,
             "ticks": ""
            },
            "type": "choropleth"
           }
          ],
          "contour": [
           {
            "colorbar": {
             "outlinewidth": 0,
             "ticks": ""
            },
            "colorscale": [
             [
              0,
              "#0d0887"
             ],
             [
              0.1111111111111111,
              "#46039f"
             ],
             [
              0.2222222222222222,
              "#7201a8"
             ],
             [
              0.3333333333333333,
              "#9c179e"
             ],
             [
              0.4444444444444444,
              "#bd3786"
             ],
             [
              0.5555555555555556,
              "#d8576b"
             ],
             [
              0.6666666666666666,
              "#ed7953"
             ],
             [
              0.7777777777777778,
              "#fb9f3a"
             ],
             [
              0.8888888888888888,
              "#fdca26"
             ],
             [
              1,
              "#f0f921"
             ]
            ],
            "type": "contour"
           }
          ],
          "contourcarpet": [
           {
            "colorbar": {
             "outlinewidth": 0,
             "ticks": ""
            },
            "type": "contourcarpet"
           }
          ],
          "heatmap": [
           {
            "colorbar": {
             "outlinewidth": 0,
             "ticks": ""
            },
            "colorscale": [
             [
              0,
              "#0d0887"
             ],
             [
              0.1111111111111111,
              "#46039f"
             ],
             [
              0.2222222222222222,
              "#7201a8"
             ],
             [
              0.3333333333333333,
              "#9c179e"
             ],
             [
              0.4444444444444444,
              "#bd3786"
             ],
             [
              0.5555555555555556,
              "#d8576b"
             ],
             [
              0.6666666666666666,
              "#ed7953"
             ],
             [
              0.7777777777777778,
              "#fb9f3a"
             ],
             [
              0.8888888888888888,
              "#fdca26"
             ],
             [
              1,
              "#f0f921"
             ]
            ],
            "type": "heatmap"
           }
          ],
          "heatmapgl": [
           {
            "colorbar": {
             "outlinewidth": 0,
             "ticks": ""
            },
            "colorscale": [
             [
              0,
              "#0d0887"
             ],
             [
              0.1111111111111111,
              "#46039f"
             ],
             [
              0.2222222222222222,
              "#7201a8"
             ],
             [
              0.3333333333333333,
              "#9c179e"
             ],
             [
              0.4444444444444444,
              "#bd3786"
             ],
             [
              0.5555555555555556,
              "#d8576b"
             ],
             [
              0.6666666666666666,
              "#ed7953"
             ],
             [
              0.7777777777777778,
              "#fb9f3a"
             ],
             [
              0.8888888888888888,
              "#fdca26"
             ],
             [
              1,
              "#f0f921"
             ]
            ],
            "type": "heatmapgl"
           }
          ],
          "histogram": [
           {
            "marker": {
             "pattern": {
              "fillmode": "overlay",
              "size": 10,
              "solidity": 0.2
             }
            },
            "type": "histogram"
           }
          ],
          "histogram2d": [
           {
            "colorbar": {
             "outlinewidth": 0,
             "ticks": ""
            },
            "colorscale": [
             [
              0,
              "#0d0887"
             ],
             [
              0.1111111111111111,
              "#46039f"
             ],
             [
              0.2222222222222222,
              "#7201a8"
             ],
             [
              0.3333333333333333,
              "#9c179e"
             ],
             [
              0.4444444444444444,
              "#bd3786"
             ],
             [
              0.5555555555555556,
              "#d8576b"
             ],
             [
              0.6666666666666666,
              "#ed7953"
             ],
             [
              0.7777777777777778,
              "#fb9f3a"
             ],
             [
              0.8888888888888888,
              "#fdca26"
             ],
             [
              1,
              "#f0f921"
             ]
            ],
            "type": "histogram2d"
           }
          ],
          "histogram2dcontour": [
           {
            "colorbar": {
             "outlinewidth": 0,
             "ticks": ""
            },
            "colorscale": [
             [
              0,
              "#0d0887"
             ],
             [
              0.1111111111111111,
              "#46039f"
             ],
             [
              0.2222222222222222,
              "#7201a8"
             ],
             [
              0.3333333333333333,
              "#9c179e"
             ],
             [
              0.4444444444444444,
              "#bd3786"
             ],
             [
              0.5555555555555556,
              "#d8576b"
             ],
             [
              0.6666666666666666,
              "#ed7953"
             ],
             [
              0.7777777777777778,
              "#fb9f3a"
             ],
             [
              0.8888888888888888,
              "#fdca26"
             ],
             [
              1,
              "#f0f921"
             ]
            ],
            "type": "histogram2dcontour"
           }
          ],
          "mesh3d": [
           {
            "colorbar": {
             "outlinewidth": 0,
             "ticks": ""
            },
            "type": "mesh3d"
           }
          ],
          "parcoords": [
           {
            "line": {
             "colorbar": {
              "outlinewidth": 0,
              "ticks": ""
             }
            },
            "type": "parcoords"
           }
          ],
          "pie": [
           {
            "automargin": true,
            "type": "pie"
           }
          ],
          "scatter": [
           {
            "marker": {
             "line": {
              "color": "#283442"
             }
            },
            "type": "scatter"
           }
          ],
          "scatter3d": [
           {
            "line": {
             "colorbar": {
              "outlinewidth": 0,
              "ticks": ""
             }
            },
            "marker": {
             "colorbar": {
              "outlinewidth": 0,
              "ticks": ""
             }
            },
            "type": "scatter3d"
           }
          ],
          "scattercarpet": [
           {
            "marker": {
             "colorbar": {
              "outlinewidth": 0,
              "ticks": ""
             }
            },
            "type": "scattercarpet"
           }
          ],
          "scattergeo": [
           {
            "marker": {
             "colorbar": {
              "outlinewidth": 0,
              "ticks": ""
             }
            },
            "type": "scattergeo"
           }
          ],
          "scattergl": [
           {
            "marker": {
             "line": {
              "color": "#283442"
             }
            },
            "type": "scattergl"
           }
          ],
          "scattermapbox": [
           {
            "marker": {
             "colorbar": {
              "outlinewidth": 0,
              "ticks": ""
             }
            },
            "type": "scattermapbox"
           }
          ],
          "scatterpolar": [
           {
            "marker": {
             "colorbar": {
              "outlinewidth": 0,
              "ticks": ""
             }
            },
            "type": "scatterpolar"
           }
          ],
          "scatterpolargl": [
           {
            "marker": {
             "colorbar": {
              "outlinewidth": 0,
              "ticks": ""
             }
            },
            "type": "scatterpolargl"
           }
          ],
          "scatterternary": [
           {
            "marker": {
             "colorbar": {
              "outlinewidth": 0,
              "ticks": ""
             }
            },
            "type": "scatterternary"
           }
          ],
          "surface": [
           {
            "colorbar": {
             "outlinewidth": 0,
             "ticks": ""
            },
            "colorscale": [
             [
              0,
              "#0d0887"
             ],
             [
              0.1111111111111111,
              "#46039f"
             ],
             [
              0.2222222222222222,
              "#7201a8"
             ],
             [
              0.3333333333333333,
              "#9c179e"
             ],
             [
              0.4444444444444444,
              "#bd3786"
             ],
             [
              0.5555555555555556,
              "#d8576b"
             ],
             [
              0.6666666666666666,
              "#ed7953"
             ],
             [
              0.7777777777777778,
              "#fb9f3a"
             ],
             [
              0.8888888888888888,
              "#fdca26"
             ],
             [
              1,
              "#f0f921"
             ]
            ],
            "type": "surface"
           }
          ],
          "table": [
           {
            "cells": {
             "fill": {
              "color": "#506784"
             },
             "line": {
              "color": "rgb(17,17,17)"
             }
            },
            "header": {
             "fill": {
              "color": "#2a3f5f"
             },
             "line": {
              "color": "rgb(17,17,17)"
             }
            },
            "type": "table"
           }
          ]
         },
         "layout": {
          "annotationdefaults": {
           "arrowcolor": "#f2f5fa",
           "arrowhead": 0,
           "arrowwidth": 1
          },
          "autotypenumbers": "strict",
          "coloraxis": {
           "colorbar": {
            "outlinewidth": 0,
            "ticks": ""
           }
          },
          "colorscale": {
           "diverging": [
            [
             0,
             "#8e0152"
            ],
            [
             0.1,
             "#c51b7d"
            ],
            [
             0.2,
             "#de77ae"
            ],
            [
             0.3,
             "#f1b6da"
            ],
            [
             0.4,
             "#fde0ef"
            ],
            [
             0.5,
             "#f7f7f7"
            ],
            [
             0.6,
             "#e6f5d0"
            ],
            [
             0.7,
             "#b8e186"
            ],
            [
             0.8,
             "#7fbc41"
            ],
            [
             0.9,
             "#4d9221"
            ],
            [
             1,
             "#276419"
            ]
           ],
           "sequential": [
            [
             0,
             "#0d0887"
            ],
            [
             0.1111111111111111,
             "#46039f"
            ],
            [
             0.2222222222222222,
             "#7201a8"
            ],
            [
             0.3333333333333333,
             "#9c179e"
            ],
            [
             0.4444444444444444,
             "#bd3786"
            ],
            [
             0.5555555555555556,
             "#d8576b"
            ],
            [
             0.6666666666666666,
             "#ed7953"
            ],
            [
             0.7777777777777778,
             "#fb9f3a"
            ],
            [
             0.8888888888888888,
             "#fdca26"
            ],
            [
             1,
             "#f0f921"
            ]
           ],
           "sequentialminus": [
            [
             0,
             "#0d0887"
            ],
            [
             0.1111111111111111,
             "#46039f"
            ],
            [
             0.2222222222222222,
             "#7201a8"
            ],
            [
             0.3333333333333333,
             "#9c179e"
            ],
            [
             0.4444444444444444,
             "#bd3786"
            ],
            [
             0.5555555555555556,
             "#d8576b"
            ],
            [
             0.6666666666666666,
             "#ed7953"
            ],
            [
             0.7777777777777778,
             "#fb9f3a"
            ],
            [
             0.8888888888888888,
             "#fdca26"
            ],
            [
             1,
             "#f0f921"
            ]
           ]
          },
          "colorway": [
           "#636efa",
           "#EF553B",
           "#00cc96",
           "#ab63fa",
           "#FFA15A",
           "#19d3f3",
           "#FF6692",
           "#B6E880",
           "#FF97FF",
           "#FECB52"
          ],
          "font": {
           "color": "#f2f5fa"
          },
          "geo": {
           "bgcolor": "rgb(17,17,17)",
           "lakecolor": "rgb(17,17,17)",
           "landcolor": "rgb(17,17,17)",
           "showlakes": true,
           "showland": true,
           "subunitcolor": "#506784"
          },
          "hoverlabel": {
           "align": "left"
          },
          "hovermode": "closest",
          "mapbox": {
           "style": "dark"
          },
          "paper_bgcolor": "rgb(17,17,17)",
          "plot_bgcolor": "rgb(17,17,17)",
          "polar": {
           "angularaxis": {
            "gridcolor": "#506784",
            "linecolor": "#506784",
            "ticks": ""
           },
           "bgcolor": "rgb(17,17,17)",
           "radialaxis": {
            "gridcolor": "#506784",
            "linecolor": "#506784",
            "ticks": ""
           }
          },
          "scene": {
           "xaxis": {
            "backgroundcolor": "rgb(17,17,17)",
            "gridcolor": "#506784",
            "gridwidth": 2,
            "linecolor": "#506784",
            "showbackground": true,
            "ticks": "",
            "zerolinecolor": "#C8D4E3"
           },
           "yaxis": {
            "backgroundcolor": "rgb(17,17,17)",
            "gridcolor": "#506784",
            "gridwidth": 2,
            "linecolor": "#506784",
            "showbackground": true,
            "ticks": "",
            "zerolinecolor": "#C8D4E3"
           },
           "zaxis": {
            "backgroundcolor": "rgb(17,17,17)",
            "gridcolor": "#506784",
            "gridwidth": 2,
            "linecolor": "#506784",
            "showbackground": true,
            "ticks": "",
            "zerolinecolor": "#C8D4E3"
           }
          },
          "shapedefaults": {
           "line": {
            "color": "#f2f5fa"
           }
          },
          "sliderdefaults": {
           "bgcolor": "#C8D4E3",
           "bordercolor": "rgb(17,17,17)",
           "borderwidth": 1,
           "tickwidth": 0
          },
          "ternary": {
           "aaxis": {
            "gridcolor": "#506784",
            "linecolor": "#506784",
            "ticks": ""
           },
           "baxis": {
            "gridcolor": "#506784",
            "linecolor": "#506784",
            "ticks": ""
           },
           "bgcolor": "rgb(17,17,17)",
           "caxis": {
            "gridcolor": "#506784",
            "linecolor": "#506784",
            "ticks": ""
           }
          },
          "title": {
           "x": 0.05
          },
          "updatemenudefaults": {
           "bgcolor": "#506784",
           "borderwidth": 0
          },
          "xaxis": {
           "automargin": true,
           "gridcolor": "#283442",
           "linecolor": "#506784",
           "ticks": "",
           "title": {
            "standoff": 15
           },
           "zerolinecolor": "#283442",
           "zerolinewidth": 2
          },
          "yaxis": {
           "automargin": true,
           "gridcolor": "#283442",
           "linecolor": "#506784",
           "ticks": "",
           "title": {
            "standoff": 15
           },
           "zerolinecolor": "#283442",
           "zerolinewidth": 2
          }
         }
        },
        "title": {
         "text": "ETF (AAA) LightGBM Prediction Prices"
        },
        "xaxis": {
         "title": {
          "text": "Date"
         }
        },
        "yaxis": {
         "title": {
          "text": "Prices ($)"
         }
        }
       }
      }
     },
     "metadata": {},
     "output_type": "display_data"
    }
   ],
   "source": [
    "# Graph Prediciton Data\n",
    "for_graph_2 = y_valid\n",
    "for_graph_2[\"Prediction\"] = pred_2\n",
    "\n",
    "# Graph of Prediction\n",
    "pred_graph_2 = go.Figure()\n",
    "pred_graph_2.add_trace(go.Scatter(x = for_graph_2.index, y = for_graph_2[\"close\"], name = \"Real Price\", marker_color = \"green\"))\n",
    "pred_graph_2.add_trace(go.Scatter(x = for_graph_2.index, y = for_graph_2[\"Prediction\"], name = \"Prediction Price\", marker_color = \"red\"))\n",
    "pred_graph_2.update_layout(title = f\"ETF (AAA) LightGBM Prediction Prices\", legend = dict(orientation=\"h\",yanchor=\"bottom\",y=1.02,xanchor=\"right\",x=1),template =\"plotly_dark\")\n",
    "pred_graph_2.update_xaxes(title = \"Date\")\n",
    "pred_graph_2.update_yaxes(title =\"Prices ($)\")\n",
    "pred_graph_2.show()"
   ]
  },
  {
   "cell_type": "markdown",
   "metadata": {},
   "source": [
    "### Compare to models"
   ]
  },
  {
   "cell_type": "code",
   "execution_count": 32,
   "metadata": {},
   "outputs": [
    {
     "data": {
      "application/vnd.plotly.v1+json": {
       "config": {
        "plotlyServerURL": "https://plot.ly"
       },
       "data": [
        {
         "marker": {
          "color": "blue"
         },
         "name": "Xgboost Price",
         "type": "scatter",
         "x": [
          "2021-09-02T00:00:00",
          "2021-09-03T00:00:00",
          "2021-09-07T00:00:00",
          "2021-09-08T00:00:00",
          "2021-09-09T00:00:00",
          "2021-09-10T00:00:00",
          "2021-09-13T00:00:00",
          "2021-09-14T00:00:00",
          "2021-09-15T00:00:00",
          "2021-09-16T00:00:00",
          "2021-09-17T00:00:00",
          "2021-09-20T00:00:00",
          "2021-09-21T00:00:00",
          "2021-09-22T00:00:00",
          "2021-09-23T00:00:00",
          "2021-09-24T00:00:00",
          "2021-09-27T00:00:00",
          "2021-09-28T00:00:00",
          "2021-09-29T00:00:00",
          "2021-09-30T00:00:00",
          "2021-10-01T00:00:00",
          "2021-10-04T00:00:00",
          "2021-10-05T00:00:00",
          "2021-10-06T00:00:00",
          "2021-10-07T00:00:00",
          "2021-10-08T00:00:00",
          "2021-10-11T00:00:00",
          "2021-10-12T00:00:00",
          "2021-10-13T00:00:00",
          "2021-10-14T00:00:00",
          "2021-10-15T00:00:00",
          "2021-10-18T00:00:00",
          "2021-10-19T00:00:00",
          "2021-10-20T00:00:00",
          "2021-10-21T00:00:00",
          "2021-10-22T00:00:00",
          "2021-10-25T00:00:00",
          "2021-10-26T00:00:00",
          "2021-10-27T00:00:00",
          "2021-10-28T00:00:00",
          "2021-10-29T00:00:00",
          "2021-11-01T00:00:00",
          "2021-11-02T00:00:00",
          "2021-11-03T00:00:00",
          "2021-11-04T00:00:00",
          "2021-11-05T00:00:00",
          "2021-11-08T00:00:00",
          "2021-11-09T00:00:00",
          "2021-11-10T00:00:00",
          "2021-11-11T00:00:00",
          "2021-11-12T00:00:00",
          "2021-11-15T00:00:00",
          "2021-11-16T00:00:00",
          "2021-11-17T00:00:00",
          "2021-11-18T00:00:00",
          "2021-11-19T00:00:00",
          "2021-11-22T00:00:00",
          "2021-11-23T00:00:00",
          "2021-11-24T00:00:00",
          "2021-11-26T00:00:00",
          "2021-11-29T00:00:00",
          "2021-11-30T00:00:00"
         ],
         "y": [
          25.00013979487887,
          24.999239893567648,
          24.99974007279731,
          24.99956144358257,
          25.00019164331173,
          24.999729505665215,
          24.995395869624808,
          25.00649731767953,
          24.99974007279731,
          24.99974007279731,
          25.00019164331173,
          25.002516169790706,
          25.00019164331173,
          25.009695789797377,
          25.010426583611295,
          25.009749061675066,
          25.009492746616996,
          25.014320238343704,
          25.019902008941234,
          25.00961549596341,
          25.001613416274907,
          25.004073611245023,
          24.99944242794828,
          24.99007611949633,
          25.002475418021916,
          24.99379535797876,
          25.001030637710766,
          24.993895990515007,
          25.00019164331173,
          24.99974007279731,
          25.002516169790706,
          25.002645376244356,
          25.001030637710766,
          25.00019164331173,
          24.99974007279731,
          25.004058844479445,
          24.999175595870437,
          25.009749061675066,
          25.01024212146544,
          25.001413387098406,
          25.000429371283545,
          24.98880400191556,
          24.98880400191556,
          24.98727720574033,
          24.98880400191556,
          25.012638971029652,
          25.048218969964697,
          25.034515216465984,
          25.049216074641603,
          25.049247412397953,
          25.032203825233147,
          25.024138655732948,
          25.05002579975249,
          25.052741076547722,
          25.02319121932281,
          25.022710684356145,
          25.050336580490306,
          25.023876319649872,
          25.023827512042157,
          25.024219945298505,
          25.023100653842462,
          25.03951513006862
         ]
        },
        {
         "line": {
          "dash": "dash"
         },
         "marker": {
          "color": "red"
         },
         "name": "LightGBM Price",
         "type": "scatter",
         "x": [
          "2021-09-02T00:00:00",
          "2021-09-03T00:00:00",
          "2021-09-07T00:00:00",
          "2021-09-08T00:00:00",
          "2021-09-09T00:00:00",
          "2021-09-10T00:00:00",
          "2021-09-13T00:00:00",
          "2021-09-14T00:00:00",
          "2021-09-15T00:00:00",
          "2021-09-16T00:00:00",
          "2021-09-17T00:00:00",
          "2021-09-20T00:00:00",
          "2021-09-21T00:00:00",
          "2021-09-22T00:00:00",
          "2021-09-23T00:00:00",
          "2021-09-24T00:00:00",
          "2021-09-27T00:00:00",
          "2021-09-28T00:00:00",
          "2021-09-29T00:00:00",
          "2021-09-30T00:00:00",
          "2021-10-01T00:00:00",
          "2021-10-04T00:00:00",
          "2021-10-05T00:00:00",
          "2021-10-06T00:00:00",
          "2021-10-07T00:00:00",
          "2021-10-08T00:00:00",
          "2021-10-11T00:00:00",
          "2021-10-12T00:00:00",
          "2021-10-13T00:00:00",
          "2021-10-14T00:00:00",
          "2021-10-15T00:00:00",
          "2021-10-18T00:00:00",
          "2021-10-19T00:00:00",
          "2021-10-20T00:00:00",
          "2021-10-21T00:00:00",
          "2021-10-22T00:00:00",
          "2021-10-25T00:00:00",
          "2021-10-26T00:00:00",
          "2021-10-27T00:00:00",
          "2021-10-28T00:00:00",
          "2021-10-29T00:00:00",
          "2021-11-01T00:00:00",
          "2021-11-02T00:00:00",
          "2021-11-03T00:00:00",
          "2021-11-04T00:00:00",
          "2021-11-05T00:00:00",
          "2021-11-08T00:00:00",
          "2021-11-09T00:00:00",
          "2021-11-10T00:00:00",
          "2021-11-11T00:00:00",
          "2021-11-12T00:00:00",
          "2021-11-15T00:00:00",
          "2021-11-16T00:00:00",
          "2021-11-17T00:00:00",
          "2021-11-18T00:00:00",
          "2021-11-19T00:00:00",
          "2021-11-22T00:00:00",
          "2021-11-23T00:00:00",
          "2021-11-24T00:00:00",
          "2021-11-26T00:00:00",
          "2021-11-29T00:00:00",
          "2021-11-30T00:00:00"
         ],
         "y": [
          25.00013979487887,
          24.999239893567648,
          24.99974007279731,
          24.99956144358257,
          25.00019164331173,
          24.999729505665215,
          24.995395869624808,
          25.00649731767953,
          24.99974007279731,
          24.99974007279731,
          25.00019164331173,
          25.002516169790706,
          25.00019164331173,
          25.009695789797377,
          25.010426583611295,
          25.009749061675066,
          25.009492746616996,
          25.014320238343704,
          25.019902008941234,
          25.00961549596341,
          25.001613416274907,
          25.004073611245023,
          24.99944242794828,
          24.99007611949633,
          25.002475418021916,
          24.99379535797876,
          25.001030637710766,
          24.993895990515007,
          25.00019164331173,
          24.99974007279731,
          25.002516169790706,
          25.002645376244356,
          25.001030637710766,
          25.00019164331173,
          24.99974007279731,
          25.004058844479445,
          24.999175595870437,
          25.009749061675066,
          25.01024212146544,
          25.001413387098406,
          25.000429371283545,
          24.98880400191556,
          24.98880400191556,
          24.98727720574033,
          24.98880400191556,
          25.012638971029652,
          25.048218969964697,
          25.034515216465984,
          25.049216074641603,
          25.049247412397953,
          25.032203825233147,
          25.024138655732948,
          25.05002579975249,
          25.052741076547722,
          25.02319121932281,
          25.022710684356145,
          25.050336580490306,
          25.023876319649872,
          25.023827512042157,
          25.024219945298505,
          25.023100653842462,
          25.03951513006862
         ]
        }
       ],
       "layout": {
        "legend": {
         "orientation": "h",
         "x": 1,
         "xanchor": "right",
         "y": 1.02,
         "yanchor": "bottom"
        },
        "template": {
         "data": {
          "bar": [
           {
            "error_x": {
             "color": "#f2f5fa"
            },
            "error_y": {
             "color": "#f2f5fa"
            },
            "marker": {
             "line": {
              "color": "rgb(17,17,17)",
              "width": 0.5
             },
             "pattern": {
              "fillmode": "overlay",
              "size": 10,
              "solidity": 0.2
             }
            },
            "type": "bar"
           }
          ],
          "barpolar": [
           {
            "marker": {
             "line": {
              "color": "rgb(17,17,17)",
              "width": 0.5
             },
             "pattern": {
              "fillmode": "overlay",
              "size": 10,
              "solidity": 0.2
             }
            },
            "type": "barpolar"
           }
          ],
          "carpet": [
           {
            "aaxis": {
             "endlinecolor": "#A2B1C6",
             "gridcolor": "#506784",
             "linecolor": "#506784",
             "minorgridcolor": "#506784",
             "startlinecolor": "#A2B1C6"
            },
            "baxis": {
             "endlinecolor": "#A2B1C6",
             "gridcolor": "#506784",
             "linecolor": "#506784",
             "minorgridcolor": "#506784",
             "startlinecolor": "#A2B1C6"
            },
            "type": "carpet"
           }
          ],
          "choropleth": [
           {
            "colorbar": {
             "outlinewidth": 0,
             "ticks": ""
            },
            "type": "choropleth"
           }
          ],
          "contour": [
           {
            "colorbar": {
             "outlinewidth": 0,
             "ticks": ""
            },
            "colorscale": [
             [
              0,
              "#0d0887"
             ],
             [
              0.1111111111111111,
              "#46039f"
             ],
             [
              0.2222222222222222,
              "#7201a8"
             ],
             [
              0.3333333333333333,
              "#9c179e"
             ],
             [
              0.4444444444444444,
              "#bd3786"
             ],
             [
              0.5555555555555556,
              "#d8576b"
             ],
             [
              0.6666666666666666,
              "#ed7953"
             ],
             [
              0.7777777777777778,
              "#fb9f3a"
             ],
             [
              0.8888888888888888,
              "#fdca26"
             ],
             [
              1,
              "#f0f921"
             ]
            ],
            "type": "contour"
           }
          ],
          "contourcarpet": [
           {
            "colorbar": {
             "outlinewidth": 0,
             "ticks": ""
            },
            "type": "contourcarpet"
           }
          ],
          "heatmap": [
           {
            "colorbar": {
             "outlinewidth": 0,
             "ticks": ""
            },
            "colorscale": [
             [
              0,
              "#0d0887"
             ],
             [
              0.1111111111111111,
              "#46039f"
             ],
             [
              0.2222222222222222,
              "#7201a8"
             ],
             [
              0.3333333333333333,
              "#9c179e"
             ],
             [
              0.4444444444444444,
              "#bd3786"
             ],
             [
              0.5555555555555556,
              "#d8576b"
             ],
             [
              0.6666666666666666,
              "#ed7953"
             ],
             [
              0.7777777777777778,
              "#fb9f3a"
             ],
             [
              0.8888888888888888,
              "#fdca26"
             ],
             [
              1,
              "#f0f921"
             ]
            ],
            "type": "heatmap"
           }
          ],
          "heatmapgl": [
           {
            "colorbar": {
             "outlinewidth": 0,
             "ticks": ""
            },
            "colorscale": [
             [
              0,
              "#0d0887"
             ],
             [
              0.1111111111111111,
              "#46039f"
             ],
             [
              0.2222222222222222,
              "#7201a8"
             ],
             [
              0.3333333333333333,
              "#9c179e"
             ],
             [
              0.4444444444444444,
              "#bd3786"
             ],
             [
              0.5555555555555556,
              "#d8576b"
             ],
             [
              0.6666666666666666,
              "#ed7953"
             ],
             [
              0.7777777777777778,
              "#fb9f3a"
             ],
             [
              0.8888888888888888,
              "#fdca26"
             ],
             [
              1,
              "#f0f921"
             ]
            ],
            "type": "heatmapgl"
           }
          ],
          "histogram": [
           {
            "marker": {
             "pattern": {
              "fillmode": "overlay",
              "size": 10,
              "solidity": 0.2
             }
            },
            "type": "histogram"
           }
          ],
          "histogram2d": [
           {
            "colorbar": {
             "outlinewidth": 0,
             "ticks": ""
            },
            "colorscale": [
             [
              0,
              "#0d0887"
             ],
             [
              0.1111111111111111,
              "#46039f"
             ],
             [
              0.2222222222222222,
              "#7201a8"
             ],
             [
              0.3333333333333333,
              "#9c179e"
             ],
             [
              0.4444444444444444,
              "#bd3786"
             ],
             [
              0.5555555555555556,
              "#d8576b"
             ],
             [
              0.6666666666666666,
              "#ed7953"
             ],
             [
              0.7777777777777778,
              "#fb9f3a"
             ],
             [
              0.8888888888888888,
              "#fdca26"
             ],
             [
              1,
              "#f0f921"
             ]
            ],
            "type": "histogram2d"
           }
          ],
          "histogram2dcontour": [
           {
            "colorbar": {
             "outlinewidth": 0,
             "ticks": ""
            },
            "colorscale": [
             [
              0,
              "#0d0887"
             ],
             [
              0.1111111111111111,
              "#46039f"
             ],
             [
              0.2222222222222222,
              "#7201a8"
             ],
             [
              0.3333333333333333,
              "#9c179e"
             ],
             [
              0.4444444444444444,
              "#bd3786"
             ],
             [
              0.5555555555555556,
              "#d8576b"
             ],
             [
              0.6666666666666666,
              "#ed7953"
             ],
             [
              0.7777777777777778,
              "#fb9f3a"
             ],
             [
              0.8888888888888888,
              "#fdca26"
             ],
             [
              1,
              "#f0f921"
             ]
            ],
            "type": "histogram2dcontour"
           }
          ],
          "mesh3d": [
           {
            "colorbar": {
             "outlinewidth": 0,
             "ticks": ""
            },
            "type": "mesh3d"
           }
          ],
          "parcoords": [
           {
            "line": {
             "colorbar": {
              "outlinewidth": 0,
              "ticks": ""
             }
            },
            "type": "parcoords"
           }
          ],
          "pie": [
           {
            "automargin": true,
            "type": "pie"
           }
          ],
          "scatter": [
           {
            "marker": {
             "line": {
              "color": "#283442"
             }
            },
            "type": "scatter"
           }
          ],
          "scatter3d": [
           {
            "line": {
             "colorbar": {
              "outlinewidth": 0,
              "ticks": ""
             }
            },
            "marker": {
             "colorbar": {
              "outlinewidth": 0,
              "ticks": ""
             }
            },
            "type": "scatter3d"
           }
          ],
          "scattercarpet": [
           {
            "marker": {
             "colorbar": {
              "outlinewidth": 0,
              "ticks": ""
             }
            },
            "type": "scattercarpet"
           }
          ],
          "scattergeo": [
           {
            "marker": {
             "colorbar": {
              "outlinewidth": 0,
              "ticks": ""
             }
            },
            "type": "scattergeo"
           }
          ],
          "scattergl": [
           {
            "marker": {
             "line": {
              "color": "#283442"
             }
            },
            "type": "scattergl"
           }
          ],
          "scattermapbox": [
           {
            "marker": {
             "colorbar": {
              "outlinewidth": 0,
              "ticks": ""
             }
            },
            "type": "scattermapbox"
           }
          ],
          "scatterpolar": [
           {
            "marker": {
             "colorbar": {
              "outlinewidth": 0,
              "ticks": ""
             }
            },
            "type": "scatterpolar"
           }
          ],
          "scatterpolargl": [
           {
            "marker": {
             "colorbar": {
              "outlinewidth": 0,
              "ticks": ""
             }
            },
            "type": "scatterpolargl"
           }
          ],
          "scatterternary": [
           {
            "marker": {
             "colorbar": {
              "outlinewidth": 0,
              "ticks": ""
             }
            },
            "type": "scatterternary"
           }
          ],
          "surface": [
           {
            "colorbar": {
             "outlinewidth": 0,
             "ticks": ""
            },
            "colorscale": [
             [
              0,
              "#0d0887"
             ],
             [
              0.1111111111111111,
              "#46039f"
             ],
             [
              0.2222222222222222,
              "#7201a8"
             ],
             [
              0.3333333333333333,
              "#9c179e"
             ],
             [
              0.4444444444444444,
              "#bd3786"
             ],
             [
              0.5555555555555556,
              "#d8576b"
             ],
             [
              0.6666666666666666,
              "#ed7953"
             ],
             [
              0.7777777777777778,
              "#fb9f3a"
             ],
             [
              0.8888888888888888,
              "#fdca26"
             ],
             [
              1,
              "#f0f921"
             ]
            ],
            "type": "surface"
           }
          ],
          "table": [
           {
            "cells": {
             "fill": {
              "color": "#506784"
             },
             "line": {
              "color": "rgb(17,17,17)"
             }
            },
            "header": {
             "fill": {
              "color": "#2a3f5f"
             },
             "line": {
              "color": "rgb(17,17,17)"
             }
            },
            "type": "table"
           }
          ]
         },
         "layout": {
          "annotationdefaults": {
           "arrowcolor": "#f2f5fa",
           "arrowhead": 0,
           "arrowwidth": 1
          },
          "autotypenumbers": "strict",
          "coloraxis": {
           "colorbar": {
            "outlinewidth": 0,
            "ticks": ""
           }
          },
          "colorscale": {
           "diverging": [
            [
             0,
             "#8e0152"
            ],
            [
             0.1,
             "#c51b7d"
            ],
            [
             0.2,
             "#de77ae"
            ],
            [
             0.3,
             "#f1b6da"
            ],
            [
             0.4,
             "#fde0ef"
            ],
            [
             0.5,
             "#f7f7f7"
            ],
            [
             0.6,
             "#e6f5d0"
            ],
            [
             0.7,
             "#b8e186"
            ],
            [
             0.8,
             "#7fbc41"
            ],
            [
             0.9,
             "#4d9221"
            ],
            [
             1,
             "#276419"
            ]
           ],
           "sequential": [
            [
             0,
             "#0d0887"
            ],
            [
             0.1111111111111111,
             "#46039f"
            ],
            [
             0.2222222222222222,
             "#7201a8"
            ],
            [
             0.3333333333333333,
             "#9c179e"
            ],
            [
             0.4444444444444444,
             "#bd3786"
            ],
            [
             0.5555555555555556,
             "#d8576b"
            ],
            [
             0.6666666666666666,
             "#ed7953"
            ],
            [
             0.7777777777777778,
             "#fb9f3a"
            ],
            [
             0.8888888888888888,
             "#fdca26"
            ],
            [
             1,
             "#f0f921"
            ]
           ],
           "sequentialminus": [
            [
             0,
             "#0d0887"
            ],
            [
             0.1111111111111111,
             "#46039f"
            ],
            [
             0.2222222222222222,
             "#7201a8"
            ],
            [
             0.3333333333333333,
             "#9c179e"
            ],
            [
             0.4444444444444444,
             "#bd3786"
            ],
            [
             0.5555555555555556,
             "#d8576b"
            ],
            [
             0.6666666666666666,
             "#ed7953"
            ],
            [
             0.7777777777777778,
             "#fb9f3a"
            ],
            [
             0.8888888888888888,
             "#fdca26"
            ],
            [
             1,
             "#f0f921"
            ]
           ]
          },
          "colorway": [
           "#636efa",
           "#EF553B",
           "#00cc96",
           "#ab63fa",
           "#FFA15A",
           "#19d3f3",
           "#FF6692",
           "#B6E880",
           "#FF97FF",
           "#FECB52"
          ],
          "font": {
           "color": "#f2f5fa"
          },
          "geo": {
           "bgcolor": "rgb(17,17,17)",
           "lakecolor": "rgb(17,17,17)",
           "landcolor": "rgb(17,17,17)",
           "showlakes": true,
           "showland": true,
           "subunitcolor": "#506784"
          },
          "hoverlabel": {
           "align": "left"
          },
          "hovermode": "closest",
          "mapbox": {
           "style": "dark"
          },
          "paper_bgcolor": "rgb(17,17,17)",
          "plot_bgcolor": "rgb(17,17,17)",
          "polar": {
           "angularaxis": {
            "gridcolor": "#506784",
            "linecolor": "#506784",
            "ticks": ""
           },
           "bgcolor": "rgb(17,17,17)",
           "radialaxis": {
            "gridcolor": "#506784",
            "linecolor": "#506784",
            "ticks": ""
           }
          },
          "scene": {
           "xaxis": {
            "backgroundcolor": "rgb(17,17,17)",
            "gridcolor": "#506784",
            "gridwidth": 2,
            "linecolor": "#506784",
            "showbackground": true,
            "ticks": "",
            "zerolinecolor": "#C8D4E3"
           },
           "yaxis": {
            "backgroundcolor": "rgb(17,17,17)",
            "gridcolor": "#506784",
            "gridwidth": 2,
            "linecolor": "#506784",
            "showbackground": true,
            "ticks": "",
            "zerolinecolor": "#C8D4E3"
           },
           "zaxis": {
            "backgroundcolor": "rgb(17,17,17)",
            "gridcolor": "#506784",
            "gridwidth": 2,
            "linecolor": "#506784",
            "showbackground": true,
            "ticks": "",
            "zerolinecolor": "#C8D4E3"
           }
          },
          "shapedefaults": {
           "line": {
            "color": "#f2f5fa"
           }
          },
          "sliderdefaults": {
           "bgcolor": "#C8D4E3",
           "bordercolor": "rgb(17,17,17)",
           "borderwidth": 1,
           "tickwidth": 0
          },
          "ternary": {
           "aaxis": {
            "gridcolor": "#506784",
            "linecolor": "#506784",
            "ticks": ""
           },
           "baxis": {
            "gridcolor": "#506784",
            "linecolor": "#506784",
            "ticks": ""
           },
           "bgcolor": "rgb(17,17,17)",
           "caxis": {
            "gridcolor": "#506784",
            "linecolor": "#506784",
            "ticks": ""
           }
          },
          "title": {
           "x": 0.05
          },
          "updatemenudefaults": {
           "bgcolor": "#506784",
           "borderwidth": 0
          },
          "xaxis": {
           "automargin": true,
           "gridcolor": "#283442",
           "linecolor": "#506784",
           "ticks": "",
           "title": {
            "standoff": 15
           },
           "zerolinecolor": "#283442",
           "zerolinewidth": 2
          },
          "yaxis": {
           "automargin": true,
           "gridcolor": "#283442",
           "linecolor": "#506784",
           "ticks": "",
           "title": {
            "standoff": 15
           },
           "zerolinecolor": "#283442",
           "zerolinewidth": 2
          }
         }
        },
        "title": {
         "text": "ETF (AAA) Model Predictions Prices"
        },
        "xaxis": {
         "title": {
          "text": "Date"
         }
        },
        "yaxis": {
         "title": {
          "text": "Prices ($)"
         }
        }
       }
      }
     },
     "metadata": {},
     "output_type": "display_data"
    }
   ],
   "source": [
    "# Graph of Prediction\n",
    "pred_graph_3 = go.Figure()\n",
    "pred_graph_3.add_trace(go.Scatter(x = for_graph.index, y = for_graph[\"Prediction\"], name = \"Xgboost Price\", marker_color = \"blue\"))\n",
    "pred_graph_3.add_trace(go.Scatter(x = for_graph_2.index, y = for_graph_2[\"Prediction\"], name = \"LightGBM Price\", marker_color = \"red\",line=dict(dash =\"dash\")))\n",
    "pred_graph_3.update_layout(title = f\"ETF (AAA) Model Predictions Prices\", legend = dict(orientation=\"h\",yanchor=\"bottom\",y=1.02,xanchor=\"right\",x=1),template =\"plotly_dark\")\n",
    "pred_graph_3.update_xaxes(title = \"Date\")\n",
    "pred_graph_3.update_yaxes(title =\"Prices ($)\")\n",
    "pred_graph_3.show()"
   ]
  }
 ],
 "metadata": {
  "kernelspec": {
   "display_name": "Python 3",
   "language": "python",
   "name": "python3"
  },
  "language_info": {
   "codemirror_mode": {
    "name": "ipython",
    "version": 3
   },
   "file_extension": ".py",
   "mimetype": "text/x-python",
   "name": "python",
   "nbconvert_exporter": "python",
   "pygments_lexer": "ipython3",
   "version": "3.9.5"
  },
  "orig_nbformat": 4
 },
 "nbformat": 4,
 "nbformat_minor": 2
}
